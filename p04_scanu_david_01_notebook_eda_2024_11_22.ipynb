{
  "nbformat": 4,
  "nbformat_minor": 0,
  "metadata": {
    "colab": {
      "provenance": [],
      "collapsed_sections": [
        "jZ5ti36be4rE",
        "85P_PmZYLxR1",
        "7zQkbj8VOv1A",
        "_0xi8Pv54nLS",
        "sABHkf20ZTCm",
        "qasZSVFPZVui",
        "Off2Z3pUZYx4",
        "LX08oKkqmLTd"
      ],
      "include_colab_link": true
    },
    "kernelspec": {
      "name": "python3",
      "display_name": "Python 3"
    },
    "language_info": {
      "name": "python"
    }
  },
  "cells": [
    {
      "cell_type": "markdown",
      "metadata": {
        "id": "view-in-github",
        "colab_type": "text"
      },
      "source": [
        "<a href=\"https://colab.research.google.com/github/DavidScanu/oc-ai-engineer-p04-scoring/blob/main/p04_scanu_david_01_notebook_eda_2024_11_22.ipynb\" target=\"_parent\"><img src=\"https://colab.research.google.com/assets/colab-badge.svg\" alt=\"Open In Colab\"/></a>"
      ]
    },
    {
      "cell_type": "markdown",
      "source": [
        "<img src=\"https://raw.githubusercontent.com/DavidScanu/oc-ai-engineer-p04-scoring/refs/heads/main/images/oc-banner-project-04-1660-v1.png\" />\n",
        "\n",
        "# Projet 4 - Construisez un modèle de scoring (Partie 1)\n",
        "\n",
        "> 🎓 OpenClassrooms • Parcours [AI Engineer](https://openclassrooms.com/fr/paths/795-ai-engineer) | 👋 *Etudiant* : [David Scanu](https://www.linkedin.com/in/davidscanu14/)\n",
        "\n",
        "## 📝 Contexte\n",
        "\n",
        "Vous êtes Data Scientist au sein d'une société financière, nommée \"Prêt à dépenser\", qui propose des crédits à la consommation pour des personnes ayant peu ou pas d'historique de prêt. Pour accorder un crédit à la consommation, l’entreprise souhaite **mettre en œuvre un outil de “scoring crédit”** qui calcule la probabilité qu’un client le rembourse ou non, puis classifie la demande : crédit accordé ou refusé. Les chargés de relation client seront les utilisateurs de l’outil de scoring et ont besoin que le modèle soit facilement interprétable, avec une mesure de l’importance des variables influençant la décision.\n",
        "\n",
        "## ⚡ Mission\n",
        "\n",
        ">  Développer un outil de **scoring crédit** qui calcule la probabilité qu’un client le rembourse ou non, puis classifie la demande : **crédit accordé** ou **refusé**.\n",
        "\n",
        "Le modèle doit être :\n",
        "- **Interprétable** par les équipes qui vont l’utiliser\n",
        "- Disposer d’une **mesure de l’importance des variables**\n",
        "- Prendre en compte le **déséquilibre entre le nombre de bons et de moins bons clients**\n",
        "- Prendre en compte le **coût métier** entre un faux négatif (FN) et un faux positif (FP)\n",
        "\n",
        "## 💾 Jeux de données\n",
        "\n",
        "Les données sont fournies par **Home Credit**, un service dédié à l'octroi de lignes de crédit (prêts) à la population non bancarisée.\n",
        "\n",
        "Pour réaliser ce modèle, [un jeu de données](https://s3-eu-west-1.amazonaws.com/static.oc-static.com/prod/courses/files/Parcours_data_scientist/Projet+-+Impl%C3%A9menter+un+mod%C3%A8le+de+scoring/Projet+Mise+en+prod+-+home-credit-default-risk.zip) contenant :\n",
        "\n",
        "- un historique de prêts,\n",
        "- un historique d’informations financières,\n",
        "- des informations sur le comportement des emprunteurs (si l’emprunteur a fait défaut ou pas).\n",
        "\n",
        "Les descriptions des colonnes du jeu de données sont disponibles ici : [p04-HomeCredit_columns_description | Google Sheet](https://docs.google.com/spreadsheets/d/1xHunq-9huLdwsmxzcC0foqXvP35-Riy_PlqViogj6wk/edit?usp=sharing)\n",
        "\n",
        "## Etapes\n",
        "\n",
        "- Étape 1 - Choisissez un kernel et effectuez un analyse exploratoire\n",
        "- Étape 2 - Définissez une métrique adaptée à la problématique métier\n",
        "- Étape 3 - Optimisation et évaluation des modèles de Machine Learning\n",
        "- Étape 4 - Développez un module d’explicabilité de votre modèle de Machine Learning\n",
        "\n",
        "## 🎯 Objectifs pédagogiques\n",
        "\n",
        "- Créer les variables pertinentes d'un modèle d'apprentissage supervisé ou non-supervisé\n",
        "- Évaluer les performances des modèles d’apprentissage supervisé selon différents critères\n",
        "- Sélectionner et entraîner des modèles d’apprentissage supervisé\n",
        "\n",
        "## 📊 Présentation\n",
        "\n",
        "- Compréhension de la problématique métier\n",
        "- Description du jeu de données\n",
        "- Transformation du jeu de données (nettoyage et feature engineering)\n",
        "- Comparaison et synthèse des résultats pour les modèles utilisés\n",
        "- Interprétabilité du modèle\n",
        "- Conclusion\n",
        "\n",
        "## 📦 Livrables\n",
        "\n",
        "- Un **Jupyter Notebook** d'analyse exploratoire et de feature engineering\n",
        "- Un **Jupyter Notebook** présentant les différentes parties de votre travail de modélisation\n",
        "- Une présentation (Google Slide)\n",
        "\n",
        "## 🙋‍♂️ Soutenance\n",
        "\n",
        "- **Présentation** (20 minutes)\n",
        "  - Rappel de la problématique, présentation du jeu de données et analyse exploratoire (5 minutes).\n",
        "  - Présentation de votre approche méthodologique et de la synthèse des résultats (15 minutes).\n",
        "- **Discussion** (5 minutes)\n",
        "  - L’évaluateur, jouant le rôle de Michaël, vous challengera sur vos choix.\n",
        "- **Débriefing** (5 minutes)\n",
        "  - À la fin de la soutenance, l'évaluateur arrêtera de jouer le rôle de Michaël pour vous permettre de débriefer ensemble."
      ],
      "metadata": {
        "id": "wrEsWPadFT3k"
      }
    },
    {
      "cell_type": "markdown",
      "source": [
        "## ⚙️ Installation et importation des bibliothèques nécessaires"
      ],
      "metadata": {
        "id": "YT_Xunh_F_yz"
      }
    },
    {
      "cell_type": "code",
      "execution_count": null,
      "metadata": {
        "id": "HkxbAgUEFQps"
      },
      "outputs": [],
      "source": [
        "import sklearn\n",
        "import matplotlib.pyplot as plt\n",
        "import matplotlib.colors\n",
        "import numpy as np\n",
        "import pandas as pd\n",
        "import seaborn as sns\n",
        "import scipy.stats as st # perform correlation calculation\n",
        "import plotly.express as px"
      ]
    },
    {
      "cell_type": "code",
      "source": [
        "# Apply the default theme for seaborn\n",
        "sns.set_theme()"
      ],
      "metadata": {
        "id": "rV6vlwEcGB72"
      },
      "execution_count": null,
      "outputs": []
    },
    {
      "cell_type": "code",
      "source": [
        "pd.set_option('display.max_columns', None)\n",
        "pd.set_option('display.max_rows', None)"
      ],
      "metadata": {
        "id": "57dx1AodGCTR"
      },
      "execution_count": null,
      "outputs": []
    },
    {
      "cell_type": "markdown",
      "source": [
        "## ⭐ Etapes typiques d'un projet de data science\n",
        "\n",
        "<img src=\"https://raw.githubusercontent.com/ashishpatel26/Amazing-Feature-Engineering/refs/heads/master/images/workflow2.png\" />\n",
        "\n",
        "1. **Analyse exploratoire des données (EDA):**\n",
        "   * Visualisation des données (histogrammes, boxplots, nuages de points).\n",
        "   * Calcul des statistiques descriptives (moyenne, médiane, écart-type, corrélations).\n",
        "   * Identification des relations entre les variables.\n",
        "   * Détection des anomalies.\n",
        "\n",
        "2. **Nettoyage et formatage des données:**\n",
        "   * Identification et correction des erreurs (valeurs aberrantes, doublons, incohérences).\n",
        "\n",
        "3. **Ingénierie des caractéristiques:**\n",
        "   * Création de nouvelles variables pertinentes (interactions, transformations).\n",
        "   * Sélection des variables (Feature selection) : Sélection manuelle, méthodes statistiques, méthodes basées sur l'apprentissage.\n",
        "\n",
        "4. **Preprocessing**\n",
        "   * Normalisation ou standardisation des données numériques (gestion des outliers).\n",
        "   * Conversion des variables catégorielles en format numérique (encodage one-hot, label encoding).\n",
        "   * Gestion des valeurs manquantes (suppression, imputation, création d'une catégorie spécifique).\n",
        "\n",
        "5. **Sélection de modèle:**\n",
        "   * Choix d'une variété de modèles d'apprentissage automatique (régression linéaire, forêts aléatoires, réseaux de neurones, etc.).\n",
        "   * Entraînement des modèles sur les données d'entraînement.\n",
        "\n",
        "6. **Évaluation des modèles:**\n",
        "   * Choix d'une métrique de performance appropriée (MSE, RMSE, accuracy, F1-score, etc.).\n",
        "   * Comparaison des performances des modèles sur un ensemble de validation.\n",
        "\n",
        "7. **Ajustement des hyperparamètres:**\n",
        "   * Utilisation de techniques d'optimisation (grid search, random search, optimisation bayésienne).\n",
        "   * Recherche des meilleurs paramètres pour le modèle sélectionné.\n",
        "\n",
        "8. **Évaluation finale:**\n",
        "   * Évaluation du modèle final sur l'ensemble de test pour une évaluation plus réaliste.\n",
        "\n",
        "9. **Interprétation des résultats:**\n",
        "   * Analyse de l'importance des caractéristiques.\n",
        "   * Explication des prédictions du modèle.\n",
        "   * Identification des biais potentiels.\n",
        "\n",
        "9. **Conclusion et documentation:**\n",
        "   * Rédaction d'un rapport clair et concis présentant les résultats.\n",
        "   * Visualisation des résultats clés.\n",
        "   * Conservation du code et des données pour une reproductibilité future."
      ],
      "metadata": {
        "id": "9YRGX9gSi4x0"
      }
    },
    {
      "cell_type": "markdown",
      "source": [
        "## 🥗 Jeu de données\n",
        "\n",
        "Il existe 7 sources de données différentes :\n",
        "\n",
        "- **application_train/application_test** : Les principales données d'entraînement et de test contenant des informations sur chaque demande de prêt à Home Credit. Chaque prêt possède sa propre ligne et est identifié par la variable `SK_ID_CURR`. Les données d'entraînement de la demande sont fournies avec la cible `TARGET` indiquant 0 : le prêt a été remboursé, 1 : le prêt n'a pas été remboursé.\n",
        "- **bureau** : Données concernant les crédits précédents du client auprès d'autres institutions financières. Chaque crédit précédent possède sa propre ligne dans le bureau, mais un prêt dans les données de demande peut avoir plusieurs crédits précédents.\n",
        "- **bureau_balance** : Données mensuelles sur les crédits précédents dans le bureau. Chaque ligne correspond à un mois d'un crédit précédent, et un seul crédit précédent peut avoir plusieurs lignes, une pour chaque mois de la durée du crédit.\n",
        "- **previous_application** : Demandes de prêts précédentes à Home Credit de clients ayant des prêts dans les données de demande. Chaque prêt actuel dans les données de demande peut avoir plusieurs prêts précédents. Chaque demande précédente possède une ligne et est identifiée par la caractéristique `SK_ID_PREV`.\n",
        "- **POS_CASH_BALANCE** : Données mensuelles sur les précédents prêts à la consommation ou en espèces que les clients ont eus avec Home Credit. Chaque ligne correspond à un mois d'un précédent prêt à la consommation ou en espèces, et un seul prêt précédent peut avoir plusieurs lignes.\n",
        "- **credit_card_balance** : Données mensuelles sur les précédentes cartes de crédit que les clients ont eues avec Home Credit. Chaque ligne correspond à un mois d'un solde de carte de crédit, et une seule carte de crédit peut avoir plusieurs lignes.\n",
        "- **installments_payment** : historique des paiements pour les prêts précédents à Home Credit. Il y a une ligne pour chaque paiement effectué et une ligne pour chaque paiement manqué.\n",
        "\n",
        "Deux fichiers additionnels :\n",
        "\n",
        "- **sample_submission** : Exemple de fichier à soumettre pour la compétition Kaggle.\n",
        "- **HomeCredit_columns_description** : Description des colonnes de la demande de crédit : [p04-HomeCredit_columns_description | Google Sheet](https://docs.google.com/spreadsheets/d/1xHunq-9huLdwsmxzcC0foqXvP35-Riy_PlqViogj6wk/edit?usp=sharing).\n",
        "\n",
        "<img src=\"https://storage.googleapis.com/kaggle-media/competitions/home-credit/home_credit.png\" />"
      ],
      "metadata": {
        "id": "2LuTMdKwGDbf"
      }
    },
    {
      "cell_type": "markdown",
      "source": [
        "### Téléchargement et extraction du fichier .zip."
      ],
      "metadata": {
        "id": "XP3QbiLiounB"
      }
    },
    {
      "cell_type": "code",
      "source": [
        "import os\n",
        "\n",
        "# Check if the directory exists\n",
        "if not os.path.exists('./content/data'):\n",
        "    # Execute the commands if the directory does not exist\n",
        "    os.system('wget \"https://s3-eu-west-1.amazonaws.com/static.oc-static.com/prod/courses/files/Parcours_data_scientist/Projet+-+Impl%C3%A9menter+un+mod%C3%A8le+de+scoring/Projet+Mise+en+prod+-+home-credit-default-risk.zip\" -O temp.zip')\n",
        "    os.system('mkdir -p ./content/data')\n",
        "    os.system('unzip -o temp.zip -d ./content/data')\n",
        "    os.system('rm temp.zip')\n",
        "    os.system('rm -rf ./content/data/__MACOSX')\n",
        "else:\n",
        "    print(\"Directory ./content/data already exists.\")"
      ],
      "metadata": {
        "id": "w-4euTow7Mdn"
      },
      "execution_count": null,
      "outputs": []
    },
    {
      "cell_type": "markdown",
      "source": [
        "### Liste des fichiers disponibles"
      ],
      "metadata": {
        "id": "sNWvxXaEIWd4"
      }
    },
    {
      "cell_type": "code",
      "source": [
        "data_folderpath = \"./content/data/\""
      ],
      "metadata": {
        "id": "lsNDalDHI2wd"
      },
      "execution_count": null,
      "outputs": []
    },
    {
      "cell_type": "code",
      "source": [
        "import os\n",
        "import glob\n",
        "\n",
        "def get_csv_filepaths(folder_path):\n",
        "  \"\"\"\n",
        "  Returns a list of filepaths for all .csv files in the given folder.\n",
        "  \"\"\"\n",
        "  csv_filepaths_dict = {}\n",
        "  for filepath in glob.glob(os.path.join(folder_path, '*.csv')):\n",
        "    filename = os.path.basename(filepath)\n",
        "    filename = os.path.splitext(filename)[0]\n",
        "    csv_filepaths_dict[filename] = filepath\n",
        "  return csv_filepaths_dict\n",
        "\n",
        "csv_files_dict = get_csv_filepaths(data_folderpath)\n",
        "\n",
        "csv_files_df = pd.DataFrame(list(csv_files_dict.items()), columns=['filename', 'filepath']).sort_values(by='filename')\n",
        "csv_files_df"
      ],
      "metadata": {
        "colab": {
          "base_uri": "https://localhost:8080/",
          "height": 363
        },
        "id": "Yv3X6CmVI-81",
        "outputId": "6f86f302-34c4-4a56-ec00-dd1b36ee8dde"
      },
      "execution_count": null,
      "outputs": [
        {
          "output_type": "execute_result",
          "data": {
            "text/plain": [
              "                         filename  \\\n",
              "1  HomeCredit_columns_description   \n",
              "9                POS_CASH_balance   \n",
              "2                application_test   \n",
              "7               application_train   \n",
              "8                          bureau   \n",
              "4                  bureau_balance   \n",
              "3             credit_card_balance   \n",
              "0           installments_payments   \n",
              "6            previous_application   \n",
              "5               sample_submission   \n",
              "\n",
              "                                            filepath  \n",
              "1  ./content/data/HomeCredit_columns_description.csv  \n",
              "9                ./content/data/POS_CASH_balance.csv  \n",
              "2                ./content/data/application_test.csv  \n",
              "7               ./content/data/application_train.csv  \n",
              "8                          ./content/data/bureau.csv  \n",
              "4                  ./content/data/bureau_balance.csv  \n",
              "3             ./content/data/credit_card_balance.csv  \n",
              "0           ./content/data/installments_payments.csv  \n",
              "6            ./content/data/previous_application.csv  \n",
              "5               ./content/data/sample_submission.csv  "
            ],
            "text/html": [
              "\n",
              "  <div id=\"df-245e66d2-ca2b-4970-a1ec-450d04f04ad0\" class=\"colab-df-container\">\n",
              "    <div>\n",
              "<style scoped>\n",
              "    .dataframe tbody tr th:only-of-type {\n",
              "        vertical-align: middle;\n",
              "    }\n",
              "\n",
              "    .dataframe tbody tr th {\n",
              "        vertical-align: top;\n",
              "    }\n",
              "\n",
              "    .dataframe thead th {\n",
              "        text-align: right;\n",
              "    }\n",
              "</style>\n",
              "<table border=\"1\" class=\"dataframe\">\n",
              "  <thead>\n",
              "    <tr style=\"text-align: right;\">\n",
              "      <th></th>\n",
              "      <th>filename</th>\n",
              "      <th>filepath</th>\n",
              "    </tr>\n",
              "  </thead>\n",
              "  <tbody>\n",
              "    <tr>\n",
              "      <th>1</th>\n",
              "      <td>HomeCredit_columns_description</td>\n",
              "      <td>./content/data/HomeCredit_columns_description.csv</td>\n",
              "    </tr>\n",
              "    <tr>\n",
              "      <th>9</th>\n",
              "      <td>POS_CASH_balance</td>\n",
              "      <td>./content/data/POS_CASH_balance.csv</td>\n",
              "    </tr>\n",
              "    <tr>\n",
              "      <th>2</th>\n",
              "      <td>application_test</td>\n",
              "      <td>./content/data/application_test.csv</td>\n",
              "    </tr>\n",
              "    <tr>\n",
              "      <th>7</th>\n",
              "      <td>application_train</td>\n",
              "      <td>./content/data/application_train.csv</td>\n",
              "    </tr>\n",
              "    <tr>\n",
              "      <th>8</th>\n",
              "      <td>bureau</td>\n",
              "      <td>./content/data/bureau.csv</td>\n",
              "    </tr>\n",
              "    <tr>\n",
              "      <th>4</th>\n",
              "      <td>bureau_balance</td>\n",
              "      <td>./content/data/bureau_balance.csv</td>\n",
              "    </tr>\n",
              "    <tr>\n",
              "      <th>3</th>\n",
              "      <td>credit_card_balance</td>\n",
              "      <td>./content/data/credit_card_balance.csv</td>\n",
              "    </tr>\n",
              "    <tr>\n",
              "      <th>0</th>\n",
              "      <td>installments_payments</td>\n",
              "      <td>./content/data/installments_payments.csv</td>\n",
              "    </tr>\n",
              "    <tr>\n",
              "      <th>6</th>\n",
              "      <td>previous_application</td>\n",
              "      <td>./content/data/previous_application.csv</td>\n",
              "    </tr>\n",
              "    <tr>\n",
              "      <th>5</th>\n",
              "      <td>sample_submission</td>\n",
              "      <td>./content/data/sample_submission.csv</td>\n",
              "    </tr>\n",
              "  </tbody>\n",
              "</table>\n",
              "</div>\n",
              "    <div class=\"colab-df-buttons\">\n",
              "\n",
              "  <div class=\"colab-df-container\">\n",
              "    <button class=\"colab-df-convert\" onclick=\"convertToInteractive('df-245e66d2-ca2b-4970-a1ec-450d04f04ad0')\"\n",
              "            title=\"Convert this dataframe to an interactive table.\"\n",
              "            style=\"display:none;\">\n",
              "\n",
              "  <svg xmlns=\"http://www.w3.org/2000/svg\" height=\"24px\" viewBox=\"0 -960 960 960\">\n",
              "    <path d=\"M120-120v-720h720v720H120Zm60-500h600v-160H180v160Zm220 220h160v-160H400v160Zm0 220h160v-160H400v160ZM180-400h160v-160H180v160Zm440 0h160v-160H620v160ZM180-180h160v-160H180v160Zm440 0h160v-160H620v160Z\"/>\n",
              "  </svg>\n",
              "    </button>\n",
              "\n",
              "  <style>\n",
              "    .colab-df-container {\n",
              "      display:flex;\n",
              "      gap: 12px;\n",
              "    }\n",
              "\n",
              "    .colab-df-convert {\n",
              "      background-color: #E8F0FE;\n",
              "      border: none;\n",
              "      border-radius: 50%;\n",
              "      cursor: pointer;\n",
              "      display: none;\n",
              "      fill: #1967D2;\n",
              "      height: 32px;\n",
              "      padding: 0 0 0 0;\n",
              "      width: 32px;\n",
              "    }\n",
              "\n",
              "    .colab-df-convert:hover {\n",
              "      background-color: #E2EBFA;\n",
              "      box-shadow: 0px 1px 2px rgba(60, 64, 67, 0.3), 0px 1px 3px 1px rgba(60, 64, 67, 0.15);\n",
              "      fill: #174EA6;\n",
              "    }\n",
              "\n",
              "    .colab-df-buttons div {\n",
              "      margin-bottom: 4px;\n",
              "    }\n",
              "\n",
              "    [theme=dark] .colab-df-convert {\n",
              "      background-color: #3B4455;\n",
              "      fill: #D2E3FC;\n",
              "    }\n",
              "\n",
              "    [theme=dark] .colab-df-convert:hover {\n",
              "      background-color: #434B5C;\n",
              "      box-shadow: 0px 1px 3px 1px rgba(0, 0, 0, 0.15);\n",
              "      filter: drop-shadow(0px 1px 2px rgba(0, 0, 0, 0.3));\n",
              "      fill: #FFFFFF;\n",
              "    }\n",
              "  </style>\n",
              "\n",
              "    <script>\n",
              "      const buttonEl =\n",
              "        document.querySelector('#df-245e66d2-ca2b-4970-a1ec-450d04f04ad0 button.colab-df-convert');\n",
              "      buttonEl.style.display =\n",
              "        google.colab.kernel.accessAllowed ? 'block' : 'none';\n",
              "\n",
              "      async function convertToInteractive(key) {\n",
              "        const element = document.querySelector('#df-245e66d2-ca2b-4970-a1ec-450d04f04ad0');\n",
              "        const dataTable =\n",
              "          await google.colab.kernel.invokeFunction('convertToInteractive',\n",
              "                                                    [key], {});\n",
              "        if (!dataTable) return;\n",
              "\n",
              "        const docLinkHtml = 'Like what you see? Visit the ' +\n",
              "          '<a target=\"_blank\" href=https://colab.research.google.com/notebooks/data_table.ipynb>data table notebook</a>'\n",
              "          + ' to learn more about interactive tables.';\n",
              "        element.innerHTML = '';\n",
              "        dataTable['output_type'] = 'display_data';\n",
              "        await google.colab.output.renderOutput(dataTable, element);\n",
              "        const docLink = document.createElement('div');\n",
              "        docLink.innerHTML = docLinkHtml;\n",
              "        element.appendChild(docLink);\n",
              "      }\n",
              "    </script>\n",
              "  </div>\n",
              "\n",
              "\n",
              "<div id=\"df-91128640-dd23-4988-b3e4-9deb487f54a3\">\n",
              "  <button class=\"colab-df-quickchart\" onclick=\"quickchart('df-91128640-dd23-4988-b3e4-9deb487f54a3')\"\n",
              "            title=\"Suggest charts\"\n",
              "            style=\"display:none;\">\n",
              "\n",
              "<svg xmlns=\"http://www.w3.org/2000/svg\" height=\"24px\"viewBox=\"0 0 24 24\"\n",
              "     width=\"24px\">\n",
              "    <g>\n",
              "        <path d=\"M19 3H5c-1.1 0-2 .9-2 2v14c0 1.1.9 2 2 2h14c1.1 0 2-.9 2-2V5c0-1.1-.9-2-2-2zM9 17H7v-7h2v7zm4 0h-2V7h2v10zm4 0h-2v-4h2v4z\"/>\n",
              "    </g>\n",
              "</svg>\n",
              "  </button>\n",
              "\n",
              "<style>\n",
              "  .colab-df-quickchart {\n",
              "      --bg-color: #E8F0FE;\n",
              "      --fill-color: #1967D2;\n",
              "      --hover-bg-color: #E2EBFA;\n",
              "      --hover-fill-color: #174EA6;\n",
              "      --disabled-fill-color: #AAA;\n",
              "      --disabled-bg-color: #DDD;\n",
              "  }\n",
              "\n",
              "  [theme=dark] .colab-df-quickchart {\n",
              "      --bg-color: #3B4455;\n",
              "      --fill-color: #D2E3FC;\n",
              "      --hover-bg-color: #434B5C;\n",
              "      --hover-fill-color: #FFFFFF;\n",
              "      --disabled-bg-color: #3B4455;\n",
              "      --disabled-fill-color: #666;\n",
              "  }\n",
              "\n",
              "  .colab-df-quickchart {\n",
              "    background-color: var(--bg-color);\n",
              "    border: none;\n",
              "    border-radius: 50%;\n",
              "    cursor: pointer;\n",
              "    display: none;\n",
              "    fill: var(--fill-color);\n",
              "    height: 32px;\n",
              "    padding: 0;\n",
              "    width: 32px;\n",
              "  }\n",
              "\n",
              "  .colab-df-quickchart:hover {\n",
              "    background-color: var(--hover-bg-color);\n",
              "    box-shadow: 0 1px 2px rgba(60, 64, 67, 0.3), 0 1px 3px 1px rgba(60, 64, 67, 0.15);\n",
              "    fill: var(--button-hover-fill-color);\n",
              "  }\n",
              "\n",
              "  .colab-df-quickchart-complete:disabled,\n",
              "  .colab-df-quickchart-complete:disabled:hover {\n",
              "    background-color: var(--disabled-bg-color);\n",
              "    fill: var(--disabled-fill-color);\n",
              "    box-shadow: none;\n",
              "  }\n",
              "\n",
              "  .colab-df-spinner {\n",
              "    border: 2px solid var(--fill-color);\n",
              "    border-color: transparent;\n",
              "    border-bottom-color: var(--fill-color);\n",
              "    animation:\n",
              "      spin 1s steps(1) infinite;\n",
              "  }\n",
              "\n",
              "  @keyframes spin {\n",
              "    0% {\n",
              "      border-color: transparent;\n",
              "      border-bottom-color: var(--fill-color);\n",
              "      border-left-color: var(--fill-color);\n",
              "    }\n",
              "    20% {\n",
              "      border-color: transparent;\n",
              "      border-left-color: var(--fill-color);\n",
              "      border-top-color: var(--fill-color);\n",
              "    }\n",
              "    30% {\n",
              "      border-color: transparent;\n",
              "      border-left-color: var(--fill-color);\n",
              "      border-top-color: var(--fill-color);\n",
              "      border-right-color: var(--fill-color);\n",
              "    }\n",
              "    40% {\n",
              "      border-color: transparent;\n",
              "      border-right-color: var(--fill-color);\n",
              "      border-top-color: var(--fill-color);\n",
              "    }\n",
              "    60% {\n",
              "      border-color: transparent;\n",
              "      border-right-color: var(--fill-color);\n",
              "    }\n",
              "    80% {\n",
              "      border-color: transparent;\n",
              "      border-right-color: var(--fill-color);\n",
              "      border-bottom-color: var(--fill-color);\n",
              "    }\n",
              "    90% {\n",
              "      border-color: transparent;\n",
              "      border-bottom-color: var(--fill-color);\n",
              "    }\n",
              "  }\n",
              "</style>\n",
              "\n",
              "  <script>\n",
              "    async function quickchart(key) {\n",
              "      const quickchartButtonEl =\n",
              "        document.querySelector('#' + key + ' button');\n",
              "      quickchartButtonEl.disabled = true;  // To prevent multiple clicks.\n",
              "      quickchartButtonEl.classList.add('colab-df-spinner');\n",
              "      try {\n",
              "        const charts = await google.colab.kernel.invokeFunction(\n",
              "            'suggestCharts', [key], {});\n",
              "      } catch (error) {\n",
              "        console.error('Error during call to suggestCharts:', error);\n",
              "      }\n",
              "      quickchartButtonEl.classList.remove('colab-df-spinner');\n",
              "      quickchartButtonEl.classList.add('colab-df-quickchart-complete');\n",
              "    }\n",
              "    (() => {\n",
              "      let quickchartButtonEl =\n",
              "        document.querySelector('#df-91128640-dd23-4988-b3e4-9deb487f54a3 button');\n",
              "      quickchartButtonEl.style.display =\n",
              "        google.colab.kernel.accessAllowed ? 'block' : 'none';\n",
              "    })();\n",
              "  </script>\n",
              "</div>\n",
              "\n",
              "  <div id=\"id_51ec575c-f067-46c7-ac1e-95053f2ea51e\">\n",
              "    <style>\n",
              "      .colab-df-generate {\n",
              "        background-color: #E8F0FE;\n",
              "        border: none;\n",
              "        border-radius: 50%;\n",
              "        cursor: pointer;\n",
              "        display: none;\n",
              "        fill: #1967D2;\n",
              "        height: 32px;\n",
              "        padding: 0 0 0 0;\n",
              "        width: 32px;\n",
              "      }\n",
              "\n",
              "      .colab-df-generate:hover {\n",
              "        background-color: #E2EBFA;\n",
              "        box-shadow: 0px 1px 2px rgba(60, 64, 67, 0.3), 0px 1px 3px 1px rgba(60, 64, 67, 0.15);\n",
              "        fill: #174EA6;\n",
              "      }\n",
              "\n",
              "      [theme=dark] .colab-df-generate {\n",
              "        background-color: #3B4455;\n",
              "        fill: #D2E3FC;\n",
              "      }\n",
              "\n",
              "      [theme=dark] .colab-df-generate:hover {\n",
              "        background-color: #434B5C;\n",
              "        box-shadow: 0px 1px 3px 1px rgba(0, 0, 0, 0.15);\n",
              "        filter: drop-shadow(0px 1px 2px rgba(0, 0, 0, 0.3));\n",
              "        fill: #FFFFFF;\n",
              "      }\n",
              "    </style>\n",
              "    <button class=\"colab-df-generate\" onclick=\"generateWithVariable('csv_files_df')\"\n",
              "            title=\"Generate code using this dataframe.\"\n",
              "            style=\"display:none;\">\n",
              "\n",
              "  <svg xmlns=\"http://www.w3.org/2000/svg\" height=\"24px\"viewBox=\"0 0 24 24\"\n",
              "       width=\"24px\">\n",
              "    <path d=\"M7,19H8.4L18.45,9,17,7.55,7,17.6ZM5,21V16.75L18.45,3.32a2,2,0,0,1,2.83,0l1.4,1.43a1.91,1.91,0,0,1,.58,1.4,1.91,1.91,0,0,1-.58,1.4L9.25,21ZM18.45,9,17,7.55Zm-12,3A5.31,5.31,0,0,0,4.9,8.1,5.31,5.31,0,0,0,1,6.5,5.31,5.31,0,0,0,4.9,4.9,5.31,5.31,0,0,0,6.5,1,5.31,5.31,0,0,0,8.1,4.9,5.31,5.31,0,0,0,12,6.5,5.46,5.46,0,0,0,6.5,12Z\"/>\n",
              "  </svg>\n",
              "    </button>\n",
              "    <script>\n",
              "      (() => {\n",
              "      const buttonEl =\n",
              "        document.querySelector('#id_51ec575c-f067-46c7-ac1e-95053f2ea51e button.colab-df-generate');\n",
              "      buttonEl.style.display =\n",
              "        google.colab.kernel.accessAllowed ? 'block' : 'none';\n",
              "\n",
              "      buttonEl.onclick = () => {\n",
              "        google.colab.notebook.generateWithVariable('csv_files_df');\n",
              "      }\n",
              "      })();\n",
              "    </script>\n",
              "  </div>\n",
              "\n",
              "    </div>\n",
              "  </div>\n"
            ],
            "application/vnd.google.colaboratory.intrinsic+json": {
              "type": "dataframe",
              "variable_name": "csv_files_df",
              "summary": "{\n  \"name\": \"csv_files_df\",\n  \"rows\": 10,\n  \"fields\": [\n    {\n      \"column\": \"filename\",\n      \"properties\": {\n        \"dtype\": \"string\",\n        \"num_unique_values\": 10,\n        \"samples\": [\n          \"previous_application\",\n          \"POS_CASH_balance\",\n          \"bureau_balance\"\n        ],\n        \"semantic_type\": \"\",\n        \"description\": \"\"\n      }\n    },\n    {\n      \"column\": \"filepath\",\n      \"properties\": {\n        \"dtype\": \"string\",\n        \"num_unique_values\": 10,\n        \"samples\": [\n          \"./content/data/previous_application.csv\",\n          \"./content/data/POS_CASH_balance.csv\",\n          \"./content/data/bureau_balance.csv\"\n        ],\n        \"semantic_type\": \"\",\n        \"description\": \"\"\n      }\n    }\n  ]\n}"
            }
          },
          "metadata": {},
          "execution_count": 6
        }
      ]
    },
    {
      "cell_type": "markdown",
      "source": [
        "### Importation des fichiers .csv dans des DataFrames"
      ],
      "metadata": {
        "id": "bMRPJy2AoyzE"
      }
    },
    {
      "cell_type": "code",
      "source": [
        "import chardet\n",
        "\n",
        "def csv_to_df(filepath):\n",
        "  \"\"\"\n",
        "  Lit un seul fichier CSV dans un Pandas DataFrame, détectant l'encodage correct pour éviter les erreurs.\n",
        "\n",
        "  - Args:\n",
        "    - Le chemin du fichier .csv.\n",
        "  - Returns:\n",
        "    - Un DataFrame.\n",
        "  \"\"\"\n",
        "  try:\n",
        "    # Dectect file encoding\n",
        "    with open(filepath, 'rb') as file:\n",
        "      result = chardet.detect(file.read(10000))  # Analyze the first 10KB\n",
        "      encoding = result['encoding']\n",
        "      print(f\"Detected encoding: {encoding}\")\n",
        "    # Read the .csv to a DataFrame\n",
        "    df = pd.read_csv(filepath, encoding=encoding)\n",
        "  except FileNotFoundError:\n",
        "      print(f\"Error: File not found at path: '{filepath}'.\")\n",
        "      # Handle the error appropriately (e.g., skip the file, raise an exception, etc.)\n",
        "  except pd.errors.EmptyDataError:\n",
        "      print(f\"Error: Empty CSV file at path: '{filepath}'.\")\n",
        "      # Handle empty file error\n",
        "  except pd.errors.ParserError:\n",
        "      print(f\"Error: ParserError while reading CSV at path: '{filepath}'.\")\n",
        "      # Handle parser error\n",
        "  except Exception as e:  # Catch other potential errors during file reading\n",
        "      print(f\"An unexpected error occurred while reading '{filepath}': {e}\")\n",
        "\n",
        "  return df"
      ],
      "metadata": {
        "id": "dyCijdM5XK6B"
      },
      "execution_count": null,
      "outputs": []
    },
    {
      "cell_type": "markdown",
      "source": [
        "### Données d'entraînement"
      ],
      "metadata": {
        "id": "PT21Y5fzj3zl"
      }
    },
    {
      "cell_type": "code",
      "source": [
        "application_train_raw = csv_to_df(csv_files_dict[\"application_train\"])\n",
        "print('Forme des données d’entraînement : ', application_train_raw.shape)\n",
        "print()\n",
        "application_train_raw.head()"
      ],
      "metadata": {
        "colab": {
          "base_uri": "https://localhost:8080/",
          "height": 348
        },
        "id": "ve-A74_MWG-G",
        "outputId": "09a1efff-bbeb-4e79-b59c-799bced7784d"
      },
      "execution_count": null,
      "outputs": [
        {
          "output_type": "stream",
          "name": "stdout",
          "text": [
            "Detected encoding: ascii\n",
            "Forme des données d’entraînement :  (307511, 122)\n",
            "\n"
          ]
        },
        {
          "output_type": "execute_result",
          "data": {
            "text/plain": [
              "   SK_ID_CURR  TARGET NAME_CONTRACT_TYPE CODE_GENDER FLAG_OWN_CAR  \\\n",
              "0      100002       1         Cash loans           M            N   \n",
              "1      100003       0         Cash loans           F            N   \n",
              "2      100004       0    Revolving loans           M            Y   \n",
              "3      100006       0         Cash loans           F            N   \n",
              "4      100007       0         Cash loans           M            N   \n",
              "\n",
              "  FLAG_OWN_REALTY  CNT_CHILDREN  AMT_INCOME_TOTAL  AMT_CREDIT  AMT_ANNUITY  \\\n",
              "0               Y             0          202500.0    406597.5      24700.5   \n",
              "1               N             0          270000.0   1293502.5      35698.5   \n",
              "2               Y             0           67500.0    135000.0       6750.0   \n",
              "3               Y             0          135000.0    312682.5      29686.5   \n",
              "4               Y             0          121500.0    513000.0      21865.5   \n",
              "\n",
              "   AMT_GOODS_PRICE NAME_TYPE_SUITE NAME_INCOME_TYPE  \\\n",
              "0         351000.0   Unaccompanied          Working   \n",
              "1        1129500.0          Family    State servant   \n",
              "2         135000.0   Unaccompanied          Working   \n",
              "3         297000.0   Unaccompanied          Working   \n",
              "4         513000.0   Unaccompanied          Working   \n",
              "\n",
              "             NAME_EDUCATION_TYPE    NAME_FAMILY_STATUS  NAME_HOUSING_TYPE  \\\n",
              "0  Secondary / secondary special  Single / not married  House / apartment   \n",
              "1               Higher education               Married  House / apartment   \n",
              "2  Secondary / secondary special  Single / not married  House / apartment   \n",
              "3  Secondary / secondary special        Civil marriage  House / apartment   \n",
              "4  Secondary / secondary special  Single / not married  House / apartment   \n",
              "\n",
              "   REGION_POPULATION_RELATIVE  DAYS_BIRTH  DAYS_EMPLOYED  DAYS_REGISTRATION  \\\n",
              "0                    0.018801       -9461           -637            -3648.0   \n",
              "1                    0.003541      -16765          -1188            -1186.0   \n",
              "2                    0.010032      -19046           -225            -4260.0   \n",
              "3                    0.008019      -19005          -3039            -9833.0   \n",
              "4                    0.028663      -19932          -3038            -4311.0   \n",
              "\n",
              "   DAYS_ID_PUBLISH  OWN_CAR_AGE  FLAG_MOBIL  FLAG_EMP_PHONE  FLAG_WORK_PHONE  \\\n",
              "0            -2120          NaN           1               1                0   \n",
              "1             -291          NaN           1               1                0   \n",
              "2            -2531         26.0           1               1                1   \n",
              "3            -2437          NaN           1               1                0   \n",
              "4            -3458          NaN           1               1                0   \n",
              "\n",
              "   FLAG_CONT_MOBILE  FLAG_PHONE  FLAG_EMAIL OCCUPATION_TYPE  CNT_FAM_MEMBERS  \\\n",
              "0                 1           1           0        Laborers              1.0   \n",
              "1                 1           1           0      Core staff              2.0   \n",
              "2                 1           1           0        Laborers              1.0   \n",
              "3                 1           0           0        Laborers              2.0   \n",
              "4                 1           0           0      Core staff              1.0   \n",
              "\n",
              "   REGION_RATING_CLIENT  REGION_RATING_CLIENT_W_CITY  \\\n",
              "0                     2                            2   \n",
              "1                     1                            1   \n",
              "2                     2                            2   \n",
              "3                     2                            2   \n",
              "4                     2                            2   \n",
              "\n",
              "  WEEKDAY_APPR_PROCESS_START  HOUR_APPR_PROCESS_START  \\\n",
              "0                  WEDNESDAY                       10   \n",
              "1                     MONDAY                       11   \n",
              "2                     MONDAY                        9   \n",
              "3                  WEDNESDAY                       17   \n",
              "4                   THURSDAY                       11   \n",
              "\n",
              "   REG_REGION_NOT_LIVE_REGION  REG_REGION_NOT_WORK_REGION  \\\n",
              "0                           0                           0   \n",
              "1                           0                           0   \n",
              "2                           0                           0   \n",
              "3                           0                           0   \n",
              "4                           0                           0   \n",
              "\n",
              "   LIVE_REGION_NOT_WORK_REGION  REG_CITY_NOT_LIVE_CITY  \\\n",
              "0                            0                       0   \n",
              "1                            0                       0   \n",
              "2                            0                       0   \n",
              "3                            0                       0   \n",
              "4                            0                       0   \n",
              "\n",
              "   REG_CITY_NOT_WORK_CITY  LIVE_CITY_NOT_WORK_CITY       ORGANIZATION_TYPE  \\\n",
              "0                       0                        0  Business Entity Type 3   \n",
              "1                       0                        0                  School   \n",
              "2                       0                        0              Government   \n",
              "3                       0                        0  Business Entity Type 3   \n",
              "4                       1                        1                Religion   \n",
              "\n",
              "   EXT_SOURCE_1  EXT_SOURCE_2  EXT_SOURCE_3  APARTMENTS_AVG  BASEMENTAREA_AVG  \\\n",
              "0      0.083037      0.262949      0.139376          0.0247            0.0369   \n",
              "1      0.311267      0.622246           NaN          0.0959            0.0529   \n",
              "2           NaN      0.555912      0.729567             NaN               NaN   \n",
              "3           NaN      0.650442           NaN             NaN               NaN   \n",
              "4           NaN      0.322738           NaN             NaN               NaN   \n",
              "\n",
              "   YEARS_BEGINEXPLUATATION_AVG  YEARS_BUILD_AVG  COMMONAREA_AVG  \\\n",
              "0                       0.9722           0.6192          0.0143   \n",
              "1                       0.9851           0.7960          0.0605   \n",
              "2                          NaN              NaN             NaN   \n",
              "3                          NaN              NaN             NaN   \n",
              "4                          NaN              NaN             NaN   \n",
              "\n",
              "   ELEVATORS_AVG  ENTRANCES_AVG  FLOORSMAX_AVG  FLOORSMIN_AVG  LANDAREA_AVG  \\\n",
              "0           0.00         0.0690         0.0833         0.1250        0.0369   \n",
              "1           0.08         0.0345         0.2917         0.3333        0.0130   \n",
              "2            NaN            NaN            NaN            NaN           NaN   \n",
              "3            NaN            NaN            NaN            NaN           NaN   \n",
              "4            NaN            NaN            NaN            NaN           NaN   \n",
              "\n",
              "   LIVINGAPARTMENTS_AVG  LIVINGAREA_AVG  NONLIVINGAPARTMENTS_AVG  \\\n",
              "0                0.0202          0.0190                   0.0000   \n",
              "1                0.0773          0.0549                   0.0039   \n",
              "2                   NaN             NaN                      NaN   \n",
              "3                   NaN             NaN                      NaN   \n",
              "4                   NaN             NaN                      NaN   \n",
              "\n",
              "   NONLIVINGAREA_AVG  APARTMENTS_MODE  BASEMENTAREA_MODE  \\\n",
              "0             0.0000           0.0252             0.0383   \n",
              "1             0.0098           0.0924             0.0538   \n",
              "2                NaN              NaN                NaN   \n",
              "3                NaN              NaN                NaN   \n",
              "4                NaN              NaN                NaN   \n",
              "\n",
              "   YEARS_BEGINEXPLUATATION_MODE  YEARS_BUILD_MODE  COMMONAREA_MODE  \\\n",
              "0                        0.9722            0.6341           0.0144   \n",
              "1                        0.9851            0.8040           0.0497   \n",
              "2                           NaN               NaN              NaN   \n",
              "3                           NaN               NaN              NaN   \n",
              "4                           NaN               NaN              NaN   \n",
              "\n",
              "   ELEVATORS_MODE  ENTRANCES_MODE  FLOORSMAX_MODE  FLOORSMIN_MODE  \\\n",
              "0          0.0000          0.0690          0.0833          0.1250   \n",
              "1          0.0806          0.0345          0.2917          0.3333   \n",
              "2             NaN             NaN             NaN             NaN   \n",
              "3             NaN             NaN             NaN             NaN   \n",
              "4             NaN             NaN             NaN             NaN   \n",
              "\n",
              "   LANDAREA_MODE  LIVINGAPARTMENTS_MODE  LIVINGAREA_MODE  \\\n",
              "0         0.0377                  0.022           0.0198   \n",
              "1         0.0128                  0.079           0.0554   \n",
              "2            NaN                    NaN              NaN   \n",
              "3            NaN                    NaN              NaN   \n",
              "4            NaN                    NaN              NaN   \n",
              "\n",
              "   NONLIVINGAPARTMENTS_MODE  NONLIVINGAREA_MODE  APARTMENTS_MEDI  \\\n",
              "0                       0.0                 0.0           0.0250   \n",
              "1                       0.0                 0.0           0.0968   \n",
              "2                       NaN                 NaN              NaN   \n",
              "3                       NaN                 NaN              NaN   \n",
              "4                       NaN                 NaN              NaN   \n",
              "\n",
              "   BASEMENTAREA_MEDI  YEARS_BEGINEXPLUATATION_MEDI  YEARS_BUILD_MEDI  \\\n",
              "0             0.0369                        0.9722            0.6243   \n",
              "1             0.0529                        0.9851            0.7987   \n",
              "2                NaN                           NaN               NaN   \n",
              "3                NaN                           NaN               NaN   \n",
              "4                NaN                           NaN               NaN   \n",
              "\n",
              "   COMMONAREA_MEDI  ELEVATORS_MEDI  ENTRANCES_MEDI  FLOORSMAX_MEDI  \\\n",
              "0           0.0144            0.00          0.0690          0.0833   \n",
              "1           0.0608            0.08          0.0345          0.2917   \n",
              "2              NaN             NaN             NaN             NaN   \n",
              "3              NaN             NaN             NaN             NaN   \n",
              "4              NaN             NaN             NaN             NaN   \n",
              "\n",
              "   FLOORSMIN_MEDI  LANDAREA_MEDI  LIVINGAPARTMENTS_MEDI  LIVINGAREA_MEDI  \\\n",
              "0          0.1250         0.0375                 0.0205           0.0193   \n",
              "1          0.3333         0.0132                 0.0787           0.0558   \n",
              "2             NaN            NaN                    NaN              NaN   \n",
              "3             NaN            NaN                    NaN              NaN   \n",
              "4             NaN            NaN                    NaN              NaN   \n",
              "\n",
              "   NONLIVINGAPARTMENTS_MEDI  NONLIVINGAREA_MEDI FONDKAPREMONT_MODE  \\\n",
              "0                    0.0000                0.00   reg oper account   \n",
              "1                    0.0039                0.01   reg oper account   \n",
              "2                       NaN                 NaN                NaN   \n",
              "3                       NaN                 NaN                NaN   \n",
              "4                       NaN                 NaN                NaN   \n",
              "\n",
              "   HOUSETYPE_MODE  TOTALAREA_MODE WALLSMATERIAL_MODE EMERGENCYSTATE_MODE  \\\n",
              "0  block of flats          0.0149       Stone, brick                  No   \n",
              "1  block of flats          0.0714              Block                  No   \n",
              "2             NaN             NaN                NaN                 NaN   \n",
              "3             NaN             NaN                NaN                 NaN   \n",
              "4             NaN             NaN                NaN                 NaN   \n",
              "\n",
              "   OBS_30_CNT_SOCIAL_CIRCLE  DEF_30_CNT_SOCIAL_CIRCLE  \\\n",
              "0                       2.0                       2.0   \n",
              "1                       1.0                       0.0   \n",
              "2                       0.0                       0.0   \n",
              "3                       2.0                       0.0   \n",
              "4                       0.0                       0.0   \n",
              "\n",
              "   OBS_60_CNT_SOCIAL_CIRCLE  DEF_60_CNT_SOCIAL_CIRCLE  DAYS_LAST_PHONE_CHANGE  \\\n",
              "0                       2.0                       2.0                 -1134.0   \n",
              "1                       1.0                       0.0                  -828.0   \n",
              "2                       0.0                       0.0                  -815.0   \n",
              "3                       2.0                       0.0                  -617.0   \n",
              "4                       0.0                       0.0                 -1106.0   \n",
              "\n",
              "   FLAG_DOCUMENT_2  FLAG_DOCUMENT_3  FLAG_DOCUMENT_4  FLAG_DOCUMENT_5  \\\n",
              "0                0                1                0                0   \n",
              "1                0                1                0                0   \n",
              "2                0                0                0                0   \n",
              "3                0                1                0                0   \n",
              "4                0                0                0                0   \n",
              "\n",
              "   FLAG_DOCUMENT_6  FLAG_DOCUMENT_7  FLAG_DOCUMENT_8  FLAG_DOCUMENT_9  \\\n",
              "0                0                0                0                0   \n",
              "1                0                0                0                0   \n",
              "2                0                0                0                0   \n",
              "3                0                0                0                0   \n",
              "4                0                0                1                0   \n",
              "\n",
              "   FLAG_DOCUMENT_10  FLAG_DOCUMENT_11  FLAG_DOCUMENT_12  FLAG_DOCUMENT_13  \\\n",
              "0                 0                 0                 0                 0   \n",
              "1                 0                 0                 0                 0   \n",
              "2                 0                 0                 0                 0   \n",
              "3                 0                 0                 0                 0   \n",
              "4                 0                 0                 0                 0   \n",
              "\n",
              "   FLAG_DOCUMENT_14  FLAG_DOCUMENT_15  FLAG_DOCUMENT_16  FLAG_DOCUMENT_17  \\\n",
              "0                 0                 0                 0                 0   \n",
              "1                 0                 0                 0                 0   \n",
              "2                 0                 0                 0                 0   \n",
              "3                 0                 0                 0                 0   \n",
              "4                 0                 0                 0                 0   \n",
              "\n",
              "   FLAG_DOCUMENT_18  FLAG_DOCUMENT_19  FLAG_DOCUMENT_20  FLAG_DOCUMENT_21  \\\n",
              "0                 0                 0                 0                 0   \n",
              "1                 0                 0                 0                 0   \n",
              "2                 0                 0                 0                 0   \n",
              "3                 0                 0                 0                 0   \n",
              "4                 0                 0                 0                 0   \n",
              "\n",
              "   AMT_REQ_CREDIT_BUREAU_HOUR  AMT_REQ_CREDIT_BUREAU_DAY  \\\n",
              "0                         0.0                        0.0   \n",
              "1                         0.0                        0.0   \n",
              "2                         0.0                        0.0   \n",
              "3                         NaN                        NaN   \n",
              "4                         0.0                        0.0   \n",
              "\n",
              "   AMT_REQ_CREDIT_BUREAU_WEEK  AMT_REQ_CREDIT_BUREAU_MON  \\\n",
              "0                         0.0                        0.0   \n",
              "1                         0.0                        0.0   \n",
              "2                         0.0                        0.0   \n",
              "3                         NaN                        NaN   \n",
              "4                         0.0                        0.0   \n",
              "\n",
              "   AMT_REQ_CREDIT_BUREAU_QRT  AMT_REQ_CREDIT_BUREAU_YEAR  \n",
              "0                        0.0                         1.0  \n",
              "1                        0.0                         0.0  \n",
              "2                        0.0                         0.0  \n",
              "3                        NaN                         NaN  \n",
              "4                        0.0                         0.0  "
            ],
            "text/html": [
              "\n",
              "  <div id=\"df-cd2dc13a-3d95-4450-a0fc-24be96323359\" class=\"colab-df-container\">\n",
              "    <div>\n",
              "<style scoped>\n",
              "    .dataframe tbody tr th:only-of-type {\n",
              "        vertical-align: middle;\n",
              "    }\n",
              "\n",
              "    .dataframe tbody tr th {\n",
              "        vertical-align: top;\n",
              "    }\n",
              "\n",
              "    .dataframe thead th {\n",
              "        text-align: right;\n",
              "    }\n",
              "</style>\n",
              "<table border=\"1\" class=\"dataframe\">\n",
              "  <thead>\n",
              "    <tr style=\"text-align: right;\">\n",
              "      <th></th>\n",
              "      <th>SK_ID_CURR</th>\n",
              "      <th>TARGET</th>\n",
              "      <th>NAME_CONTRACT_TYPE</th>\n",
              "      <th>CODE_GENDER</th>\n",
              "      <th>FLAG_OWN_CAR</th>\n",
              "      <th>FLAG_OWN_REALTY</th>\n",
              "      <th>CNT_CHILDREN</th>\n",
              "      <th>AMT_INCOME_TOTAL</th>\n",
              "      <th>AMT_CREDIT</th>\n",
              "      <th>AMT_ANNUITY</th>\n",
              "      <th>AMT_GOODS_PRICE</th>\n",
              "      <th>NAME_TYPE_SUITE</th>\n",
              "      <th>NAME_INCOME_TYPE</th>\n",
              "      <th>NAME_EDUCATION_TYPE</th>\n",
              "      <th>NAME_FAMILY_STATUS</th>\n",
              "      <th>NAME_HOUSING_TYPE</th>\n",
              "      <th>REGION_POPULATION_RELATIVE</th>\n",
              "      <th>DAYS_BIRTH</th>\n",
              "      <th>DAYS_EMPLOYED</th>\n",
              "      <th>DAYS_REGISTRATION</th>\n",
              "      <th>DAYS_ID_PUBLISH</th>\n",
              "      <th>OWN_CAR_AGE</th>\n",
              "      <th>FLAG_MOBIL</th>\n",
              "      <th>FLAG_EMP_PHONE</th>\n",
              "      <th>FLAG_WORK_PHONE</th>\n",
              "      <th>FLAG_CONT_MOBILE</th>\n",
              "      <th>FLAG_PHONE</th>\n",
              "      <th>FLAG_EMAIL</th>\n",
              "      <th>OCCUPATION_TYPE</th>\n",
              "      <th>CNT_FAM_MEMBERS</th>\n",
              "      <th>REGION_RATING_CLIENT</th>\n",
              "      <th>REGION_RATING_CLIENT_W_CITY</th>\n",
              "      <th>WEEKDAY_APPR_PROCESS_START</th>\n",
              "      <th>HOUR_APPR_PROCESS_START</th>\n",
              "      <th>REG_REGION_NOT_LIVE_REGION</th>\n",
              "      <th>REG_REGION_NOT_WORK_REGION</th>\n",
              "      <th>LIVE_REGION_NOT_WORK_REGION</th>\n",
              "      <th>REG_CITY_NOT_LIVE_CITY</th>\n",
              "      <th>REG_CITY_NOT_WORK_CITY</th>\n",
              "      <th>LIVE_CITY_NOT_WORK_CITY</th>\n",
              "      <th>ORGANIZATION_TYPE</th>\n",
              "      <th>EXT_SOURCE_1</th>\n",
              "      <th>EXT_SOURCE_2</th>\n",
              "      <th>EXT_SOURCE_3</th>\n",
              "      <th>APARTMENTS_AVG</th>\n",
              "      <th>BASEMENTAREA_AVG</th>\n",
              "      <th>YEARS_BEGINEXPLUATATION_AVG</th>\n",
              "      <th>YEARS_BUILD_AVG</th>\n",
              "      <th>COMMONAREA_AVG</th>\n",
              "      <th>ELEVATORS_AVG</th>\n",
              "      <th>ENTRANCES_AVG</th>\n",
              "      <th>FLOORSMAX_AVG</th>\n",
              "      <th>FLOORSMIN_AVG</th>\n",
              "      <th>LANDAREA_AVG</th>\n",
              "      <th>LIVINGAPARTMENTS_AVG</th>\n",
              "      <th>LIVINGAREA_AVG</th>\n",
              "      <th>NONLIVINGAPARTMENTS_AVG</th>\n",
              "      <th>NONLIVINGAREA_AVG</th>\n",
              "      <th>APARTMENTS_MODE</th>\n",
              "      <th>BASEMENTAREA_MODE</th>\n",
              "      <th>YEARS_BEGINEXPLUATATION_MODE</th>\n",
              "      <th>YEARS_BUILD_MODE</th>\n",
              "      <th>COMMONAREA_MODE</th>\n",
              "      <th>ELEVATORS_MODE</th>\n",
              "      <th>ENTRANCES_MODE</th>\n",
              "      <th>FLOORSMAX_MODE</th>\n",
              "      <th>FLOORSMIN_MODE</th>\n",
              "      <th>LANDAREA_MODE</th>\n",
              "      <th>LIVINGAPARTMENTS_MODE</th>\n",
              "      <th>LIVINGAREA_MODE</th>\n",
              "      <th>NONLIVINGAPARTMENTS_MODE</th>\n",
              "      <th>NONLIVINGAREA_MODE</th>\n",
              "      <th>APARTMENTS_MEDI</th>\n",
              "      <th>BASEMENTAREA_MEDI</th>\n",
              "      <th>YEARS_BEGINEXPLUATATION_MEDI</th>\n",
              "      <th>YEARS_BUILD_MEDI</th>\n",
              "      <th>COMMONAREA_MEDI</th>\n",
              "      <th>ELEVATORS_MEDI</th>\n",
              "      <th>ENTRANCES_MEDI</th>\n",
              "      <th>FLOORSMAX_MEDI</th>\n",
              "      <th>FLOORSMIN_MEDI</th>\n",
              "      <th>LANDAREA_MEDI</th>\n",
              "      <th>LIVINGAPARTMENTS_MEDI</th>\n",
              "      <th>LIVINGAREA_MEDI</th>\n",
              "      <th>NONLIVINGAPARTMENTS_MEDI</th>\n",
              "      <th>NONLIVINGAREA_MEDI</th>\n",
              "      <th>FONDKAPREMONT_MODE</th>\n",
              "      <th>HOUSETYPE_MODE</th>\n",
              "      <th>TOTALAREA_MODE</th>\n",
              "      <th>WALLSMATERIAL_MODE</th>\n",
              "      <th>EMERGENCYSTATE_MODE</th>\n",
              "      <th>OBS_30_CNT_SOCIAL_CIRCLE</th>\n",
              "      <th>DEF_30_CNT_SOCIAL_CIRCLE</th>\n",
              "      <th>OBS_60_CNT_SOCIAL_CIRCLE</th>\n",
              "      <th>DEF_60_CNT_SOCIAL_CIRCLE</th>\n",
              "      <th>DAYS_LAST_PHONE_CHANGE</th>\n",
              "      <th>FLAG_DOCUMENT_2</th>\n",
              "      <th>FLAG_DOCUMENT_3</th>\n",
              "      <th>FLAG_DOCUMENT_4</th>\n",
              "      <th>FLAG_DOCUMENT_5</th>\n",
              "      <th>FLAG_DOCUMENT_6</th>\n",
              "      <th>FLAG_DOCUMENT_7</th>\n",
              "      <th>FLAG_DOCUMENT_8</th>\n",
              "      <th>FLAG_DOCUMENT_9</th>\n",
              "      <th>FLAG_DOCUMENT_10</th>\n",
              "      <th>FLAG_DOCUMENT_11</th>\n",
              "      <th>FLAG_DOCUMENT_12</th>\n",
              "      <th>FLAG_DOCUMENT_13</th>\n",
              "      <th>FLAG_DOCUMENT_14</th>\n",
              "      <th>FLAG_DOCUMENT_15</th>\n",
              "      <th>FLAG_DOCUMENT_16</th>\n",
              "      <th>FLAG_DOCUMENT_17</th>\n",
              "      <th>FLAG_DOCUMENT_18</th>\n",
              "      <th>FLAG_DOCUMENT_19</th>\n",
              "      <th>FLAG_DOCUMENT_20</th>\n",
              "      <th>FLAG_DOCUMENT_21</th>\n",
              "      <th>AMT_REQ_CREDIT_BUREAU_HOUR</th>\n",
              "      <th>AMT_REQ_CREDIT_BUREAU_DAY</th>\n",
              "      <th>AMT_REQ_CREDIT_BUREAU_WEEK</th>\n",
              "      <th>AMT_REQ_CREDIT_BUREAU_MON</th>\n",
              "      <th>AMT_REQ_CREDIT_BUREAU_QRT</th>\n",
              "      <th>AMT_REQ_CREDIT_BUREAU_YEAR</th>\n",
              "    </tr>\n",
              "  </thead>\n",
              "  <tbody>\n",
              "    <tr>\n",
              "      <th>0</th>\n",
              "      <td>100002</td>\n",
              "      <td>1</td>\n",
              "      <td>Cash loans</td>\n",
              "      <td>M</td>\n",
              "      <td>N</td>\n",
              "      <td>Y</td>\n",
              "      <td>0</td>\n",
              "      <td>202500.0</td>\n",
              "      <td>406597.5</td>\n",
              "      <td>24700.5</td>\n",
              "      <td>351000.0</td>\n",
              "      <td>Unaccompanied</td>\n",
              "      <td>Working</td>\n",
              "      <td>Secondary / secondary special</td>\n",
              "      <td>Single / not married</td>\n",
              "      <td>House / apartment</td>\n",
              "      <td>0.018801</td>\n",
              "      <td>-9461</td>\n",
              "      <td>-637</td>\n",
              "      <td>-3648.0</td>\n",
              "      <td>-2120</td>\n",
              "      <td>NaN</td>\n",
              "      <td>1</td>\n",
              "      <td>1</td>\n",
              "      <td>0</td>\n",
              "      <td>1</td>\n",
              "      <td>1</td>\n",
              "      <td>0</td>\n",
              "      <td>Laborers</td>\n",
              "      <td>1.0</td>\n",
              "      <td>2</td>\n",
              "      <td>2</td>\n",
              "      <td>WEDNESDAY</td>\n",
              "      <td>10</td>\n",
              "      <td>0</td>\n",
              "      <td>0</td>\n",
              "      <td>0</td>\n",
              "      <td>0</td>\n",
              "      <td>0</td>\n",
              "      <td>0</td>\n",
              "      <td>Business Entity Type 3</td>\n",
              "      <td>0.083037</td>\n",
              "      <td>0.262949</td>\n",
              "      <td>0.139376</td>\n",
              "      <td>0.0247</td>\n",
              "      <td>0.0369</td>\n",
              "      <td>0.9722</td>\n",
              "      <td>0.6192</td>\n",
              "      <td>0.0143</td>\n",
              "      <td>0.00</td>\n",
              "      <td>0.0690</td>\n",
              "      <td>0.0833</td>\n",
              "      <td>0.1250</td>\n",
              "      <td>0.0369</td>\n",
              "      <td>0.0202</td>\n",
              "      <td>0.0190</td>\n",
              "      <td>0.0000</td>\n",
              "      <td>0.0000</td>\n",
              "      <td>0.0252</td>\n",
              "      <td>0.0383</td>\n",
              "      <td>0.9722</td>\n",
              "      <td>0.6341</td>\n",
              "      <td>0.0144</td>\n",
              "      <td>0.0000</td>\n",
              "      <td>0.0690</td>\n",
              "      <td>0.0833</td>\n",
              "      <td>0.1250</td>\n",
              "      <td>0.0377</td>\n",
              "      <td>0.022</td>\n",
              "      <td>0.0198</td>\n",
              "      <td>0.0</td>\n",
              "      <td>0.0</td>\n",
              "      <td>0.0250</td>\n",
              "      <td>0.0369</td>\n",
              "      <td>0.9722</td>\n",
              "      <td>0.6243</td>\n",
              "      <td>0.0144</td>\n",
              "      <td>0.00</td>\n",
              "      <td>0.0690</td>\n",
              "      <td>0.0833</td>\n",
              "      <td>0.1250</td>\n",
              "      <td>0.0375</td>\n",
              "      <td>0.0205</td>\n",
              "      <td>0.0193</td>\n",
              "      <td>0.0000</td>\n",
              "      <td>0.00</td>\n",
              "      <td>reg oper account</td>\n",
              "      <td>block of flats</td>\n",
              "      <td>0.0149</td>\n",
              "      <td>Stone, brick</td>\n",
              "      <td>No</td>\n",
              "      <td>2.0</td>\n",
              "      <td>2.0</td>\n",
              "      <td>2.0</td>\n",
              "      <td>2.0</td>\n",
              "      <td>-1134.0</td>\n",
              "      <td>0</td>\n",
              "      <td>1</td>\n",
              "      <td>0</td>\n",
              "      <td>0</td>\n",
              "      <td>0</td>\n",
              "      <td>0</td>\n",
              "      <td>0</td>\n",
              "      <td>0</td>\n",
              "      <td>0</td>\n",
              "      <td>0</td>\n",
              "      <td>0</td>\n",
              "      <td>0</td>\n",
              "      <td>0</td>\n",
              "      <td>0</td>\n",
              "      <td>0</td>\n",
              "      <td>0</td>\n",
              "      <td>0</td>\n",
              "      <td>0</td>\n",
              "      <td>0</td>\n",
              "      <td>0</td>\n",
              "      <td>0.0</td>\n",
              "      <td>0.0</td>\n",
              "      <td>0.0</td>\n",
              "      <td>0.0</td>\n",
              "      <td>0.0</td>\n",
              "      <td>1.0</td>\n",
              "    </tr>\n",
              "    <tr>\n",
              "      <th>1</th>\n",
              "      <td>100003</td>\n",
              "      <td>0</td>\n",
              "      <td>Cash loans</td>\n",
              "      <td>F</td>\n",
              "      <td>N</td>\n",
              "      <td>N</td>\n",
              "      <td>0</td>\n",
              "      <td>270000.0</td>\n",
              "      <td>1293502.5</td>\n",
              "      <td>35698.5</td>\n",
              "      <td>1129500.0</td>\n",
              "      <td>Family</td>\n",
              "      <td>State servant</td>\n",
              "      <td>Higher education</td>\n",
              "      <td>Married</td>\n",
              "      <td>House / apartment</td>\n",
              "      <td>0.003541</td>\n",
              "      <td>-16765</td>\n",
              "      <td>-1188</td>\n",
              "      <td>-1186.0</td>\n",
              "      <td>-291</td>\n",
              "      <td>NaN</td>\n",
              "      <td>1</td>\n",
              "      <td>1</td>\n",
              "      <td>0</td>\n",
              "      <td>1</td>\n",
              "      <td>1</td>\n",
              "      <td>0</td>\n",
              "      <td>Core staff</td>\n",
              "      <td>2.0</td>\n",
              "      <td>1</td>\n",
              "      <td>1</td>\n",
              "      <td>MONDAY</td>\n",
              "      <td>11</td>\n",
              "      <td>0</td>\n",
              "      <td>0</td>\n",
              "      <td>0</td>\n",
              "      <td>0</td>\n",
              "      <td>0</td>\n",
              "      <td>0</td>\n",
              "      <td>School</td>\n",
              "      <td>0.311267</td>\n",
              "      <td>0.622246</td>\n",
              "      <td>NaN</td>\n",
              "      <td>0.0959</td>\n",
              "      <td>0.0529</td>\n",
              "      <td>0.9851</td>\n",
              "      <td>0.7960</td>\n",
              "      <td>0.0605</td>\n",
              "      <td>0.08</td>\n",
              "      <td>0.0345</td>\n",
              "      <td>0.2917</td>\n",
              "      <td>0.3333</td>\n",
              "      <td>0.0130</td>\n",
              "      <td>0.0773</td>\n",
              "      <td>0.0549</td>\n",
              "      <td>0.0039</td>\n",
              "      <td>0.0098</td>\n",
              "      <td>0.0924</td>\n",
              "      <td>0.0538</td>\n",
              "      <td>0.9851</td>\n",
              "      <td>0.8040</td>\n",
              "      <td>0.0497</td>\n",
              "      <td>0.0806</td>\n",
              "      <td>0.0345</td>\n",
              "      <td>0.2917</td>\n",
              "      <td>0.3333</td>\n",
              "      <td>0.0128</td>\n",
              "      <td>0.079</td>\n",
              "      <td>0.0554</td>\n",
              "      <td>0.0</td>\n",
              "      <td>0.0</td>\n",
              "      <td>0.0968</td>\n",
              "      <td>0.0529</td>\n",
              "      <td>0.9851</td>\n",
              "      <td>0.7987</td>\n",
              "      <td>0.0608</td>\n",
              "      <td>0.08</td>\n",
              "      <td>0.0345</td>\n",
              "      <td>0.2917</td>\n",
              "      <td>0.3333</td>\n",
              "      <td>0.0132</td>\n",
              "      <td>0.0787</td>\n",
              "      <td>0.0558</td>\n",
              "      <td>0.0039</td>\n",
              "      <td>0.01</td>\n",
              "      <td>reg oper account</td>\n",
              "      <td>block of flats</td>\n",
              "      <td>0.0714</td>\n",
              "      <td>Block</td>\n",
              "      <td>No</td>\n",
              "      <td>1.0</td>\n",
              "      <td>0.0</td>\n",
              "      <td>1.0</td>\n",
              "      <td>0.0</td>\n",
              "      <td>-828.0</td>\n",
              "      <td>0</td>\n",
              "      <td>1</td>\n",
              "      <td>0</td>\n",
              "      <td>0</td>\n",
              "      <td>0</td>\n",
              "      <td>0</td>\n",
              "      <td>0</td>\n",
              "      <td>0</td>\n",
              "      <td>0</td>\n",
              "      <td>0</td>\n",
              "      <td>0</td>\n",
              "      <td>0</td>\n",
              "      <td>0</td>\n",
              "      <td>0</td>\n",
              "      <td>0</td>\n",
              "      <td>0</td>\n",
              "      <td>0</td>\n",
              "      <td>0</td>\n",
              "      <td>0</td>\n",
              "      <td>0</td>\n",
              "      <td>0.0</td>\n",
              "      <td>0.0</td>\n",
              "      <td>0.0</td>\n",
              "      <td>0.0</td>\n",
              "      <td>0.0</td>\n",
              "      <td>0.0</td>\n",
              "    </tr>\n",
              "    <tr>\n",
              "      <th>2</th>\n",
              "      <td>100004</td>\n",
              "      <td>0</td>\n",
              "      <td>Revolving loans</td>\n",
              "      <td>M</td>\n",
              "      <td>Y</td>\n",
              "      <td>Y</td>\n",
              "      <td>0</td>\n",
              "      <td>67500.0</td>\n",
              "      <td>135000.0</td>\n",
              "      <td>6750.0</td>\n",
              "      <td>135000.0</td>\n",
              "      <td>Unaccompanied</td>\n",
              "      <td>Working</td>\n",
              "      <td>Secondary / secondary special</td>\n",
              "      <td>Single / not married</td>\n",
              "      <td>House / apartment</td>\n",
              "      <td>0.010032</td>\n",
              "      <td>-19046</td>\n",
              "      <td>-225</td>\n",
              "      <td>-4260.0</td>\n",
              "      <td>-2531</td>\n",
              "      <td>26.0</td>\n",
              "      <td>1</td>\n",
              "      <td>1</td>\n",
              "      <td>1</td>\n",
              "      <td>1</td>\n",
              "      <td>1</td>\n",
              "      <td>0</td>\n",
              "      <td>Laborers</td>\n",
              "      <td>1.0</td>\n",
              "      <td>2</td>\n",
              "      <td>2</td>\n",
              "      <td>MONDAY</td>\n",
              "      <td>9</td>\n",
              "      <td>0</td>\n",
              "      <td>0</td>\n",
              "      <td>0</td>\n",
              "      <td>0</td>\n",
              "      <td>0</td>\n",
              "      <td>0</td>\n",
              "      <td>Government</td>\n",
              "      <td>NaN</td>\n",
              "      <td>0.555912</td>\n",
              "      <td>0.729567</td>\n",
              "      <td>NaN</td>\n",
              "      <td>NaN</td>\n",
              "      <td>NaN</td>\n",
              "      <td>NaN</td>\n",
              "      <td>NaN</td>\n",
              "      <td>NaN</td>\n",
              "      <td>NaN</td>\n",
              "      <td>NaN</td>\n",
              "      <td>NaN</td>\n",
              "      <td>NaN</td>\n",
              "      <td>NaN</td>\n",
              "      <td>NaN</td>\n",
              "      <td>NaN</td>\n",
              "      <td>NaN</td>\n",
              "      <td>NaN</td>\n",
              "      <td>NaN</td>\n",
              "      <td>NaN</td>\n",
              "      <td>NaN</td>\n",
              "      <td>NaN</td>\n",
              "      <td>NaN</td>\n",
              "      <td>NaN</td>\n",
              "      <td>NaN</td>\n",
              "      <td>NaN</td>\n",
              "      <td>NaN</td>\n",
              "      <td>NaN</td>\n",
              "      <td>NaN</td>\n",
              "      <td>NaN</td>\n",
              "      <td>NaN</td>\n",
              "      <td>NaN</td>\n",
              "      <td>NaN</td>\n",
              "      <td>NaN</td>\n",
              "      <td>NaN</td>\n",
              "      <td>NaN</td>\n",
              "      <td>NaN</td>\n",
              "      <td>NaN</td>\n",
              "      <td>NaN</td>\n",
              "      <td>NaN</td>\n",
              "      <td>NaN</td>\n",
              "      <td>NaN</td>\n",
              "      <td>NaN</td>\n",
              "      <td>NaN</td>\n",
              "      <td>NaN</td>\n",
              "      <td>NaN</td>\n",
              "      <td>NaN</td>\n",
              "      <td>NaN</td>\n",
              "      <td>NaN</td>\n",
              "      <td>NaN</td>\n",
              "      <td>0.0</td>\n",
              "      <td>0.0</td>\n",
              "      <td>0.0</td>\n",
              "      <td>0.0</td>\n",
              "      <td>-815.0</td>\n",
              "      <td>0</td>\n",
              "      <td>0</td>\n",
              "      <td>0</td>\n",
              "      <td>0</td>\n",
              "      <td>0</td>\n",
              "      <td>0</td>\n",
              "      <td>0</td>\n",
              "      <td>0</td>\n",
              "      <td>0</td>\n",
              "      <td>0</td>\n",
              "      <td>0</td>\n",
              "      <td>0</td>\n",
              "      <td>0</td>\n",
              "      <td>0</td>\n",
              "      <td>0</td>\n",
              "      <td>0</td>\n",
              "      <td>0</td>\n",
              "      <td>0</td>\n",
              "      <td>0</td>\n",
              "      <td>0</td>\n",
              "      <td>0.0</td>\n",
              "      <td>0.0</td>\n",
              "      <td>0.0</td>\n",
              "      <td>0.0</td>\n",
              "      <td>0.0</td>\n",
              "      <td>0.0</td>\n",
              "    </tr>\n",
              "    <tr>\n",
              "      <th>3</th>\n",
              "      <td>100006</td>\n",
              "      <td>0</td>\n",
              "      <td>Cash loans</td>\n",
              "      <td>F</td>\n",
              "      <td>N</td>\n",
              "      <td>Y</td>\n",
              "      <td>0</td>\n",
              "      <td>135000.0</td>\n",
              "      <td>312682.5</td>\n",
              "      <td>29686.5</td>\n",
              "      <td>297000.0</td>\n",
              "      <td>Unaccompanied</td>\n",
              "      <td>Working</td>\n",
              "      <td>Secondary / secondary special</td>\n",
              "      <td>Civil marriage</td>\n",
              "      <td>House / apartment</td>\n",
              "      <td>0.008019</td>\n",
              "      <td>-19005</td>\n",
              "      <td>-3039</td>\n",
              "      <td>-9833.0</td>\n",
              "      <td>-2437</td>\n",
              "      <td>NaN</td>\n",
              "      <td>1</td>\n",
              "      <td>1</td>\n",
              "      <td>0</td>\n",
              "      <td>1</td>\n",
              "      <td>0</td>\n",
              "      <td>0</td>\n",
              "      <td>Laborers</td>\n",
              "      <td>2.0</td>\n",
              "      <td>2</td>\n",
              "      <td>2</td>\n",
              "      <td>WEDNESDAY</td>\n",
              "      <td>17</td>\n",
              "      <td>0</td>\n",
              "      <td>0</td>\n",
              "      <td>0</td>\n",
              "      <td>0</td>\n",
              "      <td>0</td>\n",
              "      <td>0</td>\n",
              "      <td>Business Entity Type 3</td>\n",
              "      <td>NaN</td>\n",
              "      <td>0.650442</td>\n",
              "      <td>NaN</td>\n",
              "      <td>NaN</td>\n",
              "      <td>NaN</td>\n",
              "      <td>NaN</td>\n",
              "      <td>NaN</td>\n",
              "      <td>NaN</td>\n",
              "      <td>NaN</td>\n",
              "      <td>NaN</td>\n",
              "      <td>NaN</td>\n",
              "      <td>NaN</td>\n",
              "      <td>NaN</td>\n",
              "      <td>NaN</td>\n",
              "      <td>NaN</td>\n",
              "      <td>NaN</td>\n",
              "      <td>NaN</td>\n",
              "      <td>NaN</td>\n",
              "      <td>NaN</td>\n",
              "      <td>NaN</td>\n",
              "      <td>NaN</td>\n",
              "      <td>NaN</td>\n",
              "      <td>NaN</td>\n",
              "      <td>NaN</td>\n",
              "      <td>NaN</td>\n",
              "      <td>NaN</td>\n",
              "      <td>NaN</td>\n",
              "      <td>NaN</td>\n",
              "      <td>NaN</td>\n",
              "      <td>NaN</td>\n",
              "      <td>NaN</td>\n",
              "      <td>NaN</td>\n",
              "      <td>NaN</td>\n",
              "      <td>NaN</td>\n",
              "      <td>NaN</td>\n",
              "      <td>NaN</td>\n",
              "      <td>NaN</td>\n",
              "      <td>NaN</td>\n",
              "      <td>NaN</td>\n",
              "      <td>NaN</td>\n",
              "      <td>NaN</td>\n",
              "      <td>NaN</td>\n",
              "      <td>NaN</td>\n",
              "      <td>NaN</td>\n",
              "      <td>NaN</td>\n",
              "      <td>NaN</td>\n",
              "      <td>NaN</td>\n",
              "      <td>NaN</td>\n",
              "      <td>NaN</td>\n",
              "      <td>NaN</td>\n",
              "      <td>2.0</td>\n",
              "      <td>0.0</td>\n",
              "      <td>2.0</td>\n",
              "      <td>0.0</td>\n",
              "      <td>-617.0</td>\n",
              "      <td>0</td>\n",
              "      <td>1</td>\n",
              "      <td>0</td>\n",
              "      <td>0</td>\n",
              "      <td>0</td>\n",
              "      <td>0</td>\n",
              "      <td>0</td>\n",
              "      <td>0</td>\n",
              "      <td>0</td>\n",
              "      <td>0</td>\n",
              "      <td>0</td>\n",
              "      <td>0</td>\n",
              "      <td>0</td>\n",
              "      <td>0</td>\n",
              "      <td>0</td>\n",
              "      <td>0</td>\n",
              "      <td>0</td>\n",
              "      <td>0</td>\n",
              "      <td>0</td>\n",
              "      <td>0</td>\n",
              "      <td>NaN</td>\n",
              "      <td>NaN</td>\n",
              "      <td>NaN</td>\n",
              "      <td>NaN</td>\n",
              "      <td>NaN</td>\n",
              "      <td>NaN</td>\n",
              "    </tr>\n",
              "    <tr>\n",
              "      <th>4</th>\n",
              "      <td>100007</td>\n",
              "      <td>0</td>\n",
              "      <td>Cash loans</td>\n",
              "      <td>M</td>\n",
              "      <td>N</td>\n",
              "      <td>Y</td>\n",
              "      <td>0</td>\n",
              "      <td>121500.0</td>\n",
              "      <td>513000.0</td>\n",
              "      <td>21865.5</td>\n",
              "      <td>513000.0</td>\n",
              "      <td>Unaccompanied</td>\n",
              "      <td>Working</td>\n",
              "      <td>Secondary / secondary special</td>\n",
              "      <td>Single / not married</td>\n",
              "      <td>House / apartment</td>\n",
              "      <td>0.028663</td>\n",
              "      <td>-19932</td>\n",
              "      <td>-3038</td>\n",
              "      <td>-4311.0</td>\n",
              "      <td>-3458</td>\n",
              "      <td>NaN</td>\n",
              "      <td>1</td>\n",
              "      <td>1</td>\n",
              "      <td>0</td>\n",
              "      <td>1</td>\n",
              "      <td>0</td>\n",
              "      <td>0</td>\n",
              "      <td>Core staff</td>\n",
              "      <td>1.0</td>\n",
              "      <td>2</td>\n",
              "      <td>2</td>\n",
              "      <td>THURSDAY</td>\n",
              "      <td>11</td>\n",
              "      <td>0</td>\n",
              "      <td>0</td>\n",
              "      <td>0</td>\n",
              "      <td>0</td>\n",
              "      <td>1</td>\n",
              "      <td>1</td>\n",
              "      <td>Religion</td>\n",
              "      <td>NaN</td>\n",
              "      <td>0.322738</td>\n",
              "      <td>NaN</td>\n",
              "      <td>NaN</td>\n",
              "      <td>NaN</td>\n",
              "      <td>NaN</td>\n",
              "      <td>NaN</td>\n",
              "      <td>NaN</td>\n",
              "      <td>NaN</td>\n",
              "      <td>NaN</td>\n",
              "      <td>NaN</td>\n",
              "      <td>NaN</td>\n",
              "      <td>NaN</td>\n",
              "      <td>NaN</td>\n",
              "      <td>NaN</td>\n",
              "      <td>NaN</td>\n",
              "      <td>NaN</td>\n",
              "      <td>NaN</td>\n",
              "      <td>NaN</td>\n",
              "      <td>NaN</td>\n",
              "      <td>NaN</td>\n",
              "      <td>NaN</td>\n",
              "      <td>NaN</td>\n",
              "      <td>NaN</td>\n",
              "      <td>NaN</td>\n",
              "      <td>NaN</td>\n",
              "      <td>NaN</td>\n",
              "      <td>NaN</td>\n",
              "      <td>NaN</td>\n",
              "      <td>NaN</td>\n",
              "      <td>NaN</td>\n",
              "      <td>NaN</td>\n",
              "      <td>NaN</td>\n",
              "      <td>NaN</td>\n",
              "      <td>NaN</td>\n",
              "      <td>NaN</td>\n",
              "      <td>NaN</td>\n",
              "      <td>NaN</td>\n",
              "      <td>NaN</td>\n",
              "      <td>NaN</td>\n",
              "      <td>NaN</td>\n",
              "      <td>NaN</td>\n",
              "      <td>NaN</td>\n",
              "      <td>NaN</td>\n",
              "      <td>NaN</td>\n",
              "      <td>NaN</td>\n",
              "      <td>NaN</td>\n",
              "      <td>NaN</td>\n",
              "      <td>NaN</td>\n",
              "      <td>NaN</td>\n",
              "      <td>0.0</td>\n",
              "      <td>0.0</td>\n",
              "      <td>0.0</td>\n",
              "      <td>0.0</td>\n",
              "      <td>-1106.0</td>\n",
              "      <td>0</td>\n",
              "      <td>0</td>\n",
              "      <td>0</td>\n",
              "      <td>0</td>\n",
              "      <td>0</td>\n",
              "      <td>0</td>\n",
              "      <td>1</td>\n",
              "      <td>0</td>\n",
              "      <td>0</td>\n",
              "      <td>0</td>\n",
              "      <td>0</td>\n",
              "      <td>0</td>\n",
              "      <td>0</td>\n",
              "      <td>0</td>\n",
              "      <td>0</td>\n",
              "      <td>0</td>\n",
              "      <td>0</td>\n",
              "      <td>0</td>\n",
              "      <td>0</td>\n",
              "      <td>0</td>\n",
              "      <td>0.0</td>\n",
              "      <td>0.0</td>\n",
              "      <td>0.0</td>\n",
              "      <td>0.0</td>\n",
              "      <td>0.0</td>\n",
              "      <td>0.0</td>\n",
              "    </tr>\n",
              "  </tbody>\n",
              "</table>\n",
              "</div>\n",
              "    <div class=\"colab-df-buttons\">\n",
              "\n",
              "  <div class=\"colab-df-container\">\n",
              "    <button class=\"colab-df-convert\" onclick=\"convertToInteractive('df-cd2dc13a-3d95-4450-a0fc-24be96323359')\"\n",
              "            title=\"Convert this dataframe to an interactive table.\"\n",
              "            style=\"display:none;\">\n",
              "\n",
              "  <svg xmlns=\"http://www.w3.org/2000/svg\" height=\"24px\" viewBox=\"0 -960 960 960\">\n",
              "    <path d=\"M120-120v-720h720v720H120Zm60-500h600v-160H180v160Zm220 220h160v-160H400v160Zm0 220h160v-160H400v160ZM180-400h160v-160H180v160Zm440 0h160v-160H620v160ZM180-180h160v-160H180v160Zm440 0h160v-160H620v160Z\"/>\n",
              "  </svg>\n",
              "    </button>\n",
              "\n",
              "  <style>\n",
              "    .colab-df-container {\n",
              "      display:flex;\n",
              "      gap: 12px;\n",
              "    }\n",
              "\n",
              "    .colab-df-convert {\n",
              "      background-color: #E8F0FE;\n",
              "      border: none;\n",
              "      border-radius: 50%;\n",
              "      cursor: pointer;\n",
              "      display: none;\n",
              "      fill: #1967D2;\n",
              "      height: 32px;\n",
              "      padding: 0 0 0 0;\n",
              "      width: 32px;\n",
              "    }\n",
              "\n",
              "    .colab-df-convert:hover {\n",
              "      background-color: #E2EBFA;\n",
              "      box-shadow: 0px 1px 2px rgba(60, 64, 67, 0.3), 0px 1px 3px 1px rgba(60, 64, 67, 0.15);\n",
              "      fill: #174EA6;\n",
              "    }\n",
              "\n",
              "    .colab-df-buttons div {\n",
              "      margin-bottom: 4px;\n",
              "    }\n",
              "\n",
              "    [theme=dark] .colab-df-convert {\n",
              "      background-color: #3B4455;\n",
              "      fill: #D2E3FC;\n",
              "    }\n",
              "\n",
              "    [theme=dark] .colab-df-convert:hover {\n",
              "      background-color: #434B5C;\n",
              "      box-shadow: 0px 1px 3px 1px rgba(0, 0, 0, 0.15);\n",
              "      filter: drop-shadow(0px 1px 2px rgba(0, 0, 0, 0.3));\n",
              "      fill: #FFFFFF;\n",
              "    }\n",
              "  </style>\n",
              "\n",
              "    <script>\n",
              "      const buttonEl =\n",
              "        document.querySelector('#df-cd2dc13a-3d95-4450-a0fc-24be96323359 button.colab-df-convert');\n",
              "      buttonEl.style.display =\n",
              "        google.colab.kernel.accessAllowed ? 'block' : 'none';\n",
              "\n",
              "      async function convertToInteractive(key) {\n",
              "        const element = document.querySelector('#df-cd2dc13a-3d95-4450-a0fc-24be96323359');\n",
              "        const dataTable =\n",
              "          await google.colab.kernel.invokeFunction('convertToInteractive',\n",
              "                                                    [key], {});\n",
              "        if (!dataTable) return;\n",
              "\n",
              "        const docLinkHtml = 'Like what you see? Visit the ' +\n",
              "          '<a target=\"_blank\" href=https://colab.research.google.com/notebooks/data_table.ipynb>data table notebook</a>'\n",
              "          + ' to learn more about interactive tables.';\n",
              "        element.innerHTML = '';\n",
              "        dataTable['output_type'] = 'display_data';\n",
              "        await google.colab.output.renderOutput(dataTable, element);\n",
              "        const docLink = document.createElement('div');\n",
              "        docLink.innerHTML = docLinkHtml;\n",
              "        element.appendChild(docLink);\n",
              "      }\n",
              "    </script>\n",
              "  </div>\n",
              "\n",
              "\n",
              "<div id=\"df-1dfcc0c6-c7ac-4611-b597-b9aee89f747a\">\n",
              "  <button class=\"colab-df-quickchart\" onclick=\"quickchart('df-1dfcc0c6-c7ac-4611-b597-b9aee89f747a')\"\n",
              "            title=\"Suggest charts\"\n",
              "            style=\"display:none;\">\n",
              "\n",
              "<svg xmlns=\"http://www.w3.org/2000/svg\" height=\"24px\"viewBox=\"0 0 24 24\"\n",
              "     width=\"24px\">\n",
              "    <g>\n",
              "        <path d=\"M19 3H5c-1.1 0-2 .9-2 2v14c0 1.1.9 2 2 2h14c1.1 0 2-.9 2-2V5c0-1.1-.9-2-2-2zM9 17H7v-7h2v7zm4 0h-2V7h2v10zm4 0h-2v-4h2v4z\"/>\n",
              "    </g>\n",
              "</svg>\n",
              "  </button>\n",
              "\n",
              "<style>\n",
              "  .colab-df-quickchart {\n",
              "      --bg-color: #E8F0FE;\n",
              "      --fill-color: #1967D2;\n",
              "      --hover-bg-color: #E2EBFA;\n",
              "      --hover-fill-color: #174EA6;\n",
              "      --disabled-fill-color: #AAA;\n",
              "      --disabled-bg-color: #DDD;\n",
              "  }\n",
              "\n",
              "  [theme=dark] .colab-df-quickchart {\n",
              "      --bg-color: #3B4455;\n",
              "      --fill-color: #D2E3FC;\n",
              "      --hover-bg-color: #434B5C;\n",
              "      --hover-fill-color: #FFFFFF;\n",
              "      --disabled-bg-color: #3B4455;\n",
              "      --disabled-fill-color: #666;\n",
              "  }\n",
              "\n",
              "  .colab-df-quickchart {\n",
              "    background-color: var(--bg-color);\n",
              "    border: none;\n",
              "    border-radius: 50%;\n",
              "    cursor: pointer;\n",
              "    display: none;\n",
              "    fill: var(--fill-color);\n",
              "    height: 32px;\n",
              "    padding: 0;\n",
              "    width: 32px;\n",
              "  }\n",
              "\n",
              "  .colab-df-quickchart:hover {\n",
              "    background-color: var(--hover-bg-color);\n",
              "    box-shadow: 0 1px 2px rgba(60, 64, 67, 0.3), 0 1px 3px 1px rgba(60, 64, 67, 0.15);\n",
              "    fill: var(--button-hover-fill-color);\n",
              "  }\n",
              "\n",
              "  .colab-df-quickchart-complete:disabled,\n",
              "  .colab-df-quickchart-complete:disabled:hover {\n",
              "    background-color: var(--disabled-bg-color);\n",
              "    fill: var(--disabled-fill-color);\n",
              "    box-shadow: none;\n",
              "  }\n",
              "\n",
              "  .colab-df-spinner {\n",
              "    border: 2px solid var(--fill-color);\n",
              "    border-color: transparent;\n",
              "    border-bottom-color: var(--fill-color);\n",
              "    animation:\n",
              "      spin 1s steps(1) infinite;\n",
              "  }\n",
              "\n",
              "  @keyframes spin {\n",
              "    0% {\n",
              "      border-color: transparent;\n",
              "      border-bottom-color: var(--fill-color);\n",
              "      border-left-color: var(--fill-color);\n",
              "    }\n",
              "    20% {\n",
              "      border-color: transparent;\n",
              "      border-left-color: var(--fill-color);\n",
              "      border-top-color: var(--fill-color);\n",
              "    }\n",
              "    30% {\n",
              "      border-color: transparent;\n",
              "      border-left-color: var(--fill-color);\n",
              "      border-top-color: var(--fill-color);\n",
              "      border-right-color: var(--fill-color);\n",
              "    }\n",
              "    40% {\n",
              "      border-color: transparent;\n",
              "      border-right-color: var(--fill-color);\n",
              "      border-top-color: var(--fill-color);\n",
              "    }\n",
              "    60% {\n",
              "      border-color: transparent;\n",
              "      border-right-color: var(--fill-color);\n",
              "    }\n",
              "    80% {\n",
              "      border-color: transparent;\n",
              "      border-right-color: var(--fill-color);\n",
              "      border-bottom-color: var(--fill-color);\n",
              "    }\n",
              "    90% {\n",
              "      border-color: transparent;\n",
              "      border-bottom-color: var(--fill-color);\n",
              "    }\n",
              "  }\n",
              "</style>\n",
              "\n",
              "  <script>\n",
              "    async function quickchart(key) {\n",
              "      const quickchartButtonEl =\n",
              "        document.querySelector('#' + key + ' button');\n",
              "      quickchartButtonEl.disabled = true;  // To prevent multiple clicks.\n",
              "      quickchartButtonEl.classList.add('colab-df-spinner');\n",
              "      try {\n",
              "        const charts = await google.colab.kernel.invokeFunction(\n",
              "            'suggestCharts', [key], {});\n",
              "      } catch (error) {\n",
              "        console.error('Error during call to suggestCharts:', error);\n",
              "      }\n",
              "      quickchartButtonEl.classList.remove('colab-df-spinner');\n",
              "      quickchartButtonEl.classList.add('colab-df-quickchart-complete');\n",
              "    }\n",
              "    (() => {\n",
              "      let quickchartButtonEl =\n",
              "        document.querySelector('#df-1dfcc0c6-c7ac-4611-b597-b9aee89f747a button');\n",
              "      quickchartButtonEl.style.display =\n",
              "        google.colab.kernel.accessAllowed ? 'block' : 'none';\n",
              "    })();\n",
              "  </script>\n",
              "</div>\n",
              "\n",
              "    </div>\n",
              "  </div>\n"
            ],
            "application/vnd.google.colaboratory.intrinsic+json": {
              "type": "dataframe",
              "variable_name": "application_train_raw"
            }
          },
          "metadata": {},
          "execution_count": 8
        }
      ]
    },
    {
      "cell_type": "markdown",
      "source": [
        "Les données d'entraînement contiennent 307 511 observations (chacune étant un prêt distinct) et 122 variables, y compris la cible `TARGET` (l'étiquette que nous voulons prédire).\n",
        "\n",
        "---"
      ],
      "metadata": {
        "id": "-rDSck8RJNdF"
      }
    },
    {
      "cell_type": "markdown",
      "source": [
        "## 👀 Étape 1 - Analyse exploratoire\n",
        "\n",
        "- **Analyse exploratoire** du jeu de données pour comprendre sa structure et ses caractéristiques.\n",
        "- Identification des opportunités de **Feature engineering** pour améliorer la performance du modèle.\n",
        "- Construire au moins **trois nouvelles variables** à partir des variables existantes qui te semblent pertinentes pour améliorer le pouvoir prédictif du modèle.\n",
        "\n",
        "### Recommandations\n",
        "\n",
        "- Assurez-vous d'utiliser le bon fichier (application_train.csv) pour l'analyse exploratoire.\n",
        "- Vérifiez les valeurs manquantes et les valeurs extrêmes dans le jeu de données.\n",
        "\n",
        "### Choix du kernal Kaggle\n",
        "\n",
        "- https://www.kaggle.com/code/willkoehrsen/start-here-a-gentle-introduction/notebook\n",
        "\n",
        "\n",
        "---\n"
      ],
      "metadata": {
        "id": "sGhKBaO0dp-Z"
      }
    },
    {
      "cell_type": "markdown",
      "source": [
        "### Compréhension des variables\n",
        "\n",
        " La compréhension des données est essentielle pour effectuer un **feature engineering** efficace et garantir un **prétraitement optimal**.\n",
        "\n",
        "La compréhension des variables repose sur trois piliers principaux :  \n",
        "1. Connaissance métier\n",
        "2. [Description des colonnes | Google Sheet](https://docs.google.com/spreadsheets/d/1xHunq-9huLdwsmxzcC0foqXvP35-Riy_PlqViogj6wk/edit?usp=sharing)\n",
        "3. Observation des données\n",
        "\n",
        "#### La cible : difficuté de paiement `TARGET`\n",
        "\n",
        "La variable cible est la **difficuté de paiement** :\n",
        "- `1` : **client en difficulté de paiement**, il/elle a eu un retard de paiement de plus de X jours sur au moins une des Y premières échéances du prêt dans notre échantillon\n",
        "- `0` : tous les autres cas\n",
        "\n",
        "\n",
        "\n",
        "#### Types de variables identifiées\n",
        "\n",
        "1. 🔴 **Variables catégorielles**  \n",
        "   - Ce sont des variables qualitatives qui représentent des catégories distinctes.  \n",
        "   - Exemple : `NAME_CONTRACT_TYPE`, qui indique le type de contrat (Cash loans, Revolving loans).\n",
        "\n",
        "2. 🟠 **Variables binaires**  \n",
        "   - Variables numériques ne prenant que deux valeurs possibles (0 ou 1) pour indiquer une propriété ou un état.  \n",
        "   - Exemple : `FLAG_OWN_CAR`, qui indique si le client possède une voiture.\n",
        "\n",
        "3. 🟡 **Variables quantitatives**  \n",
        "   - Variables numériques représentant une quantité mesurable.  \n",
        "   - Exemple : `AMT_INCOME_TOTAL`, qui correspond au revenu total du client.\n",
        "\n",
        "4. 🟢 **Variables quantitatives normalisées**  \n",
        "   - Variables quantitatives transformées pour les ramener dans une plage ou une distribution standardisée.  \n",
        "   - Exemple : des ratios financiers tels que le rapport `AMT_CREDIT / AMT_INCOME_TOTAL`.\n",
        "\n",
        "5. 🔵 **Variables quantitatives ordinales**   (\"ratings\")\n",
        "   - Variables numériques reflétant un classement ou une hiérarchie où l’ordre des valeurs a une signification, mais sans équidistance entre les niveaux.  \n",
        "   - Exemple : `REGION_RATING_CLIENT`, qui classe les régions selon leur qualité.\n",
        "\n",
        "6. 🟣 **Variables cycliques**  \n",
        "   - Variables numériques ayant une nature cyclique, où les extrémités se rejoignent (exemple : heures, jours).  \n",
        "   - Exemple : `HOUR_APPR_PROCESS_START`, représentant l’heure de la demande de prêt.\n",
        "\n",
        "\n",
        "\n"
      ],
      "metadata": {
        "id": "Rj50OSJaPMJr"
      }
    },
    {
      "cell_type": "code",
      "source": [
        "application_train_raw.info()"
      ],
      "metadata": {
        "id": "q_mtosKo_KGu",
        "colab": {
          "base_uri": "https://localhost:8080/"
        },
        "outputId": "583e944b-157f-4351-90bb-8f3ba493ec02"
      },
      "execution_count": null,
      "outputs": [
        {
          "output_type": "stream",
          "name": "stdout",
          "text": [
            "<class 'pandas.core.frame.DataFrame'>\n",
            "RangeIndex: 307511 entries, 0 to 307510\n",
            "Columns: 122 entries, SK_ID_CURR to AMT_REQ_CREDIT_BUREAU_YEAR\n",
            "dtypes: float64(65), int64(41), object(16)\n",
            "memory usage: 286.2+ MB\n"
          ]
        }
      ]
    },
    {
      "cell_type": "code",
      "source": [
        "application_train_raw.head(12)"
      ],
      "metadata": {
        "id": "OsyjysveN56H"
      },
      "execution_count": null,
      "outputs": []
    },
    {
      "cell_type": "markdown",
      "source": [
        "#### 🔴 Variables catégorielles"
      ],
      "metadata": {
        "id": "YYMO8IuHbNUy"
      }
    },
    {
      "cell_type": "code",
      "source": [
        "# Verified ✅\n",
        "cat_cols = [\n",
        "  'FLAG_OWN_CAR',\n",
        "  'FLAG_OWN_REALTY',\n",
        "  'NAME_CONTRACT_TYPE',\n",
        "  'EMERGENCYSTATE_MODE',\n",
        "  'CODE_GENDER',\n",
        "  'NAME_TYPE_SUITE',\n",
        "  'NAME_INCOME_TYPE',\n",
        "  'NAME_EDUCATION_TYPE',\n",
        "  'NAME_FAMILY_STATUS',\n",
        "  'NAME_HOUSING_TYPE',\n",
        "  'OCCUPATION_TYPE',\n",
        "  'WEEKDAY_APPR_PROCESS_START',\n",
        "  'ORGANIZATION_TYPE',\n",
        "  'FONDKAPREMONT_MODE',\n",
        "  'HOUSETYPE_MODE',\n",
        "  'WALLSMATERIAL_MODE'\n",
        "]\n",
        "len(cat_cols)"
      ],
      "metadata": {
        "id": "U5LNcEe0Vb2Q"
      },
      "execution_count": null,
      "outputs": []
    },
    {
      "cell_type": "code",
      "source": [
        "categorical_df = application_train_raw[cat_cols]\n",
        "categorical_df.head(10)"
      ],
      "metadata": {
        "id": "qsknK10uhAgt"
      },
      "execution_count": null,
      "outputs": []
    },
    {
      "cell_type": "code",
      "source": [
        "# Liste des variables qualitatives avec le nombre de modalités dans un dataframe par ordre décroissant\n",
        "def print_cat_cols_modalities(df):\n",
        "  # Calculate the number of unique values for each categorical column\n",
        "  cat_cols_modalities = {}\n",
        "  for col in cat_cols:\n",
        "      cat_cols_modalities[col] = df[col].nunique()\n",
        "  # Create a DataFrame from the dictionary\n",
        "  cat_cols_modalities_df = pd.DataFrame(list(cat_cols_modalities.items()), columns=['Colonnes', 'Nombre de modalités'])\n",
        "  # Sort the DataFrame by the number of modalities in descending order\n",
        "  cat_cols_modalities_df = cat_cols_modalities_df.sort_values(by='Nombre de modalités', ascending=False, ignore_index=True)\n",
        "  # Display the result\n",
        "  print(cat_cols_modalities_df)\n",
        "\n",
        "print_cat_cols_modalities(application_train_raw)"
      ],
      "metadata": {
        "id": "GIybaULLgWzH"
      },
      "execution_count": null,
      "outputs": []
    },
    {
      "cell_type": "code",
      "source": [
        "# Afficher les modalités des variables catégorielles\n",
        "for cat in cat_cols:\n",
        "  print(cat)\n",
        "  print(application_train_raw[cat].unique())\n",
        "  print()"
      ],
      "metadata": {
        "id": "-5nJEXYe-7GT"
      },
      "execution_count": null,
      "outputs": []
    },
    {
      "cell_type": "markdown",
      "source": [
        "#### 🟠 Variables booléennes binaires\n",
        "\n",
        "Les variables binaires sont des variables numériques qui ne prennent que deux valeurs possibles : 0 ou 1. Elles sont souvent utilisées pour représenter la présence ou l'absence d'une caractéristique."
      ],
      "metadata": {
        "id": "d1zi7lw9gNIe"
      }
    },
    {
      "cell_type": "code",
      "source": [
        "# Verified ✅\n",
        "binary_cols = [\n",
        "  'REG_REGION_NOT_LIVE_REGION',\n",
        "  'REG_REGION_NOT_WORK_REGION',\n",
        "  'REG_CITY_NOT_LIVE_CITY',\n",
        "  'REG_CITY_NOT_WORK_CITY',\n",
        "  'LIVE_REGION_NOT_WORK_REGION',\n",
        "  'LIVE_CITY_NOT_WORK_CITY',\n",
        "  'FLAG_MOBIL',\n",
        "  'FLAG_EMP_PHONE',\n",
        "  'FLAG_WORK_PHONE',\n",
        "  'FLAG_CONT_MOBILE',\n",
        "  'FLAG_PHONE',\n",
        "  'FLAG_EMAIL',\n",
        "  'FLAG_DOCUMENT_2',\n",
        "  'FLAG_DOCUMENT_3',\n",
        "  'FLAG_DOCUMENT_4',\n",
        "  'FLAG_DOCUMENT_5',\n",
        "  'FLAG_DOCUMENT_6',\n",
        "  'FLAG_DOCUMENT_7',\n",
        "  'FLAG_DOCUMENT_8',\n",
        "  'FLAG_DOCUMENT_9',\n",
        "  'FLAG_DOCUMENT_10',\n",
        "  'FLAG_DOCUMENT_11',\n",
        "  'FLAG_DOCUMENT_12',\n",
        "  'FLAG_DOCUMENT_13',\n",
        "  'FLAG_DOCUMENT_14',\n",
        "  'FLAG_DOCUMENT_15',\n",
        "  'FLAG_DOCUMENT_16',\n",
        "  'FLAG_DOCUMENT_17',\n",
        "  'FLAG_DOCUMENT_18',\n",
        "  'FLAG_DOCUMENT_19',\n",
        "  'FLAG_DOCUMENT_20',\n",
        "  'FLAG_DOCUMENT_21'\n",
        "]\n",
        "len(binary_cols)"
      ],
      "metadata": {
        "id": "Scvz82o-ivgo"
      },
      "execution_count": null,
      "outputs": []
    },
    {
      "cell_type": "code",
      "source": [
        "application_train_raw[binary_cols].head()"
      ],
      "metadata": {
        "id": "6IawtgYOaroZ"
      },
      "execution_count": null,
      "outputs": []
    },
    {
      "cell_type": "markdown",
      "source": [
        "#### 🟡 Variables quantitatives\n",
        "\n",
        "Nous **vérifions chaque variable dans la description des colonnes** pour nous assurer que chaque variable mésure une quantité comme le nombre de jours en emploi `DAYS_EMPLOYED` ou l'age de la voiture du client `OWN_CAR_AGE`."
      ],
      "metadata": {
        "id": "hHcBaS8WbwFr"
      }
    },
    {
      "cell_type": "code",
      "source": [
        "# Verified ✅\n",
        "quantity_cols = [\n",
        "  'AMT_CREDIT',\n",
        "  'AMT_ANNUITY',\n",
        "  'AMT_GOODS_PRICE',\n",
        "  'AMT_INCOME_TOTAL',\n",
        "  'CNT_CHILDREN',\n",
        "  'CNT_FAM_MEMBERS',\n",
        "  'OWN_CAR_AGE',\n",
        "  'DAYS_BIRTH',\n",
        "  'DAYS_REGISTRATION',\n",
        "  'DAYS_ID_PUBLISH',\n",
        "  'DAYS_EMPLOYED',\n",
        "  'DAYS_LAST_PHONE_CHANGE',\n",
        "  'DEF_30_CNT_SOCIAL_CIRCLE',\n",
        "  'DEF_60_CNT_SOCIAL_CIRCLE',\n",
        "  'OBS_60_CNT_SOCIAL_CIRCLE',\n",
        "  'OBS_30_CNT_SOCIAL_CIRCLE',\n",
        "  'AMT_REQ_CREDIT_BUREAU_HOUR',\n",
        "  'AMT_REQ_CREDIT_BUREAU_DAY',\n",
        "  'AMT_REQ_CREDIT_BUREAU_WEEK',\n",
        "  'AMT_REQ_CREDIT_BUREAU_YEAR',\n",
        "  'AMT_REQ_CREDIT_BUREAU_QRT',\n",
        "  'AMT_REQ_CREDIT_BUREAU_MON'\n",
        "]\n",
        "len(quantity_cols)"
      ],
      "metadata": {
        "id": "yZ_mVPcRaUsa"
      },
      "execution_count": null,
      "outputs": []
    },
    {
      "cell_type": "code",
      "source": [
        "application_train_raw[quantity_cols].head()"
      ],
      "metadata": {
        "id": "3yVxA7Q8bS5Z"
      },
      "execution_count": null,
      "outputs": []
    },
    {
      "cell_type": "markdown",
      "source": [
        "#### 🟢 Variables quantitatives normalisées\n",
        "\n",
        "D'après la description des colonnes, ces variables sont quantatives mais normalisées (entre 0 et 1).\n",
        "\n",
        "En python, nous vérifions que toutes les variables de `normalized_cols` sont numériques et comprises entre 0 et 1.\n",
        "\n",
        "**Erreurs dans la documentation** : ces variables sont classées comme normalisées dans la description alors que ce sont des catégories :\n",
        "\n",
        "- `FONDKAPREMONT_MODE`\n",
        "- `HOUSETYPE_MODE`\n",
        "- `WALLSMATERIAL_MODE`\n",
        "- `EMERGENCYSTATE_MODE`\n",
        "\n",
        "Nous les supprimons de `normalized_cols`.\n",
        "\n"
      ],
      "metadata": {
        "id": "Cl2ZsoCgbdIF"
      }
    },
    {
      "cell_type": "code",
      "source": [
        "# Verified ✅\n",
        "normalized_cols = [\n",
        "  \"REGION_POPULATION_RELATIVE\",\n",
        "  \"EXT_SOURCE_1\", \"EXT_SOURCE_2\", \"EXT_SOURCE_3\",\n",
        "  \"APARTMENTS_AVG\", \"BASEMENTAREA_AVG\", \"YEARS_BEGINEXPLUATATION_AVG\",\n",
        "  \"YEARS_BUILD_AVG\", \"COMMONAREA_AVG\", \"ELEVATORS_AVG\",\n",
        "  \"ENTRANCES_AVG\", \"FLOORSMAX_AVG\", \"FLOORSMIN_AVG\",\n",
        "  \"LANDAREA_AVG\", \"LIVINGAPARTMENTS_AVG\", \"LIVINGAREA_AVG\",\n",
        "  \"NONLIVINGAPARTMENTS_AVG\", \"NONLIVINGAREA_AVG\",\n",
        "  \"APARTMENTS_MODE\", \"BASEMENTAREA_MODE\", \"YEARS_BEGINEXPLUATATION_MODE\",\n",
        "  \"YEARS_BUILD_MODE\", \"COMMONAREA_MODE\", \"ELEVATORS_MODE\",\n",
        "  \"ENTRANCES_MODE\", \"FLOORSMAX_MODE\", \"FLOORSMIN_MODE\",\n",
        "  \"LANDAREA_MODE\", \"LIVINGAPARTMENTS_MODE\", \"LIVINGAREA_MODE\",\n",
        "  \"NONLIVINGAPARTMENTS_MODE\", \"NONLIVINGAREA_MODE\",\n",
        "  \"APARTMENTS_MEDI\", \"BASEMENTAREA_MEDI\", \"YEARS_BEGINEXPLUATATION_MEDI\",\n",
        "  \"YEARS_BUILD_MEDI\", \"COMMONAREA_MEDI\", \"ELEVATORS_MEDI\",\n",
        "  \"ENTRANCES_MEDI\", \"FLOORSMAX_MEDI\", \"FLOORSMIN_MEDI\",\n",
        "  \"LANDAREA_MEDI\", \"LIVINGAPARTMENTS_MEDI\", \"LIVINGAREA_MEDI\",\n",
        "  \"NONLIVINGAPARTMENTS_MEDI\", \"NONLIVINGAREA_MEDI\", \"TOTALAREA_MODE\"\n",
        "]\n",
        "len(normalized_cols)"
      ],
      "metadata": {
        "id": "UUJupoHdSg6L"
      },
      "execution_count": null,
      "outputs": []
    },
    {
      "cell_type": "markdown",
      "source": [
        "Nous vérifions que toutes les variables dans `normalized_cols` sont bien numériques et comprises entre 0 et 1."
      ],
      "metadata": {
        "id": "v7zrQlweJ6i9"
      }
    },
    {
      "cell_type": "code",
      "source": [
        "# @title\n",
        "def check_normalized_cols(df):\n",
        "  normalized_df = df[normalized_cols]\n",
        "\n",
        "  # Check for non-numeric values\n",
        "  non_numeric_cols = normalized_df.select_dtypes(exclude=['number']).columns\n",
        "  if len(non_numeric_cols) > 0:\n",
        "      print(f\"The following columns are not numeric: {', '.join(non_numeric_cols)}\")\n",
        "  else:\n",
        "    # Check if values are within the range [0, 1]\n",
        "    out_of_range = []\n",
        "    for col in normalized_cols:\n",
        "        min_val = normalized_df[col].min()\n",
        "        max_val = normalized_df[col].max()\n",
        "        if not (0 <= min_val <= 1 and 0 <= max_val <= 1):\n",
        "            out_of_range.append(col)\n",
        "\n",
        "    if out_of_range:\n",
        "        print(\"Les valeurs des colonnes suivantes ne sont pas comprises entre 0 et 1 :\")\n",
        "        for col in out_of_range:\n",
        "          print(f\"- {col}: min={normalized_df[col].min()}, max={normalized_df[col].max()}\")\n",
        "    else:\n",
        "        print(\"Toutes les colonnes de `normalized_cols` sont numériques et comprises entre 0 et 1.\")\n",
        "\n",
        "check_normalized_cols(application_train_raw)"
      ],
      "metadata": {
        "id": "sBp0V8xWEEAn",
        "cellView": "form"
      },
      "execution_count": null,
      "outputs": []
    },
    {
      "cell_type": "code",
      "source": [
        "application_train_raw[normalized_cols].head()"
      ],
      "metadata": {
        "id": "OnSlnlTxcHOR"
      },
      "execution_count": null,
      "outputs": []
    },
    {
      "cell_type": "markdown",
      "source": [
        "#### 🔵 Variables quantitatives ordinales (\"ratings\")\n",
        "\n",
        "Ce sont des variables quantitatives ordinales. Elles représentent un classement."
      ],
      "metadata": {
        "id": "rWKJf86KfQ56"
      }
    },
    {
      "cell_type": "code",
      "source": [
        "rating_cols = [\n",
        "  'REGION_RATING_CLIENT_W_CITY',\n",
        "  'REGION_RATING_CLIENT',\n",
        "]"
      ],
      "metadata": {
        "id": "SVia8S2rdKpI"
      },
      "execution_count": null,
      "outputs": []
    },
    {
      "cell_type": "code",
      "source": [
        "# prompt: Affiche les valeurs uniques pour application_train_raw[rating_cols]\n",
        "def print_unique_values(df: pd.DataFrame, cols: list) -> None :\n",
        "  print(df[cols].nunique())\n",
        "  print()\n",
        "  for col in cols:\n",
        "      print(f\"- Valeurs uniques pour {col} : {df[col].unique()}\")\n",
        "\n",
        "print_unique_values(application_train_raw, rating_cols)"
      ],
      "metadata": {
        "id": "uGOOohNicX8E"
      },
      "execution_count": null,
      "outputs": []
    },
    {
      "cell_type": "code",
      "source": [
        "application_train_raw[rating_cols].head()"
      ],
      "metadata": {
        "id": "XL822anpdE6p"
      },
      "execution_count": null,
      "outputs": []
    },
    {
      "cell_type": "markdown",
      "source": [
        "#### 🟣 Variables cycliques\n",
        "\n",
        "\n",
        "`HOUR_APPR_PROCESS_START`\n",
        "\n",
        "L’heure de la demande de prêt est une **valeur numérique**, mais elle présente des caractéristiques qui suggèrent qu’elle pourrait être mieux traitée comme une **variable catégorielle** plutôt que comme une quantité continue pure.\n",
        "\n",
        "Caractéristiques cycliques : Les heures d’une journée ont une nature cyclique."
      ],
      "metadata": {
        "id": "ggeqgMZWa5xo"
      }
    },
    {
      "cell_type": "code",
      "source": [
        "cycle_cols = [\n",
        "  'HOUR_APPR_PROCESS_START'\n",
        "]"
      ],
      "metadata": {
        "id": "icMEZKg7bMky"
      },
      "execution_count": null,
      "outputs": []
    },
    {
      "cell_type": "code",
      "source": [
        "application_train_raw[cycle_cols].head()"
      ],
      "metadata": {
        "id": "kQ5aDM45dMx-"
      },
      "execution_count": null,
      "outputs": []
    },
    {
      "cell_type": "markdown",
      "source": [
        "#### ✅ Vérification"
      ],
      "metadata": {
        "id": "SV4P9E-fi1ji"
      }
    },
    {
      "cell_type": "code",
      "source": [
        "application_train_raw.shape"
      ],
      "metadata": {
        "id": "6-pAuGQAMZeL"
      },
      "execution_count": null,
      "outputs": []
    },
    {
      "cell_type": "code",
      "source": [
        "# Ensemble des colonnes sélectionnées et triées\n",
        "selected_cols = [\n",
        "  *cat_cols,\n",
        "  *binary_cols,\n",
        "  *quantity_cols,\n",
        "  *normalized_cols,\n",
        "  *rating_cols,\n",
        "  *cycle_cols\n",
        "]\n",
        "len(selected_cols)"
      ],
      "metadata": {
        "id": "i2y-GHoAjQNd"
      },
      "execution_count": null,
      "outputs": []
    },
    {
      "cell_type": "markdown",
      "source": [
        "Vérifications :\n",
        "- Doublons dans les variables sélectionnées\n",
        "- Colonnes dans le DataFrame mais absente des variables sélectionnées"
      ],
      "metadata": {
        "id": "Ve08S7lHPoui"
      }
    },
    {
      "cell_type": "code",
      "source": [
        "def verif(df, selected_cols):\n",
        "\n",
        "  duplicates = pd.Series(selected_cols).value_counts()[pd.Series(selected_cols).value_counts() > 1].index.tolist()\n",
        "  if len(duplicates) > 0:\n",
        "    print(\"Valeurs en double dans les variables sélectionnées :\", duplicates)\n",
        "  else:\n",
        "    print(\"Aucunes valeurs en double trouvées dans les variables sélectionnées.\")\n",
        "\n",
        "  # Convert lists to sets for efficient comparison\n",
        "  total_cols_set = set(df.columns.tolist())\n",
        "  cols_set = set(selected_cols)\n",
        "\n",
        "  # Find elements in df.columns but not in selected_cols\n",
        "  diff_total_cols = total_cols_set - cols_set\n",
        "\n",
        "  print()\n",
        "  print(\"Variables dans le DataFrame mais absente des variables sélectionnées :\")\n",
        "  print(diff_total_cols)"
      ],
      "metadata": {
        "id": "l4jVLklHkd8x"
      },
      "execution_count": null,
      "outputs": []
    },
    {
      "cell_type": "code",
      "source": [
        "verif(application_train_raw, selected_cols)"
      ],
      "metadata": {
        "id": "33Na3A-wQoxR"
      },
      "execution_count": null,
      "outputs": []
    },
    {
      "cell_type": "markdown",
      "source": [
        "En faisant la somme de nos listes de variables, nous obtenons bien 121 colonnes, c-à-d tous les colonnes du jeu de données sauf la cible `TARGET`\n",
        "et l'identifiant `SK_ID_CURR` (inutile)."
      ],
      "metadata": {
        "id": "ZOGf2r97SdPe"
      }
    },
    {
      "cell_type": "markdown",
      "source": [
        "#### ❌ Suppression de variables\n",
        "\n",
        "**Featuring Engineering recommandé** :\n",
        "- Supprimer les colonners inutiles comme les identifiants `SK_ID_CURR`"
      ],
      "metadata": {
        "id": "zpkHy_0ZS0Kb"
      }
    },
    {
      "cell_type": "code",
      "source": [
        "application_train_raw.shape"
      ],
      "metadata": {
        "id": "RnaZrPjjIRn9"
      },
      "execution_count": null,
      "outputs": []
    },
    {
      "cell_type": "code",
      "source": [
        "application_train_temp = application_train_raw.copy()"
      ],
      "metadata": {
        "id": "q2-8ymsGkyf1"
      },
      "execution_count": null,
      "outputs": []
    },
    {
      "cell_type": "code",
      "source": [
        "def remove_cols(df: pd.DataFrame, cols: list) -> pd.DataFrame:\n",
        "    \"\"\"\n",
        "    Remove specified columns from a DataFrame\n",
        "\n",
        "    Parameters:\n",
        "    - df: Input DataFrame\n",
        "    - cols: List of column names to drop\n",
        "\n",
        "    Returns:\n",
        "    - DataFrame with specified columns removed\n",
        "    \"\"\"\n",
        "    # Check if all specified columns exist in the DataFrame\n",
        "    existing_cols = [col for col in cols if col in df.columns]\n",
        "    # Drop existing columns\n",
        "    df_dropped = df.drop(columns=existing_cols)\n",
        "\n",
        "    return df_dropped"
      ],
      "metadata": {
        "id": "OEL9XdjCSeA6"
      },
      "execution_count": null,
      "outputs": []
    },
    {
      "cell_type": "markdown",
      "source": [
        "### Distribution de la colonne cible `TARGET`"
      ],
      "metadata": {
        "id": "rSCDNVFyJ1ZA"
      }
    },
    {
      "cell_type": "code",
      "source": [
        "# Distribution de la colonne cible TARGET avec des visualisations\n",
        "target_counts = application_train_temp['TARGET'].value_counts()\n",
        "print(round((target_counts / len(application_train_temp) * 100), 2))"
      ],
      "metadata": {
        "id": "bGDWvkA1drmc"
      },
      "execution_count": null,
      "outputs": []
    },
    {
      "cell_type": "code",
      "source": [
        "# Create a figure and axes for the subplots\n",
        "fig, axes = plt.subplots(1, 2, figsize=(16, 6))\n",
        "\n",
        "# Bar plot\n",
        "sns.countplot(x='TARGET', data=application_train_temp, ax=axes[0])\n",
        "axes[0].set_title('Distribution de la variable TARGET (Bar Plot)')\n",
        "axes[0].set_xlabel('TARGET (0: Repaid, 1: Not Repaid)')\n",
        "axes[0].set_ylabel('Nombre de demandes de prêt')\n",
        "\n",
        "# Pie chart\n",
        "axes[1].pie(target_counts, labels=target_counts.index, autopct='%1.1f%%', startangle=90)\n",
        "axes[1].set_title('Distribution de la variable TARGET (Pie Chart)')\n",
        "\n",
        "# Adjust layout and display the plot\n",
        "plt.tight_layout()\n",
        "plt.show()"
      ],
      "metadata": {
        "id": "cpo5a_AtKfhl"
      },
      "execution_count": null,
      "outputs": []
    },
    {
      "cell_type": "markdown",
      "source": [
        "À partir de ces informations, nous voyons qu'il y a un problème de **déséquilibre des classes**. Il y a beaucoup plus de prêts remboursés à temps que de prêts non remboursés.\n",
        "\n",
        "- Ré-échantillonnage\n",
        "- Indicateur statistiques : Courbe de ROC"
      ],
      "metadata": {
        "id": "RLH_tc9aKQ4I"
      }
    },
    {
      "cell_type": "markdown",
      "source": [
        "### Impact des revenus sur les difficultés de paiement\n",
        "\n",
        "**Impact des revenus sur la cible**  \n",
        "\n",
        "- `AMT_INCOME_TOTAL` : Cette variable représente le revenu total du client. Elle est une donnée quantitative qui peut avoir un impact direct sur la capacité de remboursement du client et donc sur la probabilité d'un défaut. Une analyse approfondie permettra de vérifier si les clients ayant un revenu plus élevé sont moins susceptibles de faire défaut.\n",
        "\n",
        "- `NAME_INCOME_TYPE` : Cette variable catégorielle décrit la source principale de revenus du client (par exemple, travail salarié, activité indépendante). Elle pourrait révéler des tendances intéressantes, comme un risque de défaut plus élevé chez les clients avec des revenus instables ou non réguliers (ex. : freelances ou entrepreneurs).  "
      ],
      "metadata": {
        "id": "fh3ogbTrUEqs"
      }
    },
    {
      "cell_type": "code",
      "source": [
        "application_train_income_capped = application_train_temp[application_train_temp['AMT_INCOME_TOTAL'] < 600000]"
      ],
      "metadata": {
        "id": "TMfpSg_VqzX5"
      },
      "execution_count": null,
      "outputs": []
    },
    {
      "cell_type": "code",
      "source": [
        "application_train_income_capped.shape"
      ],
      "metadata": {
        "id": "5crp26N9rpOg"
      },
      "execution_count": null,
      "outputs": []
    },
    {
      "cell_type": "markdown",
      "source": [
        "#### Distribution des revenus"
      ],
      "metadata": {
        "id": "wscrPufHdNZC"
      }
    },
    {
      "cell_type": "code",
      "source": [
        "# Visualisation de la distribution des revenus roupé par TARGET avec seaborn\n",
        "plt.figure(figsize=(12, 6))\n",
        "sns.histplot(data=application_train_income_capped, x='AMT_INCOME_TOTAL', hue='TARGET', kde=True, bins=20) # Increased bins for better detail\n",
        "plt.title('Distribution des revenus selon la cible')\n",
        "plt.xlabel('Revenus totaux (AMT_INCOME_TOTAL)')\n",
        "plt.ylabel('Nombre de clients')\n",
        "plt.show()"
      ],
      "metadata": {
        "id": "Ms54axo6cQt9"
      },
      "execution_count": null,
      "outputs": []
    },
    {
      "cell_type": "code",
      "source": [
        "# Boite a moustache de distribution des revenu par TARGET\n",
        "plt.figure(figsize=(12, 6))\n",
        "sns.catplot(data=application_train_income_capped, y='AMT_INCOME_TOTAL',  x='TARGET', hue=\"TARGET\", kind=\"box\")\n",
        "plt.title('Boîte à moustaches des revenus par TARGET')\n",
        "plt.ylabel('Revenus totaux')\n",
        "plt.xlabel('TARGET')\n",
        "plt.show()"
      ],
      "metadata": {
        "id": "0dkhEqPVY7P1"
      },
      "execution_count": null,
      "outputs": []
    },
    {
      "cell_type": "markdown",
      "source": [
        "**Interprétation** :\n",
        "\n",
        "- La distribution des revenus ne semble pas montrer un lien significatif avec `TARGET` c-à-d \"client en difficulté de paiement\"."
      ],
      "metadata": {
        "id": "P1lims_ce9n_"
      }
    },
    {
      "cell_type": "markdown",
      "source": [
        "#### Taux de difficulté de paiement par tranches de revenu\n",
        "\n",
        "> **Taux de difficulté de paiement*** : Nombre de client ayant des difficultés de paiement sur le nombre de client totaux (moyenne de `TARGET`).\n",
        "\n",
        "Nous créeons des **tranche de revenus** par discrétisation (ou binning). Cela consiste à transformer une variable continue, comme le revenu total du client (`AMT_INCOME_TOTAL`), en une variable catégorielle en regroupant ses valeurs en intervalles ou \"tranches\".\n",
        "\n",
        "Proposition de binning (par tranche de 50 000 avec une catégorie > 400 000) :\n",
        "- **Très faible** : 0 à 50 000.  \n",
        "- **Faible** : 50 001 à 100 000.  \n",
        "- **Moyen-bas** : 100 001 à 150 000.  \n",
        "- **Moyen** : 150 001 à 200 000.  \n",
        "- **Moyen-haut** : 200 001 à 250 000.  \n",
        "- **Élevé** : 250 001 à 300 000.  \n",
        "- **Très élevé** : 300 001 à 350 000.  \n",
        "- **Exceptionnel** : 350 001 à 400 000.  \n",
        "- **Ultra-élevé** : Plus de 400 000.\n",
        "\n",
        "**Remarque**\n",
        "La dernière tranche utilise `float('inf')` pour couvrir les valeurs supérieures à 400 000. Cela garantit qu'aucune valeur n'est exclue, même pour des revenus très élevés.\n",
        "\n",
        "\n",
        "\n"
      ],
      "metadata": {
        "id": "YydUFPySnBWI"
      }
    },
    {
      "cell_type": "code",
      "source": [
        "def create_amt_income_groups(df):\n",
        "  \"\"\"\n",
        "  Créer des catégories pour une colonne continue.\n",
        "\n",
        "  Parameters:\n",
        "  - df: DataFrame\n",
        "  - source_col: Source column name\n",
        "  - new_cat_col: New categorical column name\n",
        "  - bins: Bin edges\n",
        "  - labels: Bin labels\n",
        "  - right: Include right edge of bin (default True)\n",
        "  \"\"\"\n",
        "  bins = [0, 150000, 200000, 250000, 300000, 350000, 400000, float('inf')]\n",
        "  labels = ['Faible', 'Moyen', 'Moyen-haut', 'Élevé', 'Très élevé', 'Exceptionnel', 'Ultra-élevé']\n",
        "  if 'AMT_INCOME_TOTAL' in df.columns:\n",
        "    # Création de la colonne `AMT_INCOME_GROUP`\n",
        "    df['AMT_INCOME_GROUP'] = pd.cut(df['AMT_INCOME_TOTAL'], bins=bins, labels=labels, right=True)\n",
        "    # Suppression de la colonne `AMT_INCOME_TOTAL`\n",
        "    df.drop(columns=['AMT_INCOME_TOTAL'], inplace=True)\n",
        "  return df\n",
        "\n",
        "application_train_temp = create_amt_income_groups(application_train_temp)"
      ],
      "metadata": {
        "id": "45nzHjOPjFel"
      },
      "execution_count": null,
      "outputs": []
    },
    {
      "cell_type": "code",
      "source": [
        "application_train_temp.shape"
      ],
      "metadata": {
        "id": "3TzPyNhzj0fJ"
      },
      "execution_count": null,
      "outputs": []
    },
    {
      "cell_type": "code",
      "source": [
        "def target_rate_by_cat(df, cat_col):\n",
        "    # Group by category and count targets\n",
        "    grouped = df.groupby([cat_col, 'TARGET'], observed=True).size().unstack(fill_value=0)\n",
        "\n",
        "    # Rename columns for clarity\n",
        "    grouped.columns = ['target_0', 'target_1']\n",
        "\n",
        "    # Calculate total count and Taux de difficulté de paiement\n",
        "    grouped['total_count'] = grouped['target_0'] + grouped['target_1']\n",
        "    grouped['target_rate'] = round((grouped['target_1'] / grouped['total_count']) * 100, 2)\n",
        "\n",
        "    # Sort by total count descending\n",
        "    return grouped.sort_values(by='total_count', ascending=False)"
      ],
      "metadata": {
        "id": "LiSZ1mEw0SiI"
      },
      "execution_count": null,
      "outputs": []
    },
    {
      "cell_type": "code",
      "source": [
        "print(target_rate_by_cat(application_train_temp, 'AMT_INCOME_GROUP'))"
      ],
      "metadata": {
        "id": "xgeE4swX0IXG"
      },
      "execution_count": null,
      "outputs": []
    },
    {
      "cell_type": "code",
      "source": [
        "def visualize_target_rate_by_income_cat(df):\n",
        "    # df['AMT_INCOME_GROUP'] = pd.cut(df['AMT_INCOME_TOTAL'], bins=bins, labels=labels, right=True)\n",
        "\n",
        "    # Calculate the default rate for each income decile\n",
        "    target_rates = df.groupby('AMT_INCOME_GROUP', observed=True)['TARGET'].mean() * 100\n",
        "\n",
        "    # Calculate overall mean Taux de difficulté de paiement\n",
        "    overall_mean = df['TARGET'].mean() * 100\n",
        "\n",
        "    plt.figure(figsize=(10, 6))\n",
        "    ax = sns.barplot(x=target_rates.index, y=target_rates.values, hue=target_rates.index, palette=\"Set2\")\n",
        "\n",
        "    # Add text annotations above each bar\n",
        "    for i, v in enumerate(target_rates.values):\n",
        "        ax.text(i, v, f'{v:.2f}%', ha='center', va='bottom')\n",
        "\n",
        "    # Add horizontal line for overall mean\n",
        "    plt.axhline(y=overall_mean, color='g', linestyle='--', label=f'Moyenne globale: {overall_mean:.2f}%')\n",
        "\n",
        "    plt.xlabel('Tranches de revenus')\n",
        "    plt.ylabel('Taux de difficulté de paiement (en %)')\n",
        "    plt.title('Taux de difficulté de paiement par tranche de revenus')\n",
        "    plt.xticks(rotation=45)\n",
        "    plt.legend()\n",
        "    plt.tight_layout()\n",
        "    plt.show()\n",
        "\n",
        "visualize_target_rate_by_income_cat(application_train_temp)"
      ],
      "metadata": {
        "id": "KGkqmsunbzj8"
      },
      "execution_count": null,
      "outputs": []
    },
    {
      "cell_type": "markdown",
      "source": [
        "**Interprétation** :\n",
        "- Plus le revenu augmente, plus le risque est faible.\n",
        "\n",
        "> **Feature engineering recommandé** :\n",
        "- Créer une variable \"tranche de revenus\" (`AMT_INCOME_GROUP`) à la place de `AMT_INCOME_TOTAL`.\n",
        "- *Avantage : traite les outliers.*"
      ],
      "metadata": {
        "id": "v65GYoMDi2GZ"
      }
    },
    {
      "cell_type": "markdown",
      "source": [
        "#### Taux de difficulté de paiement par catégorie de revenu"
      ],
      "metadata": {
        "id": "4Q1hcPRhmrEg"
      }
    },
    {
      "cell_type": "code",
      "source": [
        "# Boite a moustache de distribution des revenu par TARGET\n",
        "sns.catplot(data=application_train_income_capped, y='AMT_INCOME_TOTAL',  x='NAME_INCOME_TYPE', hue=\"TARGET\", kind=\"box\", aspect=3)\n",
        "plt.title('Boîte à moustaches des revenus par TARGET')\n",
        "plt.ylabel('Revenus totaux')\n",
        "plt.xlabel('TARGET')\n",
        "plt.show()"
      ],
      "metadata": {
        "id": "ugx2ZkFPlS8q"
      },
      "execution_count": null,
      "outputs": []
    },
    {
      "cell_type": "code",
      "source": [
        "target_rate_by_income_type = target_rate_by_cat(application_train_temp, 'NAME_INCOME_TYPE')\n",
        "print(target_rate_by_income_type)"
      ],
      "metadata": {
        "id": "jHzc_tjJc7YH"
      },
      "execution_count": null,
      "outputs": []
    },
    {
      "cell_type": "code",
      "source": [
        "def combine_low_count_categories(\n",
        "    df: pd.DataFrame,\n",
        "    column_name: str = 'NAME_INCOME_TYPE',\n",
        "    threshold: int = 100,\n",
        "    new_category_name: str = \"Other\"\n",
        "    ):\n",
        "    \"\"\"Combines categories with a low number of individuals into a special category.\n",
        "\n",
        "    Args:\n",
        "        df: The pandas DataFrame.\n",
        "        column_name: The name of the column containing the categories.\n",
        "        threshold: The minimum number of individuals in a category to keep it separate.\n",
        "        new_category_name: The name of the new category for combined low-count categories.\n",
        "\n",
        "    Returns:\n",
        "        A new DataFrame with combined categories.\n",
        "    \"\"\"\n",
        "\n",
        "    value_counts = df[column_name].value_counts()\n",
        "    low_count_categories = value_counts[value_counts < threshold].index\n",
        "    df[column_name] = df[column_name].replace(low_count_categories, new_category_name)\n",
        "    return df"
      ],
      "metadata": {
        "id": "0un99TvsZSVI"
      },
      "execution_count": null,
      "outputs": []
    },
    {
      "cell_type": "code",
      "source": [
        "# Example usage (assuming 'application_train_temp' is your DataFrame and 'NAME_INCOME_TYPE' is the column):\n",
        "application_train_temp = combine_low_count_categories(application_train_temp)"
      ],
      "metadata": {
        "id": "7H7qiFmDnB_S"
      },
      "execution_count": null,
      "outputs": []
    },
    {
      "cell_type": "code",
      "source": [
        "target_rate_by_income_type = target_rate_by_cat(application_train_temp, 'NAME_INCOME_TYPE')\n",
        "print(target_rate_by_income_type)"
      ],
      "metadata": {
        "id": "D-Q9H8rUnWqv"
      },
      "execution_count": null,
      "outputs": []
    },
    {
      "cell_type": "code",
      "source": [
        "min_count = 10  # Adjust this threshold as needed\n",
        "filtered_df = target_rate_by_income_type[target_rate_by_income_type['total_count'] >= min_count]\n",
        "\n",
        "plt.figure(figsize=(12, 6))\n",
        "\n",
        "# Create bar plot\n",
        "ax = sns.barplot(x=filtered_df.index, y=filtered_df['target_rate'], palette=\"Set2\", hue=filtered_df.index)\n",
        "\n",
        "# Add text annotations above each bar\n",
        "for i, v in enumerate(filtered_df['target_rate']):\n",
        "    ax.text(i, v, f'{v:.2f}%', ha='center', va='bottom')\n",
        "\n",
        "plt.xlabel('Type de revenus')\n",
        "plt.ylabel('Taux de difficulté de paiement (en %)')\n",
        "plt.title('Taux de difficulté de paiement par type de revenus')\n",
        "plt.xticks(rotation=45, ha='right')\n",
        "# plt.legend()\n",
        "plt.tight_layout()\n",
        "plt.show()"
      ],
      "metadata": {
        "id": "2dwss56XeT3h"
      },
      "execution_count": null,
      "outputs": []
    },
    {
      "cell_type": "markdown",
      "source": [
        "**Interprétation** :\n",
        "\n",
        "- Le type de revenu a un impact sur le taux/risque de difficulté de paiement.\n",
        "\n",
        "**Feature engineering recommandé** :\n",
        "- Transformer `NAME_INCOME_TYPE` : Combiner les types de revenus à faible nombre dans \"Other\"."
      ],
      "metadata": {
        "id": "An0V9oumeFS8"
      }
    },
    {
      "cell_type": "markdown",
      "source": [
        "### Taux de difficulté de paiement par enfants"
      ],
      "metadata": {
        "id": "wZcYfsXPOX5k"
      }
    },
    {
      "cell_type": "code",
      "source": [
        "target_rate_by_children = target_rate_by_cat(application_train_temp, 'CNT_CHILDREN')\n",
        "print(target_rate_by_children)"
      ],
      "metadata": {
        "id": "PFmyjgpIfuQm"
      },
      "execution_count": null,
      "outputs": []
    },
    {
      "cell_type": "code",
      "source": [
        "filtered_df = target_rate_by_children.copy()\n",
        "plt.figure(figsize=(12, 6))\n",
        "\n",
        "# Create bar plot\n",
        "ax = sns.barplot(x=filtered_df.index, y=filtered_df['target_rate'], palette=\"Set2\", hue=filtered_df.index, legend=False)\n",
        "\n",
        "# Add text annotations above each bar\n",
        "for i, v in enumerate(filtered_df['target_rate']):\n",
        "    ax.text(i, v, f'{v:.2f}%', ha='center', va='bottom')\n",
        "\n",
        "plt.xlabel(\"Nombre d'enfants\")\n",
        "plt.ylabel('Taux de difficulté de paiement (en %)')\n",
        "plt.title(\"Taux de difficulté de paiement par nombre d'enfants\")\n",
        "plt.xticks(rotation=45, ha='right')\n",
        "# plt.legend()\n",
        "plt.tight_layout()\n",
        "\n",
        "plt.show()"
      ],
      "metadata": {
        "id": "ggGZBqIyf_5H"
      },
      "execution_count": null,
      "outputs": []
    },
    {
      "cell_type": "code",
      "source": [
        "def count_children_four_plus(df):\n",
        "  df.loc[df['CNT_CHILDREN'] >= 4, 'CNT_CHILDREN'] = 4\n",
        "  return df"
      ],
      "metadata": {
        "id": "7RCKO9EkcI-0"
      },
      "execution_count": null,
      "outputs": []
    },
    {
      "cell_type": "code",
      "source": [
        "application_train_temp = count_children_four_plus(application_train_temp)"
      ],
      "metadata": {
        "id": "VenF5_yh6FbR"
      },
      "execution_count": null,
      "outputs": []
    },
    {
      "cell_type": "code",
      "source": [
        "target_rate_by_children = target_rate_by_cat(application_train_temp, 'CNT_CHILDREN')\n",
        "print(target_rate_by_children)"
      ],
      "metadata": {
        "id": "fd6sdIFhvXYl"
      },
      "execution_count": null,
      "outputs": []
    },
    {
      "cell_type": "code",
      "source": [
        "plt.figure(figsize=(12, 6))\n",
        "ax = sns.barplot(x=target_rate_by_children.index, y=target_rate_by_children['target_rate'], palette=\"Set2\", hue=target_rate_by_children.index, legend=False)\n",
        "# Add text annotations above each bar\n",
        "for i, v in enumerate(target_rate_by_children['target_rate']):\n",
        "    ax.text(i, v, f'{v:.2f}%', ha='center', va='bottom')\n",
        "plt.xlabel(\"Nombre d'enfants\")\n",
        "plt.ylabel('Taux de difficulté de paiement (en %)')\n",
        "plt.title(\"Taux de difficulté de paiement par nombre d'enfants\")\n",
        "plt.xticks(rotation=45, ha='right')\n",
        "# plt.legend()\n",
        "plt.tight_layout()\n",
        "plt.show()"
      ],
      "metadata": {
        "id": "OAF-6eAEvJK6"
      },
      "execution_count": null,
      "outputs": []
    },
    {
      "cell_type": "markdown",
      "source": [
        "**Interprétation** :\n",
        "\n",
        "> **Feature engineering recommandé** :\n",
        "- Créer une modalité qui regroupe \"4 enfants et plus\" (`4`) pour `CNT_CHILDREN`."
      ],
      "metadata": {
        "id": "jz_Uv6NxhXQE"
      }
    },
    {
      "cell_type": "markdown",
      "source": [
        "### Taux de difficultés de paiement par tranches d'âge\n",
        "\n",
        "L'age minimum pour un crédit est de 21 ans (aux Etats-unis).\n",
        "\n",
        "- Création des tranches d'age à partir de `DAYS_BIRTH`\n",
        "- Afficher le taux de difficultés de paiement par tranches d'âge"
      ],
      "metadata": {
        "id": "-C56hdquOb--"
      }
    },
    {
      "cell_type": "code",
      "source": [
        "def create_age_groups(df: pd.DataFrame) -> pd.DataFrame:\n",
        "  \"\"\"\n",
        "  Créer des tranches d'age pour la colonne `DAYS_BIRTH`.\n",
        "\n",
        "  Parameters:\n",
        "  - df: DataFrame\n",
        "  - source_col: Source column name\n",
        "  - new_cat_col: New categorical column name\n",
        "  \"\"\"\n",
        "  if 'DAYS_BIRTH' in df.columns:\n",
        "    df['YEARS_BIRTH'] = round((df['DAYS_BIRTH'] / -365), 2)\n",
        "    bins = [21, 25, 35, 45, 55, 65, float('inf')]\n",
        "    labels = ['21-24', '25-34', '35-44', '45-54', '55-64', '65+']\n",
        "    df['AGE_GROUP'] = pd.cut(df['YEARS_BIRTH'], bins=bins, labels=labels, right=True)\n",
        "    # Suppression de `DAYS_BIRTH`\n",
        "    df.drop(columns=['DAYS_BIRTH'], inplace=True)\n",
        "  return df"
      ],
      "metadata": {
        "id": "oq3QG2rJdPAH"
      },
      "execution_count": null,
      "outputs": []
    },
    {
      "cell_type": "code",
      "source": [
        "application_train_temp = create_age_groups(application_train_temp)"
      ],
      "metadata": {
        "id": "_JNYmXj3Knrx"
      },
      "execution_count": null,
      "outputs": []
    },
    {
      "cell_type": "code",
      "source": [
        "target_rate_by_age = target_rate_by_cat(application_train_temp, 'AGE_GROUP').sort_values(by='AGE_GROUP', ascending=True)\n",
        "print(target_rate_by_age)"
      ],
      "metadata": {
        "id": "3WmbLx4vzspp"
      },
      "execution_count": null,
      "outputs": []
    },
    {
      "cell_type": "code",
      "source": [
        "plt.figure(figsize=(12, 6))\n",
        "ax = sns.barplot(x=target_rate_by_age.index, y=target_rate_by_age['target_rate'], palette=\"Set2\", hue=target_rate_by_age.index, legend=True)\n",
        "# Add text annotations above each bar\n",
        "for i, v in enumerate(target_rate_by_age['target_rate']):\n",
        "    ax.text(i, v, f'{v:.2f}%', ha='center', va='bottom')\n",
        "plt.xlabel(\"Tranches d'age\")\n",
        "plt.ylabel('Taux de difficulté de paiement (en %)')\n",
        "plt.title(\"Taux de difficulté de paiement par tranche d'age\")\n",
        "# plt.legend()\n",
        "plt.tight_layout()\n",
        "plt.show()"
      ],
      "metadata": {
        "id": "2xQ5o5EAzqAM"
      },
      "execution_count": null,
      "outputs": []
    },
    {
      "cell_type": "markdown",
      "source": [
        "**Interprétation** :\n",
        "- L'age est un facteur de risque de difficulté de paiement clairement identifié. Plus le client est jeune, et plus le **risque de difficulté de paiement est élevé**.\n",
        "\n",
        "> **Feature engineering recommandé** :\n",
        "- Créer des tranches d'age `AGE_GROUP` à la place de `DAYS_BIRTH`"
      ],
      "metadata": {
        "id": "WAl5H9KO1u8W"
      }
    },
    {
      "cell_type": "markdown",
      "source": [
        "### Taux de difficultés de paiement par durée d'emploi\n",
        "\n",
        "- `DAYS_EMPLOYED`"
      ],
      "metadata": {
        "id": "wDrdCAYM8h7S"
      }
    },
    {
      "cell_type": "code",
      "source": [
        "application_train_temp.shape"
      ],
      "metadata": {
        "id": "ZMV10FPBAizZ"
      },
      "execution_count": null,
      "outputs": []
    },
    {
      "cell_type": "code",
      "source": [
        "def create_employed_duration_groups(df):\n",
        "  \"\"\"\n",
        "  Créer des tranches de durée d'emploi pour la colonne `DAYS_EMPLOYED`.\n",
        "\n",
        "  Parameters:\n",
        "  - df: DataFrame\n",
        "  - source_col: Source column name\n",
        "  - new_cat_col: New categorical column name\n",
        "  \"\"\"\n",
        "  if 'DAYS_EMPLOYED' in df.columns:\n",
        "    # Transformation de jours (négatifs) en années\n",
        "    df['YEARS_EMPLOYED'] = round((df['DAYS_EMPLOYED'] / -365), 2)\n",
        "    bins = [0, 1, 3, 5, 7, 10, 15, 20, float('inf')]\n",
        "    labels = ['Less than 1 year', '1-3 years', '3-5 years', '5-7 years', '7-10 years', '10-15 years', '15-20 years', '20+ years']\n",
        "    df['EMPLOYED_DURATION_GROUP'] = pd.cut(df['YEARS_EMPLOYED'], bins=bins, labels=labels, right=False)\n",
        "    df.drop(columns=['DAYS_EMPLOYED'], inplace=True)\n",
        "    return df"
      ],
      "metadata": {
        "id": "kJ4aNvOzeLTM"
      },
      "execution_count": null,
      "outputs": []
    },
    {
      "cell_type": "code",
      "source": [
        "application_train_temp = create_employed_duration_groups(application_train_temp)"
      ],
      "metadata": {
        "id": "sSdUTbFj8pzU"
      },
      "execution_count": null,
      "outputs": []
    },
    {
      "cell_type": "code",
      "source": [
        "target_rate_by_employed_duration = target_rate_by_cat(application_train_temp, 'EMPLOYED_DURATION_GROUP').sort_values(by='EMPLOYED_DURATION_GROUP', ascending=True)\n",
        "print(target_rate_by_employed_duration)"
      ],
      "metadata": {
        "id": "g5Kn3Y0s8t4p"
      },
      "execution_count": null,
      "outputs": []
    },
    {
      "cell_type": "code",
      "source": [
        "plt.figure(figsize=(12, 6))\n",
        "ax = sns.barplot(x=target_rate_by_employed_duration.index, y=target_rate_by_employed_duration['target_rate'], palette=\"Set2\", hue=target_rate_by_employed_duration.index, legend=True)\n",
        "# Add text annotations above each bar\n",
        "for i, v in enumerate(target_rate_by_employed_duration['target_rate']):\n",
        "    ax.text(i, v, f'{v:.2f}%', ha='center', va='bottom')\n",
        "plt.xlabel(\"Durée d'emploi\")\n",
        "plt.ylabel('Taux de difficulté de paiement (en %)')\n",
        "plt.title(\"Taux de difficulté de paiement par durée d'emploi\")\n",
        "# plt.legend()\n",
        "plt.tight_layout()\n",
        "plt.show()"
      ],
      "metadata": {
        "id": "rx8ExhbcBpLA"
      },
      "execution_count": null,
      "outputs": []
    },
    {
      "cell_type": "markdown",
      "source": [
        "*Interprétation** :\n",
        "- Plus le client est agé, moins le risque de difficulté de paiement est élevé.\n",
        "- La durée en emploi a un impact significatif sur le taux/risque de difficulté de paiement.\n",
        "\n",
        "> **Feature engineering recommandé** :\n",
        "\n",
        "- Créer des tranche de durée d'emploi `EMPLOYED_DURATION_GROUP` à la place de `DAYS_EMPLOYED`"
      ],
      "metadata": {
        "id": "wNuhEJrQ_xl0"
      }
    },
    {
      "cell_type": "markdown",
      "source": [
        "### Taux de difficulté de paiement par type de poste et entreprise"
      ],
      "metadata": {
        "id": "5VH8ey3vEkGC"
      }
    },
    {
      "cell_type": "code",
      "source": [
        "import math\n",
        "import matplotlib.pyplot as plt\n",
        "import seaborn as sns\n",
        "\n",
        "cat_cols_type = [\n",
        "    'OCCUPATION_TYPE',\n",
        "    'ORGANIZATION_TYPE',\n",
        "]\n",
        "\n",
        "target_rates_for_type_cats = []\n",
        "\n",
        "for cat_col in cat_cols_type:\n",
        "  targte_rate_df = target_rate_by_cat(application_train_temp, cat_col).sort_values(by='target_rate', ascending=False)\n",
        "  target_rates_for_type_cats.append(targte_rate_df)\n",
        "\n",
        "# Calculate the number of rows needed for a single column\n",
        "num_cols = 1\n",
        "num_rows = len(target_rates_for_type_cats)\n",
        "\n",
        "# Adjust figure size for a single column\n",
        "plt.figure(figsize=(18, 6 * num_rows))\n",
        "\n",
        "for i, df in enumerate(target_rates_for_type_cats):\n",
        "    plt.subplot(num_rows, num_cols, i + 1)  # num_rows, num column, index starting from 1\n",
        "\n",
        "    # Filter out categories with low counts (adjust threshold as needed)\n",
        "    min_count = 10\n",
        "    filtered_df = df[df['total_count'] >= min_count]\n",
        "\n",
        "    ax = sns.barplot(x=filtered_df.index, y=filtered_df['target_rate'], palette=\"Set2\", hue=filtered_df.index, legend=False)\n",
        "\n",
        "    for j, v in enumerate(filtered_df['target_rate']):\n",
        "        ax.text(j, v, f'{v:.2f}%', ha='center', va='bottom')\n",
        "\n",
        "    plt.xlabel(df.index.name)\n",
        "    plt.ylabel('Taux de difficulté de paiement (%)')\n",
        "    plt.title(f'Taux de difficulté de paiement by {df.index.name}')\n",
        "    plt.xticks(rotation=45, ha=\"right\")\n",
        "    plt.tight_layout()\n",
        "\n",
        "plt.show()"
      ],
      "metadata": {
        "id": "PPTQNXxlFiUg"
      },
      "execution_count": null,
      "outputs": []
    },
    {
      "cell_type": "markdown",
      "source": [
        "**Interprétation**\n",
        "\n",
        "- Ces variables ont eu une corrélation significative avec la cible `TARGET` (diffuclté de paiement).\n",
        "- Elle sont donc intéressantes pour développer notre modèle de machine learning."
      ],
      "metadata": {
        "id": "4gqSyzTU7II4"
      }
    },
    {
      "cell_type": "markdown",
      "source": [
        "### Taux de difficulté de paiement par catégories binaire (Y/N)"
      ],
      "metadata": {
        "id": "SI12Pmk3_O9i"
      }
    },
    {
      "cell_type": "code",
      "source": [
        "import math\n",
        "\n",
        "cat_cols_binary = [\n",
        "  'FLAG_OWN_CAR',\n",
        "  'FLAG_OWN_REALTY',\n",
        "  'NAME_CONTRACT_TYPE',\n",
        "  'EMERGENCYSTATE_MODE',\n",
        "  'CODE_GENDER'\n",
        "]\n",
        "\n",
        "target_rates_for_binary_cats = []\n",
        "\n",
        "for cat_col in cat_cols_binary:\n",
        "  target_rate_by_cat(application_train_temp, cat_col)\n",
        "  target_rates_for_binary_cats.append(target_rate_by_cat(application_train_temp, cat_col))\n",
        "\n",
        "# Calculate the number of rows needed for the grid\n",
        "num_cols = 3\n",
        "num_rows = math.ceil(len(target_rates_for_binary_cats) / num_cols)\n",
        "\n",
        "plt.figure(figsize=(18, num_cols * num_rows * 2))  # Adjust figure size as needed\n",
        "\n",
        "for i, df in enumerate(target_rates_for_binary_cats):\n",
        "    plt.subplot(num_rows, num_cols, i + 1)  # num_rows, num columns, and index starting from 1\n",
        "\n",
        "    # Filter out categories with low counts (adjust threshold as needed)\n",
        "    min_count = 10\n",
        "    filtered_df = df[df['total_count'] >= min_count]\n",
        "\n",
        "    ax = sns.barplot(x=filtered_df.index, y=filtered_df['target_rate'], palette=\"Set2\", hue=filtered_df.index, legend=False)\n",
        "\n",
        "    for j, v in enumerate(filtered_df['target_rate']):\n",
        "        ax.text(j, v, f'{v:.2f}%', ha='center', va='bottom')\n",
        "\n",
        "    plt.xlabel(df.index.name)\n",
        "    plt.ylabel('Taux de difficulté de paiement (%)')\n",
        "    plt.title(f'Taux de difficulté de paiement par {df.index.name}')\n",
        "    plt.xticks(rotation=45, ha=\"right\")\n",
        "    plt.tight_layout()\n",
        "\n",
        "plt.show()"
      ],
      "metadata": {
        "id": "Zk7UmEEiDg2Z"
      },
      "execution_count": null,
      "outputs": []
    },
    {
      "cell_type": "markdown",
      "source": [
        "**Interprétation**"
      ],
      "metadata": {
        "id": "BrV-S0Qh700U"
      }
    },
    {
      "cell_type": "markdown",
      "source": [
        "### Taux de difficulté de paiement par autres catégories"
      ],
      "metadata": {
        "id": "NgeJJio6Gyry"
      }
    },
    {
      "cell_type": "code",
      "source": [
        "cat_cols_other = [\n",
        "  'NAME_TYPE_SUITE',\n",
        "  'NAME_INCOME_TYPE',\n",
        "  'NAME_EDUCATION_TYPE',\n",
        "  'NAME_FAMILY_STATUS',\n",
        "  'NAME_HOUSING_TYPE',\n",
        "  'WEEKDAY_APPR_PROCESS_START',\n",
        "  'FONDKAPREMONT_MODE',\n",
        "  'HOUSETYPE_MODE',\n",
        "  'WALLSMATERIAL_MODE'\n",
        "]\n",
        "\n",
        "target_rates_for_other_cats = []\n",
        "\n",
        "for cat_col in cat_cols_other:\n",
        "  # Check if the column exists in the DataFrame before proceeding\n",
        "  if cat_col in application_train_temp.columns:\n",
        "    targte_rate_df = target_rate_by_cat(application_train_temp, cat_col).sort_values(by='target_rate', ascending=False)\n",
        "    target_rates_for_other_cats.append(targte_rate_df) # Append the result to the list\n",
        "  else:\n",
        "    print(f\"Warning: Column '{cat_col}' not found in the DataFrame. Skipping...\")\n",
        "\n",
        "\n",
        "# Calculate the number of rows needed for the grid\n",
        "num_cols = 3\n",
        "num_rows = math.ceil(len(target_rates_for_other_cats) / num_cols)\n",
        "\n",
        "plt.figure(figsize=(18, num_cols * num_rows * 2))  # Adjust figure size as needed\n",
        "\n",
        "for i, df in enumerate(target_rates_for_other_cats):\n",
        "    plt.subplot(num_rows, num_cols, i + 1)  # num_rows, num columns, and index starting from 1\n",
        "\n",
        "    # Filter out categories with low counts (adjust threshold as needed)\n",
        "    min_count = 10\n",
        "    filtered_df = df[df['total_count'] >= min_count]\n",
        "\n",
        "    ax = sns.barplot(x=filtered_df.index, y=filtered_df['target_rate'], palette=\"Set2\", hue=filtered_df.index, legend=False)\n",
        "\n",
        "    for j, v in enumerate(filtered_df['target_rate']):\n",
        "        ax.text(j, v, f'{v:.2f}%', ha='center', va='bottom')\n",
        "\n",
        "    plt.xlabel(df.index.name)\n",
        "    plt.ylabel('Taux de difficulté de paiement (%)')\n",
        "    plt.title(f'Taux de difficulté de paiement par {df.index.name}')\n",
        "    plt.xticks(rotation=45, ha=\"right\")\n",
        "    plt.tight_layout()\n",
        "\n",
        "plt.show()"
      ],
      "metadata": {
        "id": "iOzhHL-ALbTf"
      },
      "execution_count": null,
      "outputs": []
    },
    {
      "cell_type": "markdown",
      "source": [
        "**Feature engineering recommandé** :\n",
        "- Suppression de la variable `WEEKDAY_APPR_PROCESS_START`"
      ],
      "metadata": {
        "id": "avpqtzjP8FXP"
      }
    },
    {
      "cell_type": "markdown",
      "source": [
        "### Taux de difficulté de paiement par tranches horaires"
      ],
      "metadata": {
        "id": "6nuiZ0VTnju1"
      }
    },
    {
      "cell_type": "code",
      "source": [
        "def create_hour_groups(df):\n",
        "  \"\"\"\n",
        "  Crée des tranches horaires pour la colonne spécifiée dans le DataFrame.\n",
        "\n",
        "  Args:\n",
        "      df: The input DataFrame.\n",
        "      column_name: The name of the column containing the hour data.\n",
        "\n",
        "  Returns:\n",
        "      A new DataFrame with an additional column representing the hour slices.\n",
        "  \"\"\"\n",
        "\n",
        "  if 'HOUR_APPR_PROCESS_START' in df.columns:\n",
        "\n",
        "    df['HOUR_GROUP'] = pd.cut(df['HOUR_APPR_PROCESS_START'],\n",
        "                                    bins=[-1, 5, 11, 17, 23],\n",
        "                                    labels=['Early Morning', 'Morning', 'Afternoon', 'Evening'])\n",
        "    df.drop(columns=['HOUR_APPR_PROCESS_START'], inplace=True)\n",
        "\n",
        "  return df\n",
        "\n",
        "\n",
        "# Example usage (assuming your DataFrame is named 'application_train'):\n",
        "application_train_temp = create_hour_groups(application_train_temp)"
      ],
      "metadata": {
        "id": "NeM_4vMulUvX"
      },
      "execution_count": null,
      "outputs": []
    },
    {
      "cell_type": "code",
      "source": [
        "target_rate_by_hour_group = target_rate_by_cat(application_train_temp, 'HOUR_GROUP').sort_values(by='HOUR_GROUP', ascending=True)\n",
        "print(target_rate_by_hour_group)"
      ],
      "metadata": {
        "id": "43GYwNAdnRbN"
      },
      "execution_count": null,
      "outputs": []
    },
    {
      "cell_type": "code",
      "source": [
        "plt.figure(figsize=(12, 6))\n",
        "ax = sns.barplot(x=target_rate_by_hour_group.index, y=target_rate_by_hour_group['target_rate'], palette=\"Set2\", hue=target_rate_by_hour_group.index, legend=True)\n",
        "# Add text annotations above each bar\n",
        "for i, v in enumerate(target_rate_by_hour_group['target_rate']):\n",
        "    ax.text(i, v, f'{v:.2f}%', ha='center', va='bottom')\n",
        "plt.xlabel(\"Durée d'emploi\")\n",
        "plt.ylabel('Taux de difficulté de paiement (en %)')\n",
        "plt.title(\"Taux de difficulté de paiement par durée d'emploi\")\n",
        "# plt.legend()\n",
        "plt.tight_layout()\n",
        "plt.show()"
      ],
      "metadata": {
        "id": "uqh_n_qNoZ6L"
      },
      "execution_count": null,
      "outputs": []
    },
    {
      "cell_type": "markdown",
      "source": [
        "**Feature engineerign recommandé** :\n",
        "- **Regrouper les heures en catégories** significatives telles que :\n",
        "  - Tôt le matin (0-6)\n",
        "  - Matin (6-12)\n",
        "  - Après-midi (12-18)\n",
        "  - Soir (18-24)"
      ],
      "metadata": {
        "id": "SQY_5tAfmzr-"
      }
    },
    {
      "cell_type": "markdown",
      "source": [
        "### Taux de difficulté de paiement en fonction du montant du crédit"
      ],
      "metadata": {
        "id": "DHB-raBUF47V"
      }
    },
    {
      "cell_type": "markdown",
      "source": [
        "evolution du taux de diffculté de paiment en fonction de ..."
      ],
      "metadata": {
        "id": "V6s8RJaDPE-p"
      }
    },
    {
      "cell_type": "code",
      "source": [
        "# prompt: Distribution de AMT_CREDIT\n",
        "\n",
        "df_credit_amt_filtered = application_train_temp[(application_train_temp['AMT_CREDIT'] > 0) & (application_train_temp['AMT_CREDIT'] < 2000000)]\n",
        "\n",
        "plt.figure(figsize=(12, 6))\n",
        "sns.histplot(df_credit_amt_filtered['AMT_CREDIT'], bins=16, kde=True)\n",
        "plt.xlabel('Montant du crédit (AMT_CREDIT)')\n",
        "plt.ylabel('Fréquence')\n",
        "plt.title('Distribution du montant du crédit')\n",
        "plt.show()"
      ],
      "metadata": {
        "id": "HPiUXKwYiF_a"
      },
      "execution_count": null,
      "outputs": []
    },
    {
      "cell_type": "code",
      "source": [
        "def create_credit_amount_groups(df):\n",
        "  if 'AMT_CREDIT'  in df.columns:\n",
        "    bins = [40000, 80000, 120000, 150000, 200000, 350000, 500000, 750000, 1000000, 1500000, float('inf')]\n",
        "    labels = [\n",
        "        \"40K-80K\",\n",
        "        \"80K-120K\",\n",
        "        \"120K-150K\",\n",
        "        \"150K-200K\",\n",
        "        \"200K-350K\",\n",
        "        \"350K-500K\",\n",
        "        \"500K-750K\",\n",
        "        \"750K-1M\",\n",
        "        \"1M-1.5M\",\n",
        "        \"1.5M+\"\n",
        "    ]\n",
        "\n",
        "    # Create categorical column\n",
        "    df['CREDIT_AMT_GROUP'] = pd.cut(df['AMT_CREDIT'], bins=bins, labels=labels, right=False)\n",
        "    df.drop(columns=['AMT_CREDIT'], inplace=True)\n",
        "    return df"
      ],
      "metadata": {
        "id": "LWwutzsYjIlA"
      },
      "execution_count": null,
      "outputs": []
    },
    {
      "cell_type": "code",
      "source": [
        "# Usage\n",
        "application_train_temp = create_credit_amount_groups(application_train_temp)"
      ],
      "metadata": {
        "id": "EKaoaz0ekwCS"
      },
      "execution_count": null,
      "outputs": []
    },
    {
      "cell_type": "code",
      "source": [
        "target_rate_by_credit_amount = target_rate_by_cat(application_train_temp, 'CREDIT_AMT_GROUP').sort_values(by='CREDIT_AMT_GROUP', ascending=True)\n",
        "print(target_rate_by_credit_amount)"
      ],
      "metadata": {
        "id": "FVFcxRLUk8nn"
      },
      "execution_count": null,
      "outputs": []
    },
    {
      "cell_type": "markdown",
      "source": [
        "Ce graphique illustre le taux de difficulté de paiement (en pourcentage) en fonction des différentes tranches de montant de crédit."
      ],
      "metadata": {
        "id": "snJ63Yyqot1k"
      }
    },
    {
      "cell_type": "code",
      "source": [
        "plt.figure(figsize=(12, 6))\n",
        "ax = sns.barplot(x=target_rate_by_credit_amount.index, y=target_rate_by_credit_amount['target_rate'], palette=\"Set2\", hue=target_rate_by_credit_amount.index, legend=False)\n",
        "# Add text annotations above each bar\n",
        "for i, v in enumerate(target_rate_by_credit_amount['target_rate']):\n",
        "    ax.text(i, v, f'{v:.2f}%', ha='center', va='bottom')\n",
        "plt.xlabel(\"Montant du crédit\")\n",
        "plt.ylabel('Taux de difficulté de paiement (en %)')\n",
        "plt.title(\"Taux de difficulté de paiement par montant du crédit\")\n",
        "plt.xticks(rotation=45, ha='right')\n",
        "# plt.legend()\n",
        "plt.tight_layout()\n",
        "plt.show()"
      ],
      "metadata": {
        "id": "PDakG58wQmB7"
      },
      "execution_count": null,
      "outputs": []
    },
    {
      "cell_type": "markdown",
      "source": [
        "**Interprétation** :\n",
        "\n",
        "- **Taux de difficulté maximal** : Les crédits dans la tranche **350K–500K** affichent le taux de difficulté le plus élevé (9.87%), suivis de près par la tranche **200K–350K** (8.38%) et **500K–750K** (9.46%). Cela peut indiquer une zone de risque pour les montants moyens à élevés.\n",
        "\n",
        "- **Taux de difficulté faible** : Les tranches **40K–80K** (4.77%) et **1.5M+** (4.43%) ont les taux les plus bas, suggérant que les petits crédits ou les très gros crédits sont mieux remboursés.\n",
        "\n",
        "- **Tendance générale** : Une forme en cloche semble émerger : les taux augmentent pour des montants modérés, puis diminuent pour les très gros montants.\n",
        "\n",
        "**Feature Engineering recommandé** :\n",
        "- Créer des tranches de montant du crédit `CREDIT_AMT_GROUP` à la place de `AMT_CREDIT`."
      ],
      "metadata": {
        "id": "_afTA2HloVzA"
      }
    },
    {
      "cell_type": "markdown",
      "source": [
        "### Matrices de correlation"
      ],
      "metadata": {
        "id": "-M08e3j9QBlP"
      }
    },
    {
      "cell_type": "markdown",
      "source": [
        "#### Matrice de correlation pour les variables quantitatives (non normalisées)"
      ],
      "metadata": {
        "id": "vqEKpMTeZWzQ"
      }
    },
    {
      "cell_type": "code",
      "source": [
        "def create_correlation_matrix(df: pd.DataFrame, target_column: str, cols: list, title, annot:bool = True):\n",
        "    \"\"\"\n",
        "    Creates and visualizes a correlation matrix, focusing on normalized columns and the target.\n",
        "\n",
        "    Args:\n",
        "        df: The pandas DataFrame.\n",
        "        target_column: The name of the target variable column.\n",
        "        cols: A list of column names that have been normalized.\n",
        "    \"\"\"\n",
        "\n",
        "    # Select the normalized columns and the target column\n",
        "    cols_for_matrix = cols + [target_column]\n",
        "\n",
        "    # Ensure all columns are present in the DataFrame\n",
        "    cols_to_keep = [col for col in cols_for_matrix if col in df.columns]\n",
        "\n",
        "    if not cols_to_keep:\n",
        "        print(\"Warning: None of the specified columns were found in the DataFrame.\")\n",
        "        return\n",
        "\n",
        "    # Calculate the correlation matrix\n",
        "    correlation_matrix = df[cols_to_keep].corr()\n",
        "\n",
        "    # Create a heatmap\n",
        "    plt.figure(figsize=(12, 10))\n",
        "    sns.heatmap(correlation_matrix, annot=annot, cmap='coolwarm', fmt=\".2f\")\n",
        "    plt.title(title)\n",
        "    plt.show()\n"
      ],
      "metadata": {
        "id": "wionpngQYpvA"
      },
      "execution_count": null,
      "outputs": []
    },
    {
      "cell_type": "code",
      "source": [
        "quantity_cols_for_matrix_1 =[\n",
        "  'AMT_CREDIT',\n",
        "  'AMT_ANNUITY',\n",
        "  'AMT_INCOME_TOTAL',\n",
        "  'RATIO_ANNUITY_INCOME',\n",
        "  'RATIO_CREDIT_INCOME',\n",
        "  'AMT_GOODS_PRICE',\n",
        "  'CNT_CHILDREN',\n",
        "  'CNT_FAM_MEMBERS',\n",
        "  'OWN_CAR_AGE',\n",
        "  'DAYS_BIRTH',\n",
        "  'DAYS_REGISTRATION',\n",
        "  'DAYS_ID_PUBLISH',\n",
        "  'DAYS_EMPLOYED',\n",
        "  'DAYS_LAST_PHONE_CHANGE'\n",
        "]\n",
        "\n",
        "create_correlation_matrix(application_train_temp, 'TARGET', quantity_cols_for_matrix_1, 'Matrice de corrélaton (Variables quantitatives) - Partie 1')"
      ],
      "metadata": {
        "id": "7QmW82m0QGpK"
      },
      "execution_count": null,
      "outputs": []
    },
    {
      "cell_type": "markdown",
      "source": [
        "**Observations générales**\n",
        "1. **Corrélations élevées entre certaines variables** :  \n",
        "   - `AMT_CREDIT`, `AMT_ANNUITY` et `AMT_GOODS_PRICE` ont des corrélations très élevées (proches de 1).  \n",
        "     ➡ Cela indique qu'elles sont fortement liées : par exemple, un crédit élevé est souvent associé à des mensualités élevées (`AMT_ANNUITY`) et à des biens de plus grande valeur (`AMT_GOODS_PRICE`).\n",
        "   - `CNT_CHILDREN` et `CNT_FAM_MEMBERS` sont également très corrélés (0.88).  \n",
        "     ➡ Cela est logique, car le nombre de membres de la famille est souvent directement lié au nombre d'enfants.\n",
        "\n",
        "2. **Variables peu corrélées à la cible (`TARGET`)** :  \n",
        "   - Les corrélations entre la variable cible (`TARGET`) et les autres variables sont globalement faibles (autour de ±0.1 ou moins).  \n",
        "     ➡ Cela indique que, individuellement, aucune variable ne détermine fortement le risque de défaut.\n",
        "\n",
        "**Points spécifiques***\n",
        "1. **Variables ayant une certaine corrélation avec `TARGET`** :\n",
        "   - `DAYS_BIRTH` (âge du client) a une corrélation négative modérée avec `TARGET` (-0.08).  \n",
        "     ➡ Les clients plus âgés semblent légèrement moins susceptibles de faire défaut.\n",
        "   - `DAYS_EMPLOYED` (durée d'emploi) est également corrélé négativement (-0.07).  \n",
        "     ➡ Les clients ayant une longue stabilité professionnelle semblent moins risqués.\n",
        "\n",
        "**Feature engineering recommandé** :\n",
        "- Supprimer la colonne `AMT_GOODS_PRICE` et `CNT_FAM_MEMBERS` pour éviter des problèmes de colinéarité dans les modèles."
      ],
      "metadata": {
        "id": "pfzLrKA6RWS3"
      }
    },
    {
      "cell_type": "code",
      "source": [
        "quantity_cols_for_matrix_2 = [\n",
        " 'DEF_30_CNT_SOCIAL_CIRCLE',\n",
        " 'DEF_60_CNT_SOCIAL_CIRCLE',\n",
        " 'OBS_60_CNT_SOCIAL_CIRCLE',\n",
        " 'OBS_30_CNT_SOCIAL_CIRCLE',\n",
        " 'AMT_REQ_CREDIT_BUREAU_HOUR',\n",
        " 'AMT_REQ_CREDIT_BUREAU_DAY',\n",
        " 'AMT_REQ_CREDIT_BUREAU_WEEK',\n",
        " 'AMT_REQ_CREDIT_BUREAU_YEAR',\n",
        " 'AMT_REQ_CREDIT_BUREAU_QRT',\n",
        " 'AMT_REQ_CREDIT_BUREAU_MON']\n",
        "\n",
        "create_correlation_matrix(application_train_temp, 'TARGET', quantity_cols_for_matrix_2, 'Matrice de corrélaton (Variables quantitatives) - Partie 2')"
      ],
      "metadata": {
        "id": "TYNBRyfqdTog"
      },
      "execution_count": null,
      "outputs": []
    },
    {
      "cell_type": "markdown",
      "source": [
        "**Feature engineering recommandé** :\n",
        "- Supprimer la colonne `DEF_60_CNT_SOCIAL_CIRCLE`"
      ],
      "metadata": {
        "id": "lHPgFH-uepUC"
      }
    },
    {
      "cell_type": "markdown",
      "source": [
        "#### Matrice de corrélation pour les variables quantitatives normalisées"
      ],
      "metadata": {
        "id": "tpN00IOBZfo6"
      }
    },
    {
      "cell_type": "code",
      "source": [
        "create_correlation_matrix(application_train_temp, 'TARGET', normalized_cols, 'Matrice de corrélaton (Variables normalisées)', False)"
      ],
      "metadata": {
        "id": "52cWCCADZLJH"
      },
      "execution_count": null,
      "outputs": []
    },
    {
      "cell_type": "markdown",
      "source": [
        "**Observation de la matrice :**\n",
        "- Plusieurs variables présentent des versions multiples : `AVG`, `MODE`, et `MEDI`. Elles sont souvent fortement corrélées entre elles.\n",
        "\n",
        "**Feature engineering recommandé** :\n",
        "- Pour réduire la multicolinéarité, nouq conservons les versions `AVG` des variables (plus intuitives) et supprimons les versions `MODE` et `MEDI`. Cela simplifiera aussi le modèle tout en préservant l'information essentielle."
      ],
      "metadata": {
        "id": "PDA1fHcRaFjK"
      }
    },
    {
      "cell_type": "markdown",
      "source": [
        "Suppression des colonnes `_MODE` et `_MEDI`"
      ],
      "metadata": {
        "id": "gtYBdX2uclhc"
      }
    },
    {
      "cell_type": "code",
      "source": [
        "normalized_cols_to_remove = [\n",
        "    \"APARTMENTS_MODE\", \"APARTMENTS_MEDI\",\n",
        "    \"BASEMENTAREA_MODE\", \"BASEMENTAREA_MEDI\",\n",
        "    \"YEARS_BEGINEXPLUATATION_MODE\", \"YEARS_BEGINEXPLUATATION_MEDI\",\n",
        "    \"YEARS_BUILD_MODE\", \"YEARS_BUILD_MEDI\",\n",
        "    \"COMMONAREA_MODE\", \"COMMONAREA_MEDI\",\n",
        "    \"ELEVATORS_MODE\", \"ELEVATORS_MEDI\",\n",
        "    \"ENTRANCES_MODE\", \"ENTRANCES_MEDI\",\n",
        "    \"FLOORSMAX_MODE\", \"FLOORSMAX_MEDI\",\n",
        "    \"FLOORSMIN_MODE\", \"FLOORSMIN_MEDI\",\n",
        "    \"LANDAREA_MODE\", \"LANDAREA_MEDI\",\n",
        "    \"LIVINGAPARTMENTS_MODE\", \"LIVINGAPARTMENTS_MEDI\",\n",
        "    \"LIVINGAREA_MODE\", \"LIVINGAREA_MEDI\",\n",
        "    \"NONLIVINGAPARTMENTS_MODE\", \"NONLIVINGAPARTMENTS_MEDI\",\n",
        "    \"NONLIVINGAREA_MODE\", \"NONLIVINGAREA_MEDI\"\n",
        "]\n",
        "len(normalized_cols_to_remove)"
      ],
      "metadata": {
        "id": "LaJnVUOkabid"
      },
      "execution_count": null,
      "outputs": []
    },
    {
      "cell_type": "code",
      "source": [
        "application_train_dropped_cols = remove_cols(application_train_temp, normalized_cols_to_remove)\n",
        "application_train_dropped_cols.shape"
      ],
      "metadata": {
        "id": "mci7qxTraydf"
      },
      "execution_count": null,
      "outputs": []
    },
    {
      "cell_type": "code",
      "source": [
        "create_correlation_matrix(application_train_dropped_cols, 'TARGET', normalized_cols, 'Matrice de corrélaton (Variables normalisées)', annot=False)"
      ],
      "metadata": {
        "id": "QBDvDVHFb7Bb"
      },
      "execution_count": null,
      "outputs": []
    },
    {
      "cell_type": "markdown",
      "source": [
        "**Interprétation**\n",
        "\n",
        "**Feature engineering recommandé**\n",
        "- Supprimer les variables fortement corrélées\n",
        "  - `LIVINGAPARTMENTS_AVG`\n",
        "  - `LIVINGAREA_AVG`"
      ],
      "metadata": {
        "id": "sBx4Ny1LgfHm"
      }
    },
    {
      "cell_type": "markdown",
      "source": [
        "## ✂️ Division en ensemble d'entraînement et de test\n",
        "\n",
        "La division sépare le jeu de données en deux parties : un **ensemble d'entraînement** utilisé pour entraîner le modèle et un **ensemble de test** utilisé pour évaluer ses performances sur des données inédites.\n",
        "\n",
        "**Risques de Data Leakage** : L'ensemble de données de test ne doit en aucun cas être utilisé pour faire des choix concernant le modèle, y compris le**Feature Engineering**, **Feature Selection** et **Preprocessing**."
      ],
      "metadata": {
        "id": "8hWektesMPqN"
      }
    },
    {
      "cell_type": "code",
      "source": [
        "application_train_raw.shape"
      ],
      "metadata": {
        "id": "UdE1TIpatVL3"
      },
      "execution_count": null,
      "outputs": []
    },
    {
      "cell_type": "code",
      "source": [
        "y = application_train_raw['TARGET']\n",
        "X = application_train_raw.drop('TARGET', axis=1)"
      ],
      "metadata": {
        "id": "NgPPhCUhVTg7"
      },
      "execution_count": null,
      "outputs": []
    },
    {
      "cell_type": "code",
      "source": [
        "from sklearn.model_selection import train_test_split\n",
        "\n",
        "X_train, X_test, y_train, y_test = train_test_split(X, y, test_size=0.2, random_state=42)"
      ],
      "metadata": {
        "id": "xa7cqT8P5MzQ"
      },
      "execution_count": null,
      "outputs": []
    },
    {
      "cell_type": "code",
      "source": [
        "print(\"Taille de X_train :\", X_train.shape)\n",
        "print(\"Taille de X_test :\", X_test.shape)"
      ],
      "metadata": {
        "id": "45C2Y7usg92d"
      },
      "execution_count": null,
      "outputs": []
    },
    {
      "cell_type": "markdown",
      "source": [
        "## ⚗️ Feature Engineering\n",
        "\n",
        "<img src=\"https://media.geeksforgeeks.org/wp-content/uploads/20231220095556/Feature-Engineering.png\" />\n",
        "\n",
        "> **Feature Engineering** = Data Preparation + Preprocessing\n",
        "\n",
        "Le **Feature engineering** est un processus de transformation de données brutes. Il consiste à choisir, extraire et remodeler les variables les plus appropriées pour créer des modèles de Machine Learning **précis et performants**. L’efficacité d’un modèle d’apprentissage est liée à la **qualité des variables utilisées** pour le former.\n",
        "\n",
        "> Le Feature Engineering est le processus de transformation des données brutes en variables adaptées aux modèles d'apprentissage automatique.\n",
        "\n",
        "Les objectifs du **Feature Engineering** sont de :\n",
        "\n",
        "- **Sélectionner les variables pertinentes** des données (Feature selection).\n",
        "- **Créer de nouvelles variables** permettant de capturer des relations significatifs (Feature creation).\n",
        "- **Transformer les données dans un format plus adapté** aux algorithmes de Machine Learning (Preprocessing).\n",
        "\n",
        "Les deux facteurs moteurs du **Feature engineering** sont :\n",
        "1. La **connaissance métier** de la tâche (domain knowledge)\n",
        "2. L’inspection des valeurs des données.\n",
        "\n",
        "Le feature engineering englobe différentes techniques permettant de créer de nouvelles variables en combinant ou en modifiant les existantes :\n",
        "\n",
        "- **Feature Extraction** (images, textes) : transforme les données brutes en une représentation plus significative pour les modèles.\n",
        "- **Feature Selection / Feature Importance** : processus de sélection d’un sous-ensemble de fonctionnalités pertinentes à partir de l’ensemble de données à utiliser dans un modèle.\n",
        "- **Feature Creation** : génération de nouvelles variables basées sur des connaissances métier ou en observant des motifs dans les données.\n",
        "- **Feature Scaling** : standardisation des variables afin qu'elles aient une échelle similaire.\n",
        "- **Feature Transformation** : préparation en encodage des données\n",
        "\n",
        "> Objectif : **Créez au moins trois nouvelles variables pertinentes** à partir des variables existantes (interactions, transformations).\n",
        "\n"
      ],
      "metadata": {
        "id": "SYezr7Bts6tz"
      }
    },
    {
      "cell_type": "markdown",
      "source": [
        "### Data Preparation\n",
        "\n",
        "<img src=\"https://github.com/Clearbox-AI/clearbox-wrapper/blob/master/docs/images/clearbox_ai_wrapper_preprocessing_data_preparation.png?raw=true\" width=\"800\" />\n",
        "\n",
        "**Préparation des données réalisée** :\n",
        "\n",
        "- ✔️ Ne pas conserver les colonnes\n",
        "  - les identifiants `SK_ID_CURR`.\n",
        "  - `WEEKDAY_APPR_PROCESS_START`\n",
        "  - `AMT_GOODS_PRICE`\n",
        "  - `CNT_FAM_MEMBERS`\n",
        "  - `DEF_60_CNT_SOCIAL_CIRCLE`\n",
        "  - `normalized_cols_to_remove` (list)\n",
        "  - `LIVINGAPARTMENTS_AVG`\n",
        "  - `LIVINGAREA_AVG`\n",
        "- ✔️ Créer des tranches d'heure pour `HOUR_APPR_PROCESS_START`.\n",
        "- ✔️ Transformer `NAME_INCOME_TYPE` : Combiner les types de revenus à faible nombre de clients dans la modalité \"Other\".\n",
        "- ✔️ Créer une modalité qui regroupe \"4 enfants et plus\" (`4`) pour `CNT_CHILDREN`.\n",
        "- ✔️ Création de ratios\n",
        "  - `RATIO_DEBT_INCOME`\n",
        "  - `RATIO_ANNUITY_INCOME`\n",
        "  - `RATIO_ANNUITY_CREDIT`\n",
        "  - `RATIO_DAYS_EMPLOYED_AGE`\n",
        "- ✔️ Remplacer les valeurs manquantes par une modalité qui existe déjà :\n",
        "  - `FONDKAPREMONT_MODE` : \"not specified\"\n",
        "  - `CODE_GENDER` : \"XNA\"\n",
        "  - `NAME_TYPE_SUITE` : \"Unaccompanied\"\n",
        "- ✔️ Convertir les colonnes contenant les valeurs \"Y\" et \"N\" en 0 et 1 et remplir les valeurs manquantes avec 0\n",
        "  - `FLAG_OWN_CAR`\n",
        "  - `FLAG_OWN_REALTY`\n",
        "  - `EMERGENCYSTATE_MODE`\n",
        "- ✔️ Remplir les valeurs NaN pour l'age de la voiture `OWN_CAR_AGE` :\n",
        "  - Pour les propriétaires de voitures (`FLAG_OWN_CAR` == 'Y') : avec la médiane\n",
        "  - Pour les non-propriétaires de voitures (`FLAG_OWN_CAR` == 'N') : avec 0\n",
        "\n",
        "  **Documentation**\n",
        "\n",
        "- https://github.com/Clearbox-AI/clearbox-wrapper"
      ],
      "metadata": {
        "id": "qkgjQUVGlPiU"
      }
    },
    {
      "cell_type": "markdown",
      "source": [
        "#### Sélection des colonnes (Feature selection)\n",
        "\n",
        "La **Feature selection** est le processus d'identification et de sélection d'un sous-ensemble de variables pertinentes à utiliser dans la construction d'un modèle.\n",
        "\n",
        "**Méthodes** :\n",
        "\n",
        "- **Connaissances métier** : Tire parti de l’expertise du domaine pour identifier les variables connues pour avoir un impact sur la variable cible.\n",
        "- **Filter Methods**\n",
        "- **Wrapper Methods**\n",
        "- **Embedded Methods**\n",
        "\n",
        "Nous devons toutjours utiliser la validation croisée pour évaluer les performances de nos méthodes de sélection de variables.\n",
        "\n",
        "**Documentation** :\n",
        "\n",
        "- https://graphite-note.com/feature-selection/\n",
        "- https://www.nightfall.ai/ai-security-101/feature-selection\n",
        "- https://www.geeksforgeeks.org/domain-knowledge-in-machine-learning/\n",
        "- https://medium.com/@jaberi.mohamedhabib/feature-selection-techniques-in-machine-learning-4c395e4a8205\n",
        "- https://mljourney.com/feature-selection-in-machine-learning-a-comprehensive-guide/\n",
        "\n",
        "##### Selection de colonnes sur la base de connaissances \"métier\"\n",
        "\n",
        "D'après l'analyse exploratoire des données, nous ne conservons pas les 35 colonnes suivantes :"
      ],
      "metadata": {
        "id": "02EWj0gF-J43"
      }
    },
    {
      "cell_type": "code",
      "source": [
        "# @title Colonnes à supprimer\n",
        "cols_to_drop = [\n",
        "  'SK_ID_CURR',\n",
        "  'WEEKDAY_APPR_PROCESS_START',\n",
        "  'AMT_GOODS_PRICE',\n",
        "  'CNT_FAM_MEMBERS',\n",
        "  'DEF_60_CNT_SOCIAL_CIRCLE',\n",
        "  \"APARTMENTS_MODE\", \"APARTMENTS_MEDI\",\n",
        "  \"BASEMENTAREA_MODE\", \"BASEMENTAREA_MEDI\",\n",
        "  \"YEARS_BEGINEXPLUATATION_MODE\", \"YEARS_BEGINEXPLUATATION_MEDI\",\n",
        "  \"YEARS_BUILD_MODE\", \"YEARS_BUILD_MEDI\",\n",
        "  \"COMMONAREA_MODE\", \"COMMONAREA_MEDI\",\n",
        "  \"ELEVATORS_MODE\", \"ELEVATORS_MEDI\",\n",
        "  \"ENTRANCES_MODE\", \"ENTRANCES_MEDI\",\n",
        "  \"FLOORSMAX_MODE\", \"FLOORSMAX_MEDI\",\n",
        "  \"FLOORSMIN_MODE\", \"FLOORSMIN_MEDI\",\n",
        "  \"LANDAREA_MODE\", \"LANDAREA_MEDI\",\n",
        "  \"LIVINGAPARTMENTS_MODE\", \"LIVINGAPARTMENTS_MEDI\",\n",
        "  \"LIVINGAREA_MODE\", \"LIVINGAREA_MEDI\",\n",
        "  \"NONLIVINGAPARTMENTS_MODE\", \"NONLIVINGAPARTMENTS_MEDI\",\n",
        "  \"NONLIVINGAREA_MODE\", \"NONLIVINGAREA_MEDI\",\n",
        "  'LIVINGAPARTMENTS_AVG', 'LIVINGAREA_AVG'\n",
        "]\n",
        "print(f\"N° colonnes X_train : {X_train.shape[1]}\")\n",
        "print(f\"N° colonne à supprimer : {len(cols_to_drop)}\")\n",
        "print(f\"N° colonne à conserver : {X_train.shape[1] - len(cols_to_drop)}\")"
      ],
      "metadata": {
        "id": "Y996hgSZaeEZ"
      },
      "execution_count": null,
      "outputs": []
    },
    {
      "cell_type": "markdown",
      "source": [
        "#### 🧼 Nettoyage des données\n",
        "\n",
        "- Identification et correction des erreurs (valeurs aberrantes, doublons, incohérences).\n",
        "- Gestion des valeurs manquantes (suppression, imputation, création d'une catégorie spécifique)."
      ],
      "metadata": {
        "id": "WcVmKgPeHzNm"
      }
    },
    {
      "cell_type": "markdown",
      "source": [
        "#### Valeurs aberrantes dans les jours d'emploi (`DAYS_EMPLOYED`)\n",
        "\n",
        "- Il y a une anomalie dans `DAYS_EMPLOYED` ou la valeur est de `365243` pour 55 374 clients.\n",
        "- Nous décidons de remplacer ces valeurs par des NaNs.\n",
        "- Ils seront ensute traités par le couche d'imputation qui traitera les valeurs manquantes dans notre pipeline d'entraînement."
      ],
      "metadata": {
        "id": "jZ5ti36be4rE"
      }
    },
    {
      "cell_type": "code",
      "source": [
        "application_train_temp = application_train_raw.copy()"
      ],
      "metadata": {
        "id": "7U0LBss1J11w"
      },
      "execution_count": null,
      "outputs": []
    },
    {
      "cell_type": "code",
      "source": [
        "anom = application_train_temp[application_train_temp['DAYS_EMPLOYED'] == 365243]\n",
        "print(\"Il y a %d anomalies dans la colonne `DAYS_EMPLOYED`.\" % len(anom))"
      ],
      "metadata": {
        "id": "-Ohb230-fHY1"
      },
      "execution_count": null,
      "outputs": []
    },
    {
      "cell_type": "code",
      "source": [
        "def days_employed_anomalies(df):\n",
        "  if 'DAYS_EMPLOYED' in df.columns:\n",
        "    anom = df[df['DAYS_EMPLOYED'] == 365243]\n",
        "    # Create an anomalous flag column\n",
        "    df['DAYS_EMPLOYED_ANOM'] = df[\"DAYS_EMPLOYED\"] == 365243\n",
        "    # Replace the anomalous values with nan\n",
        "    # df['DAYS_EMPLOYED'].replace({365243: np.nan}, inplace = True)  # Avoid this\n",
        "    df['DAYS_EMPLOYED'] = df['DAYS_EMPLOYED'].replace({365243: np.nan}) # Do this instead\n",
        "  return df"
      ],
      "metadata": {
        "id": "yKDDfNTiMg-B"
      },
      "execution_count": null,
      "outputs": []
    },
    {
      "cell_type": "code",
      "source": [
        "application_train_temp = days_employed_anomalies(application_train_temp)"
      ],
      "metadata": {
        "id": "pNP79Lp5M1G3"
      },
      "execution_count": null,
      "outputs": []
    },
    {
      "cell_type": "code",
      "source": [
        "anom = application_train_temp[application_train_temp['DAYS_EMPLOYED'] == 365243]\n",
        "print(\"Il y a %d anomalies dans la colonne `DAYS_EMPLOYED`.\" % len(anom))"
      ],
      "metadata": {
        "id": "vsitFlcoiCox"
      },
      "execution_count": null,
      "outputs": []
    },
    {
      "cell_type": "code",
      "source": [
        "days_employed_nans = application_train_temp['DAYS_EMPLOYED'].isna().sum()\n",
        "print(\"Il y a %d valeurs manquantes dans la colonne `DAYS_EMPLOYED`.\" % days_employed_nans)"
      ],
      "metadata": {
        "id": "CHEja_pBiCmQ"
      },
      "execution_count": null,
      "outputs": []
    },
    {
      "cell_type": "markdown",
      "source": [
        "#### Valeurs manquantes"
      ],
      "metadata": {
        "id": "85P_PmZYLxR1"
      }
    },
    {
      "cell_type": "code",
      "source": [
        "# Function to calculate missing values by column# Funct\n",
        "def missing_values_table(df):\n",
        "  # Total missing values\n",
        "  mis_val = df.isnull().sum()\n",
        "\n",
        "  # Percentage of missing values\n",
        "  mis_val_percent = 100 * df.isnull().sum() / len(df)\n",
        "\n",
        "  # Make a table with the results\n",
        "  mis_val_table = pd.concat([mis_val, mis_val_percent], axis=1)\n",
        "\n",
        "  # Rename the columns\n",
        "  mis_val_table_ren_columns = mis_val_table.rename(\n",
        "  columns = {0 : 'Valeurs manquantes', 1 : '% des valeurs totales'})\n",
        "\n",
        "  # Sort the table by percentage of missing descending\n",
        "  mis_val_table_ren_columns = mis_val_table_ren_columns[\n",
        "      mis_val_table_ren_columns.iloc[:,1] != 0].sort_values(\n",
        "  '% des valeurs totales', ascending=False).round(1)\n",
        "\n",
        "  # Print some summary information\n",
        "  print (\"Your selected dataframe has \" + str(df.shape[1]) + \" columns.\\n\"\n",
        "      \"There are \" + str(mis_val_table_ren_columns.shape[0]) +\n",
        "        \" columns that have missing values.\")\n",
        "\n",
        "  # Return the dataframe with missing information\n",
        "  return mis_val_table_ren_columns"
      ],
      "metadata": {
        "id": "e4bmjhFhMTmU"
      },
      "execution_count": null,
      "outputs": []
    },
    {
      "cell_type": "code",
      "source": [
        "features_temp = [\n",
        "  'FLAG_OWN_CAR', 'FLAG_OWN_REALTY', 'NAME_CONTRACT_TYPE', 'EMERGENCYSTATE_MODE',\n",
        "  'CODE_GENDER', 'NAME_TYPE_SUITE', 'NAME_INCOME_TYPE', 'NAME_EDUCATION_TYPE',\n",
        "  'NAME_FAMILY_STATUS', 'NAME_HOUSING_TYPE', 'OCCUPATION_TYPE', 'ORGANIZATION_TYPE',\n",
        "  'FONDKAPREMONT_MODE', 'HOUSETYPE_MODE', 'WALLSMATERIAL_MODE', 'FLAG_MOBIL',\n",
        "  'FLAG_EMP_PHONE', 'FLAG_WORK_PHONE', 'FLAG_CONT_MOBILE', 'FLAG_PHONE',\n",
        "  'FLAG_EMAIL', 'REG_REGION_NOT_LIVE_REGION', 'REG_REGION_NOT_WORK_REGION',\n",
        "  'LIVE_REGION_NOT_WORK_REGION', 'REG_CITY_NOT_LIVE_CITY', 'REG_CITY_NOT_WORK_CITY',\n",
        "  'LIVE_CITY_NOT_WORK_CITY', 'FLAG_DOCUMENT_2', 'FLAG_DOCUMENT_3', 'FLAG_DOCUMENT_4',\n",
        "  'FLAG_DOCUMENT_5', 'FLAG_DOCUMENT_6', 'FLAG_DOCUMENT_7', 'FLAG_DOCUMENT_8',\n",
        "  'FLAG_DOCUMENT_9', 'FLAG_DOCUMENT_10', 'FLAG_DOCUMENT_11', 'FLAG_DOCUMENT_12',\n",
        "  'FLAG_DOCUMENT_13', 'FLAG_DOCUMENT_14', 'FLAG_DOCUMENT_15', 'FLAG_DOCUMENT_16',\n",
        "  'FLAG_DOCUMENT_17', 'FLAG_DOCUMENT_18', 'FLAG_DOCUMENT_19', 'FLAG_DOCUMENT_20',\n",
        "  'FLAG_DOCUMENT_21', 'AMT_CREDIT', 'AMT_ANNUITY', 'AMT_INCOME_TOTAL', 'CNT_CHILDREN',\n",
        "  'OWN_CAR_AGE', 'DAYS_BIRTH', 'DAYS_REGISTRATION', 'DAYS_ID_PUBLISH', 'DAYS_EMPLOYED',\n",
        "  'DAYS_LAST_PHONE_CHANGE', 'DEF_30_CNT_SOCIAL_CIRCLE', 'OBS_60_CNT_SOCIAL_CIRCLE',\n",
        "  'OBS_30_CNT_SOCIAL_CIRCLE', 'AMT_REQ_CREDIT_BUREAU_HOUR', 'AMT_REQ_CREDIT_BUREAU_DAY',\n",
        "  'AMT_REQ_CREDIT_BUREAU_WEEK', 'AMT_REQ_CREDIT_BUREAU_YEAR', 'AMT_REQ_CREDIT_BUREAU_QRT',\n",
        "  'AMT_REQ_CREDIT_BUREAU_MON', 'REGION_POPULATION_RELATIVE', 'EXT_SOURCE_1',\n",
        "  'EXT_SOURCE_2', 'EXT_SOURCE_3', 'APARTMENTS_AVG', 'BASEMENTAREA_AVG',\n",
        "  'YEARS_BEGINEXPLUATATION_AVG', 'YEARS_BUILD_AVG', 'COMMONAREA_AVG', 'ELEVATORS_AVG',\n",
        "  'ENTRANCES_AVG', 'FLOORSMAX_AVG', 'FLOORSMIN_AVG', 'LANDAREA_AVG',\n",
        "  'NONLIVINGAPARTMENTS_AVG', 'NONLIVINGAREA_AVG', 'TOTALAREA_MODE',\n",
        "  'REGION_RATING_CLIENT_W_CITY', 'REGION_RATING_CLIENT', 'HOUR_APPR_PROCESS_START'\n",
        "]"
      ],
      "metadata": {
        "id": "_wo3BFG9DoYU"
      },
      "execution_count": null,
      "outputs": []
    },
    {
      "cell_type": "code",
      "source": [
        "# Missing values statistics\n",
        "missing_values = missing_values_table(X_train[features_temp])\n",
        "missing_values.head(40)"
      ],
      "metadata": {
        "id": "YXTy2EwkDtnL"
      },
      "execution_count": null,
      "outputs": []
    },
    {
      "cell_type": "markdown",
      "source": [
        "#### Préparation complète"
      ],
      "metadata": {
        "id": "C9crByC1Ce7W"
      }
    },
    {
      "cell_type": "code",
      "source": [
        "def preparation(df):\n",
        "\n",
        "  # Selection des variables\n",
        "  features = [\n",
        "    'FLAG_OWN_CAR', 'FLAG_OWN_REALTY', 'NAME_CONTRACT_TYPE', 'EMERGENCYSTATE_MODE',\n",
        "    'CODE_GENDER', 'NAME_TYPE_SUITE', 'NAME_INCOME_TYPE', 'NAME_EDUCATION_TYPE',\n",
        "    'NAME_FAMILY_STATUS', 'NAME_HOUSING_TYPE', 'OCCUPATION_TYPE', 'ORGANIZATION_TYPE',\n",
        "    'FONDKAPREMONT_MODE', 'HOUSETYPE_MODE', 'WALLSMATERIAL_MODE', 'FLAG_MOBIL',\n",
        "    'FLAG_EMP_PHONE', 'FLAG_WORK_PHONE', 'FLAG_CONT_MOBILE', 'FLAG_PHONE',\n",
        "    'FLAG_EMAIL', 'REG_REGION_NOT_LIVE_REGION', 'REG_REGION_NOT_WORK_REGION',\n",
        "    'LIVE_REGION_NOT_WORK_REGION', 'REG_CITY_NOT_LIVE_CITY', 'REG_CITY_NOT_WORK_CITY',\n",
        "    'LIVE_CITY_NOT_WORK_CITY', 'FLAG_DOCUMENT_2', 'FLAG_DOCUMENT_3', 'FLAG_DOCUMENT_4',\n",
        "    'FLAG_DOCUMENT_5', 'FLAG_DOCUMENT_6', 'FLAG_DOCUMENT_7', 'FLAG_DOCUMENT_8',\n",
        "    'FLAG_DOCUMENT_9', 'FLAG_DOCUMENT_10', 'FLAG_DOCUMENT_11', 'FLAG_DOCUMENT_12',\n",
        "    'FLAG_DOCUMENT_13', 'FLAG_DOCUMENT_14', 'FLAG_DOCUMENT_15', 'FLAG_DOCUMENT_16',\n",
        "    'FLAG_DOCUMENT_17', 'FLAG_DOCUMENT_18', 'FLAG_DOCUMENT_19', 'FLAG_DOCUMENT_20',\n",
        "    'FLAG_DOCUMENT_21', 'AMT_CREDIT', 'AMT_ANNUITY', 'AMT_INCOME_TOTAL', 'CNT_CHILDREN',\n",
        "    'OWN_CAR_AGE', 'DAYS_BIRTH', 'DAYS_REGISTRATION', 'DAYS_ID_PUBLISH', 'DAYS_EMPLOYED',\n",
        "    'DAYS_LAST_PHONE_CHANGE', 'DEF_30_CNT_SOCIAL_CIRCLE', 'OBS_60_CNT_SOCIAL_CIRCLE',\n",
        "    'OBS_30_CNT_SOCIAL_CIRCLE', 'AMT_REQ_CREDIT_BUREAU_HOUR', 'AMT_REQ_CREDIT_BUREAU_DAY',\n",
        "    'AMT_REQ_CREDIT_BUREAU_WEEK', 'AMT_REQ_CREDIT_BUREAU_YEAR', 'AMT_REQ_CREDIT_BUREAU_QRT',\n",
        "    'AMT_REQ_CREDIT_BUREAU_MON', 'REGION_POPULATION_RELATIVE', 'EXT_SOURCE_1',\n",
        "    'EXT_SOURCE_2', 'EXT_SOURCE_3', 'APARTMENTS_AVG', 'BASEMENTAREA_AVG',\n",
        "    'YEARS_BEGINEXPLUATATION_AVG', 'YEARS_BUILD_AVG', 'COMMONAREA_AVG', 'ELEVATORS_AVG',\n",
        "    'ENTRANCES_AVG', 'FLOORSMAX_AVG', 'FLOORSMIN_AVG', 'LANDAREA_AVG',\n",
        "    'NONLIVINGAPARTMENTS_AVG', 'NONLIVINGAREA_AVG', 'TOTALAREA_MODE',\n",
        "    'REGION_RATING_CLIENT_W_CITY', 'REGION_RATING_CLIENT', 'HOUR_APPR_PROCESS_START'\n",
        "  ]\n",
        "  missing_columns = [col for col in features if col not in df.columns]\n",
        "  if missing_columns:\n",
        "    raise ValueError(f\"Some columns are missing from the dataframe: {missing_columns}\")\n",
        "  df = df[features].copy()\n",
        "\n",
        "  # Remplacez les valeurs manquantes par une modalité qui existe déjà\n",
        "  df['FONDKAPREMONT_MODE'] = df['FONDKAPREMONT_MODE'].fillna('not specified')\n",
        "  df['CODE_GENDER'] = df['CODE_GENDER'].fillna('XNA')\n",
        "  df['NAME_TYPE_SUITE'] = df['NAME_TYPE_SUITE'].fillna('Unaccompanied')\n",
        "\n",
        "  # Remplissez les valeurs NaN de `OWN_CAR_AGE`\n",
        "  # - Pour les propriétaires de voitures (1) : utiliser la médiane\n",
        "  # - Pour les non-propriétaires de voitures (0) : utilisez 0\n",
        "  # Never recalculate imputation parameters on test set\n",
        "  median_car_age = df[df['FLAG_OWN_CAR'] == 'Y']['OWN_CAR_AGE'].median()\n",
        "  df['OWN_CAR_AGE'] = df.apply(lambda row: median_car_age if row['FLAG_OWN_CAR'] == 'Y' else 0, axis=1)\n",
        "\n",
        "  # Convertir les colonnes contenant les valeurs \"Y\" et \"N\" en 0 et 1 et remplir les valeurs manquantes avec 0\n",
        "  df['FLAG_OWN_CAR'] = df['FLAG_OWN_CAR'].map({'N': 0, 'Y': 1}).fillna(0).astype(int)\n",
        "  df['FLAG_OWN_REALTY'] = df['FLAG_OWN_REALTY'].map({'N': 0, 'Y': 1}).fillna(0).astype(int)\n",
        "  df['EMERGENCYSTATE_MODE'] = df['EMERGENCYSTATE_MODE'].map({'No': 0, 'Yes': 1}).fillna(0).astype(int)\n",
        "\n",
        "  # Correction des valeurs aberrantes dans les jours d'emploi (DAYS_EMPLOYED)\n",
        "  # There are 55374 anomalous days of employment == 365243\n",
        "  # Comme c'est une erreur (et non un outlier), nous allons imputer la médiane (plutot que de clip).\n",
        "  if 'DAYS_EMPLOYED' in df.columns:\n",
        "    # anom = app_train[app_train['DAYS_EMPLOYED'] == 365243]\n",
        "    anom = df[df['DAYS_EMPLOYED'] > 25000]\n",
        "    df['DAYS_EMPLOYED_ANOM'] = (df[\"DAYS_EMPLOYED\"] > 25000).astype(int)  # Binary column (0 or 1)\n",
        "    df.loc[df['DAYS_EMPLOYED'] > 25000, 'DAYS_EMPLOYED'] = np.nan  # Replace anomalies with NaN\n",
        "\n",
        "  # Création de ratios\n",
        "  # Debt to income ratio\n",
        "  df['RATIO_DEBT_INCOME'] = df['AMT_CREDIT'] / df['AMT_INCOME_TOTAL']\n",
        "  # Annuity to income ratio\n",
        "  df['RATIO_ANNUITY_INCOME'] = df['AMT_ANNUITY'] / df['AMT_INCOME_TOTAL']\n",
        "  # Annuity to credit ratio\n",
        "  df['RATIO_ANNUITY_CREDIT'] = df['AMT_ANNUITY'] / df['AMT_CREDIT']\n",
        "  # Days employed to age\n",
        "  df['RATIO_DAYS_EMPLOYED_AGE'] = df['DAYS_EMPLOYED'] / df['DAYS_BIRTH']\n",
        "\n",
        "  # NAME_INCOME_TYPE : Combiner les types de revenus à faible nombre dans la modalité \"Other\".\n",
        "  value_counts = df['NAME_INCOME_TYPE'].value_counts()\n",
        "  low_count_categories = value_counts[value_counts < 100].index\n",
        "  df['NAME_INCOME_TYPE'] = df['NAME_INCOME_TYPE'].replace(low_count_categories, 'Other')\n",
        "\n",
        "  # CNT_CHILDREN : Créer une modalité qui regroupe \"4 enfants et plus\" (4).\n",
        "  df.loc[df['CNT_CHILDREN'] >= 4, 'CNT_CHILDREN'] = 4\n",
        "\n",
        "  # HOUR_APPR_PROCESS_START : Tranches d'heure pour `HOUR_APPR_PROCESS_START`.\n",
        "  if 'HOUR_APPR_PROCESS_START' in df.columns:\n",
        "    df['HOUR_GROUP'] = pd.cut(df['HOUR_APPR_PROCESS_START'], bins=[-1, 5, 11, 17, 23], labels=['Early Morning', 'Morning', 'Afternoon', 'Evening'])\n",
        "    df.drop(columns=['HOUR_APPR_PROCESS_START'], inplace=True)\n",
        "\n",
        "  # Conversion des variables catégorielles au dtype 'category'\n",
        "  for col in df.select_dtypes(include='object').columns:\n",
        "    df[col] = df[col].astype('category')\n",
        "\n",
        "  return df"
      ],
      "metadata": {
        "id": "ICNJS3hQIbZC"
      },
      "execution_count": null,
      "outputs": []
    },
    {
      "cell_type": "code",
      "source": [
        "X_train_prepared = preparation(X_train)\n",
        "X_test_prepared = preparation(X_test)"
      ],
      "metadata": {
        "id": "JBfNAm2eDzjL"
      },
      "execution_count": null,
      "outputs": []
    },
    {
      "cell_type": "code",
      "source": [
        "# Missing values statistics\n",
        "missing_values = missing_values_table(X_train_prepared)\n",
        "missing_values.head(40)"
      ],
      "metadata": {
        "id": "8CBfge-_MhEz"
      },
      "execution_count": null,
      "outputs": []
    },
    {
      "cell_type": "markdown",
      "source": [
        "### Preprocessing : Formatage des données\n",
        "\n",
        "Ce code crée un **pipeline de prétraitement** utilisant `Scikit-learn` pour gérer les données numériques et catégorielles, y compris les valeurs manquantes.\n",
        "\n",
        "1. **Imputation des valeurs manquantes**\n",
        "2. **Encodage des variables catégorielles** en format numérique (encodage one-hot, label encoding).\n",
        "3. **Standardisation des variables numériques**.\n",
        "\n",
        "**Documentation**\n",
        "\n",
        "- https://scikit-learn.org/stable/modules/impute.html\n",
        "- https://datascience.stackexchange.com/questions/9443/when-to-use-one-hot-encoding-vs-labelencoder-vs-dictvectorizor\n",
        "- https://scikit-learn.org/1.5/modules/preprocessing.html"
      ],
      "metadata": {
        "id": "srBDIxqTOTqE"
      }
    },
    {
      "cell_type": "markdown",
      "source": [
        "Chaque type de variable bénéficiera d'un pré-processing particulier.\n",
        "\n",
        "1. 🔴 **Variables catégorielles** : `cat_cols`\n",
        "2. 🟠 **Variables binaires** : `binary_cols`\n",
        "3. 🟡 **Variables quantitatives** : `quantity_cols`\n",
        "4. 🟢 **Variables quantitatives normalisées** : `normalized_cols`\n",
        "5. 🔵 **Variables quantitatives ordinales** :  `rating_cols`\n",
        "\n"
      ],
      "metadata": {
        "id": "vD3iw75ps-Pr"
      }
    },
    {
      "cell_type": "code",
      "source": [
        "# Categorical Columns\n",
        "cat_cols = [\n",
        "  'CODE_GENDER', 'NAME_CONTRACT_TYPE',\n",
        "  'NAME_TYPE_SUITE', 'NAME_INCOME_TYPE',\n",
        "  'NAME_EDUCATION_TYPE', 'NAME_FAMILY_STATUS',\n",
        "  'NAME_HOUSING_TYPE', 'OCCUPATION_TYPE', 'ORGANIZATION_TYPE',\n",
        "  'FONDKAPREMONT_MODE', 'HOUSETYPE_MODE', 'WALLSMATERIAL_MODE',\n",
        "  'HOUR_GROUP'\n",
        "]\n",
        "\n",
        "# Binary Columns\n",
        "binary_cols = [\n",
        "  'FLAG_MOBIL', 'FLAG_EMP_PHONE', 'FLAG_WORK_PHONE',\n",
        "  'FLAG_CONT_MOBILE', 'FLAG_PHONE', 'FLAG_EMAIL',\n",
        "  'REG_REGION_NOT_LIVE_REGION', 'REG_REGION_NOT_WORK_REGION',\n",
        "  'LIVE_REGION_NOT_WORK_REGION', 'REG_CITY_NOT_LIVE_CITY',\n",
        "  'REG_CITY_NOT_WORK_CITY', 'LIVE_CITY_NOT_WORK_CITY',\n",
        "  'FLAG_DOCUMENT_2', 'FLAG_DOCUMENT_3', 'FLAG_DOCUMENT_4',\n",
        "  'FLAG_DOCUMENT_5', 'FLAG_DOCUMENT_6', 'FLAG_DOCUMENT_7',\n",
        "  'FLAG_DOCUMENT_8', 'FLAG_DOCUMENT_9', 'FLAG_DOCUMENT_10',\n",
        "  'FLAG_DOCUMENT_11', 'FLAG_DOCUMENT_12', 'FLAG_DOCUMENT_13',\n",
        "  'FLAG_DOCUMENT_14', 'FLAG_DOCUMENT_15', 'FLAG_DOCUMENT_16',\n",
        "  'FLAG_DOCUMENT_17', 'FLAG_DOCUMENT_18', 'FLAG_DOCUMENT_19',\n",
        "  'FLAG_DOCUMENT_20', 'FLAG_DOCUMENT_21',\n",
        "  'DAYS_EMPLOYED_ANOM',\n",
        "  'FLAG_OWN_CAR', 'FLAG_OWN_REALTY', 'EMERGENCYSTATE_MODE'\n",
        "]\n",
        "\n",
        "# Quantity Columns\n",
        "quantity_cols = [\n",
        "  'AMT_CREDIT', 'AMT_ANNUITY', 'AMT_INCOME_TOTAL', 'CNT_CHILDREN',\n",
        "  'OWN_CAR_AGE', 'DAYS_BIRTH', 'DAYS_REGISTRATION', 'DAYS_ID_PUBLISH',\n",
        "  'DAYS_EMPLOYED', 'DAYS_LAST_PHONE_CHANGE',\n",
        "  'DEF_30_CNT_SOCIAL_CIRCLE', 'OBS_60_CNT_SOCIAL_CIRCLE',\n",
        "  'OBS_30_CNT_SOCIAL_CIRCLE', 'AMT_REQ_CREDIT_BUREAU_HOUR',\n",
        "  'AMT_REQ_CREDIT_BUREAU_DAY', 'AMT_REQ_CREDIT_BUREAU_WEEK',\n",
        "  'AMT_REQ_CREDIT_BUREAU_YEAR', 'AMT_REQ_CREDIT_BUREAU_QRT',\n",
        "  'AMT_REQ_CREDIT_BUREAU_MON',\n",
        "  'RATIO_DEBT_INCOME', 'RATIO_ANNUITY_INCOME', 'RATIO_ANNUITY_CREDIT', 'RATIO_DAYS_EMPLOYED_AGE'\n",
        "]\n",
        "\n",
        "# Normalized Columns\n",
        "normalized_cols = [\n",
        "  'REGION_POPULATION_RELATIVE', 'EXT_SOURCE_1', 'EXT_SOURCE_2',\n",
        "  'EXT_SOURCE_3', 'APARTMENTS_AVG', 'BASEMENTAREA_AVG',\n",
        "  'YEARS_BEGINEXPLUATATION_AVG', 'YEARS_BUILD_AVG', 'COMMONAREA_AVG',\n",
        "  'ELEVATORS_AVG', 'ENTRANCES_AVG', 'FLOORSMAX_AVG', 'FLOORSMIN_AVG',\n",
        "  'LANDAREA_AVG', 'NONLIVINGAPARTMENTS_AVG', 'NONLIVINGAREA_AVG',\n",
        "  'TOTALAREA_MODE'\n",
        "]\n",
        "\n",
        "# Rating Columns\n",
        "rating_cols = [\n",
        "  'REGION_RATING_CLIENT_W_CITY', 'REGION_RATING_CLIENT'\n",
        "]"
      ],
      "metadata": {
        "id": "pOuUC5_IyJ6_"
      },
      "execution_count": null,
      "outputs": []
    },
    {
      "cell_type": "code",
      "source": [
        "# @title\n",
        "def validate_dataframe_columns(df: pd.DataFrame, *column_lists) -> None:\n",
        "  \"\"\"\n",
        "  Vérifiez que le DataFrame contient toutes les colonnes spécifiées et aucune colonne supplémentaire.\n",
        "\n",
        "  Parameters:\n",
        "      df (pd.DataFrame): Le DataFrame à valider.\n",
        "      *column_lists (list of lists): N'importe quel nombre de listes contenant des noms de colonnes.\n",
        "  \"\"\"\n",
        "  # Combine all column lists into a single list\n",
        "  all_columns = [col for column_list in column_lists for col in column_list]\n",
        "\n",
        "  # Rechercher les colonnes manquantes\n",
        "  missing_columns = [col for col in all_columns if col not in df.columns]\n",
        "  if missing_columns:\n",
        "      print(f\"Les colonnes suivantes sont manquantes dans le DataFrame : {missing_columns}\")\n",
        "  else:\n",
        "      print(\"Toutes les colonnes spécifiées sont présentes dans le DataFrame.\")\n",
        "\n",
        "  # Rechercher des colonnes inattendues dans le DataFrame\n",
        "  unexpected_columns = [col for col in df.columns if col not in all_columns]\n",
        "  if unexpected_columns:\n",
        "      print(f\"Les colonnes suivantes sont dans le DataFrame mais pas dans les variables définies : {unexpected_columns}\")\n",
        "  else:\n",
        "      print(\"Toutes les colonnes du DataFrame sont prises en compte dans les variables définies.\")\n",
        "\n",
        "\n",
        "validate_dataframe_columns(\n",
        "  X_train_prepared,\n",
        "  cat_cols,\n",
        "  binary_cols,\n",
        "  quantity_cols,\n",
        "  normalized_cols,\n",
        "  rating_cols\n",
        ")"
      ],
      "metadata": {
        "id": "CQqzZ8Ql8hJt",
        "cellView": "form"
      },
      "execution_count": null,
      "outputs": []
    },
    {
      "cell_type": "code",
      "source": [
        "from sklearn.impute import MissingIndicator\n",
        "from sklearn.preprocessing import OneHotEncoder, StandardScaler, RobustScaler, MinMaxScaler\n",
        "from sklearn.compose import ColumnTransformer\n",
        "from sklearn.pipeline import Pipeline\n",
        "from sklearn.impute import SimpleImputer\n",
        "\n",
        "pp_cat = Pipeline([\n",
        "    ('cat_imp', SimpleImputer(strategy='constant', add_indicator=False, fill_value='missing')),\n",
        "    ('cat_ohe', OneHotEncoder(drop='first', sparse_output=False, handle_unknown='ignore'))\n",
        "])\n",
        "\n",
        "pp_binary = Pipeline([\n",
        "    ('binary_imp', SimpleImputer(strategy='constant', add_indicator=False, fill_value=0))\n",
        "])\n",
        "\n",
        "pp_quantity = Pipeline([\n",
        "    ('quantity_imp', SimpleImputer(strategy='median', add_indicator=False)),\n",
        "    ('quantity_scaler', RobustScaler()) # Traite les outliers\n",
        "])\n",
        "\n",
        "pp_normalized = Pipeline([\n",
        "    ('normalized_imp', SimpleImputer(strategy='median', add_indicator=False))\n",
        "])\n",
        "\n",
        "pp_rating = Pipeline([\n",
        "    ('rating_imp', SimpleImputer(strategy='most_frequent', add_indicator=False)),\n",
        "    ('rating_scaler', MinMaxScaler())\n",
        "])\n",
        "\n",
        "preprocessor = ColumnTransformer([\n",
        "    # ('mi', MissingIndicator(), X_train_prepared.columns),\n",
        "    ('pp_cat', pp_cat, cat_cols),\n",
        "    ('pp_binary', pp_binary, binary_cols),\n",
        "    ('pp_quantity', pp_quantity, quantity_cols),\n",
        "    ('pp_normalized', pp_normalized, normalized_cols),\n",
        "    ('pp_rating', pp_rating, rating_cols)\n",
        "])\n"
      ],
      "metadata": {
        "id": "LyPh1Vw2b94b"
      },
      "execution_count": null,
      "outputs": []
    },
    {
      "cell_type": "code",
      "source": [
        "# Visualisation des données d'entraînement encodées\n",
        "X_train_preprocessed = pd.DataFrame(preprocessor.fit_transform(X_train_prepared))\n",
        "print(X_train_preprocessed.shape)\n",
        "X_train_preprocessed.head(2)"
      ],
      "metadata": {
        "id": "aSZe662q-EVU"
      },
      "execution_count": null,
      "outputs": []
    },
    {
      "cell_type": "code",
      "source": [
        "# Visualisation des données de test encodées\n",
        "X_test_preprocessed = pd.DataFrame(preprocessor.transform(X_test_prepared))\n",
        "print(X_test_preprocessed.shape)\n",
        "X_test_preprocessed.head(2)"
      ],
      "metadata": {
        "id": "6vqgJhRtfFS7"
      },
      "execution_count": null,
      "outputs": []
    },
    {
      "cell_type": "markdown",
      "source": [
        "## Pipeline\n",
        "\n",
        "- Baseline : Regression Logistique\n",
        "- Class imbalance : SMOTE\n",
        "- Prédire une probabilité\n",
        "\n",
        "**Objectif**\n",
        "- Trouver le meilleur modèle\n",
        "- Trouver le meilleur seuil"
      ],
      "metadata": {
        "id": "jcucQlwf1leq"
      }
    },
    {
      "cell_type": "markdown",
      "source": [
        "### Régression logistique\n",
        "\n",
        "**Documentation**\n",
        "\n",
        "- [LogisticRegression — scikit-learn 1.5.2 documentation](https://scikit-learn.org/1.5/modules/generated/sklearn.linear_model.LogisticRegression.html)\n",
        "- https://scikit-learn.org/1.5/modules/linear_model.html#logistic-regression\n",
        "- https://www.kaggle.com/discussions/questions-and-answers/206121\n",
        "- https://www.geeksforgeeks.org/gpu-acceleration-in-scikit-learn/"
      ],
      "metadata": {
        "id": "4ckUO5e2mHld"
      }
    },
    {
      "cell_type": "markdown",
      "source": [
        "#### Gestion des classes déséquilibrées (Class Imbalance)"
      ],
      "metadata": {
        "id": "O08FchvIr2Qk"
      }
    },
    {
      "cell_type": "code",
      "source": [
        "y_train.value_counts()/len(y_train)*100"
      ],
      "metadata": {
        "id": "89EJOSI8po--"
      },
      "execution_count": null,
      "outputs": []
    },
    {
      "cell_type": "code",
      "source": [
        "from imblearn.over_sampling import SMOTE\n",
        "\n",
        "smote = SMOTE(random_state=42)\n",
        "X_train_resampled, y_train_resampled = smote.fit_resample(X_train_preprocessed, y_train)\n",
        "\n",
        "# Now you can use X_train_resampled and y_train_resampled for training your model"
      ],
      "metadata": {
        "id": "ZRuTxojqX_w7"
      },
      "execution_count": null,
      "outputs": []
    },
    {
      "cell_type": "markdown",
      "source": [
        "#### Baseline"
      ],
      "metadata": {
        "id": "7zQkbj8VOv1A"
      }
    },
    {
      "cell_type": "code",
      "source": [
        "%%time\n",
        "\n",
        "from sklearn.linear_model import LogisticRegression\n",
        "from sklearn.model_selection import StratifiedKFold\n",
        "from sklearn.metrics import roc_auc_score\n",
        "\n",
        "# Assuming X_train_preprocessed, y_train, X_test_preprocessed, and y_test are defined\n",
        "\n",
        "# Initialize Logistic Regression\n",
        "lr = LogisticRegression(\n",
        "    penalty='l1',\n",
        "    C=0.1,\n",
        "    solver='saga',\n",
        "    max_iter=2500,\n",
        "    n_jobs=-1,\n",
        "    verbose=1,\n",
        "    random_state=42\n",
        ")\n",
        "\n",
        "# Initialize StratifiedKFold\n",
        "skf = StratifiedKFold(n_splits=5, shuffle=True, random_state=42)\n",
        "\n",
        "# Perform cross-validation\n",
        "roc_auc_scores = []\n",
        "for train_index, val_index in skf.split(X_train_resampled, y_train_resampled):\n",
        "    X_train_fold, X_val_fold = X_train_resampled.iloc[train_index], X_train_resampled.iloc[val_index]\n",
        "    y_train_fold, y_val_fold = y_train_resampled.iloc[train_index], y_train_resampled.iloc[val_index]\n",
        "\n",
        "    lr.fit(X_train_fold, y_train_fold)\n",
        "    y_pred_proba = lr.predict_proba(X_val_fold)[:, 1]\n",
        "    roc_auc = roc_auc_score(y_val_fold, y_pred_proba)\n",
        "    roc_auc_scores.append(roc_auc)\n",
        "\n",
        "# Print average ROC AUC score\n",
        "print(f\"Average ROC AUC score across folds: {np.mean(roc_auc_scores)}\")\n",
        "\n",
        "\n",
        "# Train on the entire training data and predict on test data\n",
        "lr.fit(X_train_resampled, y_train_resampled)\n",
        "y_pred = lr.predict(X_test_preprocessed)\n",
        "y_proba = lr.predict_proba(X_test_preprocessed)[:,1]\n",
        "roc_auc_test = roc_auc_score(y_test, y_proba)\n",
        "print(f\"ROC AUC score on test set: {roc_auc_test}\")\n",
        "\n",
        "# Rapport de prédictions\n",
        "print(classification_report(y_test, y_pred))"
      ],
      "metadata": {
        "id": "hSpFeKc3NlPv"
      },
      "execution_count": null,
      "outputs": []
    },
    {
      "cell_type": "code",
      "source": [
        "from sklearn.metrics import precision_score\n",
        "\n",
        "precision_class_1 = precision_score(y_test, y_pred, pos_label=1)\n",
        "print(f\"Precision for class 1: {precision_class_1}\")"
      ],
      "metadata": {
        "id": "OibjVjK3PbS_"
      },
      "execution_count": null,
      "outputs": []
    },
    {
      "cell_type": "code",
      "source": [
        "from sklearn.metrics import roc_curve, auc\n",
        "\n",
        "fpr_lr, tpr_lr, thresholds_lr = roc_curve(y_test, y_proba)\n",
        "roc_auc_lr = auc(fpr_lr, tpr_lr)\n",
        "\n",
        "plt.figure(figsize=(8, 6))\n",
        "plt.plot(fpr_lr, tpr_lr, color='darkorange', lw=2, label=f'ROC curve (area = {roc_auc_lr:.2f})')\n",
        "plt.plot([0, 1], [0, 1], color='navy', lw=2, linestyle='--')\n",
        "plt.xlim([0.0, 1.0])\n",
        "plt.ylim([0.0, 1.05])\n",
        "plt.xlabel('False Positive Rate')\n",
        "plt.ylabel('True Positive Rate')\n",
        "plt.title('Receiver Operating Characteristic (ROC) Curve')\n",
        "plt.legend(loc=\"lower right\")\n",
        "plt.show()"
      ],
      "metadata": {
        "id": "qbr5ryEVPUsn"
      },
      "execution_count": null,
      "outputs": []
    },
    {
      "cell_type": "code",
      "source": [
        "# prompt: Visualisation de precision recall F1 score sur le meme graphique en fonction du seuil\n",
        "from sklearn.metrics import precision_score\n",
        "from sklearn.metrics import recall_score\n",
        "from sklearn.metrics import f1_score\n",
        "\n",
        "def precision_at_threshold(y_true, y_pred_proba, threshold):\n",
        "    # Convert probabilities to binary predictions based on the threshold\n",
        "    y_pred = (y_pred_proba >= threshold).astype(int)\n",
        "    # Calculate precision\n",
        "    precision = precision_score(y_true, y_pred, pos_label=1)\n",
        "    return precision\n",
        "\n",
        "def recall_at_threshold(y_true, y_pred_proba, threshold):\n",
        "    # Convert probabilities to binary predictions based on the threshold\n",
        "    y_pred = (y_pred_proba >= threshold).astype(int)\n",
        "    # Calculate recall\n",
        "    recall = recall_score(y_true, y_pred, pos_label=1)\n",
        "    return recall\n",
        "\n",
        "def f1_at_threshold(y_true, y_pred_proba, threshold):\n",
        "    # Convert probabilities to binary predictions based on the threshold\n",
        "    y_pred = (y_pred_proba >= threshold).astype(int)\n",
        "    # Calculate f1-score\n",
        "    f1 = f1_score(y_true, y_pred, pos_label=1)\n",
        "    return f1\n",
        "\n",
        "# Calculate precision, recall and f1-score for different thresholds\n",
        "thresholds = [0.1, 0.2, 0.3, 0.4, 0.5, 0.6, 0.7, 0.8, 0.9]\n",
        "precisions = [precision_at_threshold(y_test, y_proba, t) for t in thresholds]\n",
        "recalls = [recall_at_threshold(y_test, y_proba, t) for t in thresholds]\n",
        "f1_scores = [f1_at_threshold(y_test, y_proba, t) for t in thresholds]\n",
        "\n",
        "\n",
        "# Visualize the results\n",
        "plt.figure(figsize=(10, 6))\n",
        "plt.plot(thresholds, precisions, marker='o', label='Precision')\n",
        "plt.plot(thresholds, recalls, marker='o', label='Recall')\n",
        "plt.plot(thresholds, f1_scores, marker='o', label='F1-score')\n",
        "plt.title('Precision, Recall and F1-score vs Threshold')\n",
        "plt.xlabel('Threshold')\n",
        "plt.ylabel('Score')\n",
        "plt.legend()\n",
        "plt.grid(True)\n",
        "plt.show()\n",
        "\n",
        "# Print the results\n",
        "for threshold, precision, recall, f1 in zip(thresholds, precisions, recalls, f1_scores):\n",
        "    print(f\"Threshold {threshold}: Precision = {precision:.4f}, Recall = {recall:.4f}, F1-score = {f1:.4f}\")"
      ],
      "metadata": {
        "id": "LbT9ZS5xQKo4"
      },
      "execution_count": null,
      "outputs": []
    },
    {
      "cell_type": "code",
      "source": [
        "from sklearn.metrics import confusion_matrix\n",
        "\n",
        "# Assuming 'y_test' and 'y_pred' are defined from the previous code\n",
        "cm = confusion_matrix(y_test, y_pred)\n",
        "\n",
        "plt.figure(figsize=(8, 6))\n",
        "sns.heatmap(cm, annot=True, fmt=\"d\", cmap=\"Blues\",\n",
        "            xticklabels=['Predicted 0', 'Predicted 1'],\n",
        "            yticklabels=['Actual 0', 'Actual 1'])\n",
        "plt.title('Confusion Matrix')\n",
        "plt.xlabel('Predicted Label')\n",
        "plt.ylabel('True Label')\n",
        "plt.show()"
      ],
      "metadata": {
        "id": "8Ks78z4ePWuW"
      },
      "execution_count": null,
      "outputs": []
    },
    {
      "cell_type": "markdown",
      "source": [
        "#### RandomizedSearchCV"
      ],
      "metadata": {
        "id": "AtYPBrS_rtXe"
      }
    },
    {
      "cell_type": "code",
      "source": [
        "# train model\n",
        "%%time\n",
        "\n",
        "from sklearn.linear_model import LogisticRegression\n",
        "from sklearn.model_selection import RandomizedSearchCV, StratifiedKFold\n",
        "\n",
        "params = {\n",
        "    'penalty' : ['none', 'l2', 'l1', 'elasticnet'],\n",
        "    'C' : [float(x) for x in np.linspace(start=0, stop=1, num=75)]\n",
        "     }\n",
        "\n",
        "# stratified kfold\n",
        "skf = StratifiedKFold(n_splits=5, shuffle=True, random_state=4)\n",
        "lr = LogisticRegression()\n",
        "\n",
        "# search\n",
        "grid_search = RandomizedSearchCV(\n",
        "  lr,\n",
        "  params,\n",
        "  n_iter=10,\n",
        "  scoring='roc_auc',\n",
        "  cv=skf,\n",
        "  n_jobs=-1,\n",
        "  verbose=3,\n",
        "  refit=True # refits best model to entire dataset\n",
        ")\n",
        "\n",
        "grid_search.fit(X_train_resampled, y_train_resampled)\n",
        "\n",
        "# Best parameters and score\n",
        "print(\"Best Parameters:\", grid_search.best_params_)\n",
        "print(\"Best Cross-Validation Score:\", grid_search.best_score_)\n",
        "print(grid_search.cv_results_)\n",
        "\n",
        "# Accédez au meilleur modèle à partir de la recherche par grille\n",
        "best_model = grid_search.best_estimator_\n",
        "# Predictions\n",
        "y_pred = best_model.predict(X_test_preprocessed)\n",
        "# Prédictions (probabilités)\n",
        "y_proba = best_model.predict_proba(X_test_preprocessed)[:, 1]\n",
        "# Rapport de prédictions\n",
        "print(classification_report(y_test, y_pred))"
      ],
      "metadata": {
        "id": "iYbiQpXkqRPv"
      },
      "execution_count": null,
      "outputs": []
    },
    {
      "cell_type": "code",
      "source": [
        "from sklearn.metrics import roc_auc_score\n",
        "\n",
        "roc_auc_lr = roc_auc_score(y_test, y_proba)\n",
        "print(f\"ROC AUC Score (Logistic Regression): {roc_auc_lr}\")"
      ],
      "metadata": {
        "id": "6_6Gj-4htqbj"
      },
      "execution_count": null,
      "outputs": []
    },
    {
      "cell_type": "markdown",
      "source": [
        "#### GridSearchCV\n",
        "\n",
        "- Paramètres de penalisation (L1, L2)\n",
        "- Forces de régularisation (C) : L'espacement logarithmique garantit que la recherche couvre de manière exhaustive les petites et les grandes valeurs"
      ],
      "metadata": {
        "id": "bhK-xK_WO2NG"
      }
    },
    {
      "cell_type": "code",
      "source": [],
      "metadata": {
        "id": "AGyilRuSrX9J"
      },
      "execution_count": null,
      "outputs": []
    },
    {
      "cell_type": "code",
      "source": [
        "# !pip install scikit-learn-intelex --quiet"
      ],
      "metadata": {
        "id": "0cu76QAm9pVx"
      },
      "execution_count": null,
      "outputs": []
    },
    {
      "cell_type": "code",
      "source": [
        "# from sklearnex import patch_sklearn\n",
        "# patch_sklearn()"
      ],
      "metadata": {
        "id": "jaX_s3hq99xY"
      },
      "execution_count": null,
      "outputs": []
    },
    {
      "cell_type": "code",
      "source": [
        "%%time\n",
        "from sklearn.linear_model import LogisticRegression\n",
        "from sklearn.model_selection import GridSearchCV\n",
        "from sklearn.metrics import classification_report\n",
        "\n",
        "# Classificateur\n",
        "lr = LogisticRegression()\n",
        "\n",
        "# Créer un pipeline avec préprocesseur et classificateur\n",
        "lr_pipeline = Pipeline([\n",
        "    # ('preprocessor', preprocessor),\n",
        "    ('classifier', lr)\n",
        "])\n",
        "\n",
        "# Hyperparameter Tuning with GridSearchCV\n",
        "# Example with Logistic Regression\n",
        "# param_grid = {\n",
        "#   'classifier__penalty': ['l1', 'l2', 'elasticnet', 'none'],\n",
        "#   'classifier__C': np.logspace(-4, 4, 20),\n",
        "#   'classifier__solver': ['lbfgs', 'newton-cg', 'liblinear', 'sag', 'saga'],\n",
        "#   'classifier__max_iter': [100, 1000]\n",
        "# }\n",
        "\n",
        "param_grid = {\n",
        "  'classifier__penalty': ['l1'],\n",
        "  'classifier__C': [0.01, 0.1],\n",
        "  'classifier__solver': ['liblinear'],\n",
        "  'classifier__max_iter': [100]\n",
        "}\n",
        "\n",
        "# Create GridSearchCV with the pipeline\n",
        "grid_search = GridSearchCV(\n",
        "    lr_pipeline,\n",
        "    param_grid,\n",
        "    cv=5, # Define the StratifiedKFold cross-validator\n",
        "    scoring='roc_auc',\n",
        "    n_jobs=-1,\n",
        "    verbose=1\n",
        ")\n",
        "\n",
        "# Fit GridSearchCV\n",
        "grid_search.fit(X_train_resampled, y_train_resampled)\n",
        "\n",
        "# Best parameters and score\n",
        "print(\"\\nBest Parameters:\", grid_search.best_params_)\n",
        "print(\"Best Cross-Validation Score:\", grid_search.best_score_)\n",
        "print(grid_search.cv_results_)"
      ],
      "metadata": {
        "id": "fYEyYo7yh1OJ"
      },
      "execution_count": null,
      "outputs": []
    },
    {
      "cell_type": "code",
      "source": [
        "# Accédez au meilleur modèle à partir de la recherche par grille\n",
        "best_model = grid_search.best_estimator_\n",
        "# Predictions\n",
        "y_pred = best_model.predict(X_test_preprocessed)\n",
        "# Prédictions (probabilités)\n",
        "y_proba = best_model.predict_proba(X_test_preprocessed)[:, 1]\n",
        "# Rapport de prédictions\n",
        "print(classification_report(y_test, y_pred))"
      ],
      "metadata": {
        "id": "vCDf-iNuUJ93"
      },
      "execution_count": null,
      "outputs": []
    },
    {
      "cell_type": "code",
      "source": [
        "from sklearn.metrics import roc_auc_score\n",
        "\n",
        "roc_auc_lr = roc_auc_score(y_test, y_proba)\n",
        "print(f\"ROC AUC Score (Logistic Regression): {roc_auc_lr}\")"
      ],
      "metadata": {
        "colab": {
          "base_uri": "https://localhost:8080/"
        },
        "id": "ddVOxnWpl4-z",
        "outputId": "b569121a-7da3-49ed-bed2-bb84139b3fc7"
      },
      "execution_count": null,
      "outputs": [
        {
          "output_type": "stream",
          "name": "stdout",
          "text": [
            "ROC AUC Score (Logistic Regression): 0.7475202613569324\n"
          ]
        }
      ]
    },
    {
      "cell_type": "code",
      "source": [
        "# prompt: Visualisation de ROC AUC\n",
        "\n",
        "import matplotlib.pyplot as plt\n",
        "from sklearn.metrics import roc_curve, auc\n",
        "\n",
        "# Assuming y_test and y_pred_proba_lr are defined from the previous code\n",
        "\n",
        "fpr_lr, tpr_lr, thresholds_lr = roc_curve(y_test, y_proba)\n",
        "roc_auc_lr = auc(fpr_lr, tpr_lr)\n",
        "\n",
        "plt.figure(figsize=(8, 6))\n",
        "plt.plot(fpr_lr, tpr_lr, color='darkorange', lw=2, label=f'ROC curve (area = {roc_auc_lr:.2f})')\n",
        "plt.plot([0, 1], [0, 1], color='navy', lw=2, linestyle='--')\n",
        "plt.xlim([0.0, 1.0])\n",
        "plt.ylim([0.0, 1.05])\n",
        "plt.xlabel('False Positive Rate')\n",
        "plt.ylabel('True Positive Rate')\n",
        "plt.title('Receiver Operating Characteristic (ROC) Curve')\n",
        "plt.legend(loc=\"lower right\")\n",
        "plt.show()"
      ],
      "metadata": {
        "colab": {
          "base_uri": "https://localhost:8080/",
          "height": 573
        },
        "id": "z_aPlgaw2S9V",
        "outputId": "c0005df9-a44b-496c-af83-c4a017034aed"
      },
      "execution_count": null,
      "outputs": [
        {
          "output_type": "display_data",
          "data": {
            "text/plain": [
              "<Figure size 800x600 with 1 Axes>"
            ],
            "image/png": "[encoded data removed]"
          },
          "metadata": {}
        }
      ]
    },
    {
      "cell_type": "code",
      "source": [
        "from sklearn.metrics import confusion_matrix\n",
        "\n",
        "# Assuming 'y_test' and 'y_pred' are defined from the previous code\n",
        "cm = confusion_matrix(y_test, y_pred)\n",
        "\n",
        "plt.figure(figsize=(8, 6))\n",
        "sns.heatmap(cm, annot=True, fmt=\"d\", cmap=\"Blues\",\n",
        "            xticklabels=['Predicted 0', 'Predicted 1'],\n",
        "            yticklabels=['Actual 0', 'Actual 1'])\n",
        "plt.title('Confusion Matrix')\n",
        "plt.xlabel('Predicted Label')\n",
        "plt.ylabel('True Label')\n",
        "plt.show()"
      ],
      "metadata": {
        "colab": {
          "base_uri": "https://localhost:8080/",
          "height": 573
        },
        "id": "nhCq0SlcYCla",
        "outputId": "80419ab6-7568-497b-ffd0-cf1e9ad71b82"
      },
      "execution_count": null,
      "outputs": [
        {
          "output_type": "display_data",
          "data": {
            "text/plain": [
              "<Figure size 800x600 with 2 Axes>"
            ],
            "image/png": "[encoded data removed]"
          },
          "metadata": {}
        }
      ]
    },
    {
      "cell_type": "code",
      "source": [
        "from sklearn.metrics import precision_score\n",
        "\n",
        "precision_class_1 = precision_score(y_test, y_pred, pos_label=1)\n",
        "print(f\"Precision for class 1: {precision_class_1}\")"
      ],
      "metadata": {
        "colab": {
          "base_uri": "https://localhost:8080/"
        },
        "id": "e28PjoDRelFR",
        "outputId": "309b845a-d29b-4374-b34e-0c7acf05671e"
      },
      "execution_count": null,
      "outputs": [
        {
          "output_type": "stream",
          "name": "stdout",
          "text": [
            "Precision for class 1: 0.4915254237288136\n"
          ]
        }
      ]
    },
    {
      "cell_type": "code",
      "source": [
        "# Function to calculate precision at different thresholds\n",
        "def precision_at_threshold(y_true, y_pred_proba, threshold):\n",
        "    # Convert probabilities to binary predictions based on the threshold\n",
        "    y_pred = (y_pred_proba >= threshold).astype(int)\n",
        "\n",
        "    # Calculate precision\n",
        "    precision = precision_score(y_true, y_pred, pos_label=1)\n",
        "\n",
        "    return precision\n",
        "\n",
        "# Calculate precision for different thresholds\n",
        "thresholds = [0.1, 0.2, 0.3, 0.4, 0.5, 0.6, 0.7, 0.8, 0.9]\n",
        "precisions = [precision_at_threshold(y_test, y_proba, t) for t in thresholds]\n",
        "\n",
        "# Visualize the results\n",
        "import matplotlib.pyplot as plt\n",
        "\n",
        "plt.figure(figsize=(10, 6))\n",
        "plt.plot(thresholds, precisions, marker='o')\n",
        "plt.title('Precision vs Threshold')\n",
        "plt.xlabel('Threshold')\n",
        "plt.ylabel('Precision')\n",
        "plt.grid(True)\n",
        "plt.show()\n",
        "\n",
        "# Print the results\n",
        "for threshold, precision in zip(thresholds, precisions):\n",
        "    print(f\"Threshold {threshold}: Precision = {precision:.4f}\")"
      ],
      "metadata": {
        "colab": {
          "base_uri": "https://localhost:8080/",
          "height": 729
        },
        "id": "FFd3zSlqfGav",
        "outputId": "48143741-1408-4be0-832e-cd445c9ac2c0"
      },
      "execution_count": null,
      "outputs": [
        {
          "output_type": "display_data",
          "data": {
            "text/plain": [
              "<Figure size 1000x600 with 1 Axes>"
            ],
            "image/png": "[encoded data removed]"
          },
          "metadata": {}
        },
        {
          "output_type": "stream",
          "name": "stdout",
          "text": [
            "Threshold 0.1: Precision = 0.1806\n",
            "Threshold 0.2: Precision = 0.2796\n",
            "Threshold 0.3: Precision = 0.3646\n",
            "Threshold 0.4: Precision = 0.4420\n",
            "Threshold 0.5: Precision = 0.4915\n",
            "Threshold 0.6: Precision = 0.6316\n",
            "Threshold 0.7: Precision = 0.5000\n",
            "Threshold 0.8: Precision = 0.5000\n",
            "Threshold 0.9: Precision = 0.5000\n"
          ]
        }
      ]
    },
    {
      "cell_type": "markdown",
      "source": [
        "#### Recall\n",
        "\n",
        "Recall (also known as Sensitivity or True Positive Rate) is a metric that measures the proportion of actual positive cases that were correctly identified.\n",
        "\"Of all the actual positive cases, how many did we correctly identify ?\"\n",
        "\n",
        "\n",
        "A low recall means a high number of false negatives"
      ],
      "metadata": {
        "id": "EjHerO7vjYr8"
      }
    },
    {
      "cell_type": "code",
      "source": [
        "from sklearn.metrics import recall_score\n",
        "\n",
        "recall_lr = recall_score(y_test, y_pred)\n",
        "print(f\"Recall Score (Logistic Regression): {recall_lr}\")"
      ],
      "metadata": {
        "colab": {
          "base_uri": "https://localhost:8080/"
        },
        "id": "EmGzKi2GdjpB",
        "outputId": "5d0fad2b-2aed-4d03-d547-d3b1542778ed"
      },
      "execution_count": null,
      "outputs": [
        {
          "output_type": "stream",
          "name": "stdout",
          "text": [
            "Recall Score (Logistic Regression): 0.011719539300868862\n"
          ]
        }
      ]
    },
    {
      "cell_type": "code",
      "source": [
        "# Function to calculate recall at different thresholds\n",
        "def recall_at_threshold(y_true, y_pred_proba, threshold):\n",
        "    # Convert probabilities to binary predictions based on the threshold\n",
        "    y_pred = (y_pred_proba >= threshold).astype(int)\n",
        "\n",
        "    # Calculate recall\n",
        "    recall = recall_score(y_true, y_pred, pos_label=1)\n",
        "\n",
        "    return recall\n",
        "\n",
        "# Calculate recall for different thresholds\n",
        "thresholds = [0.1, 0.2, 0.3, 0.4, 0.5, 0.6, 0.7, 0.8, 0.9]\n",
        "recalls = [recall_at_threshold(y_test, y_proba, t) for t in thresholds]\n",
        "\n",
        "# Visualize the results\n",
        "plt.figure(figsize=(10, 6))\n",
        "plt.plot(thresholds, recalls, marker='o')\n",
        "plt.title('Recall vs Threshold')\n",
        "plt.xlabel('Threshold')\n",
        "plt.ylabel('Recall')\n",
        "plt.grid(True)\n",
        "plt.show()\n",
        "\n",
        "# Print the results\n",
        "for threshold, recall in zip(thresholds, recalls):\n",
        "    print(f\"Threshold {threshold}: Recall = {recall:.4f}\")"
      ],
      "metadata": {
        "colab": {
          "base_uri": "https://localhost:8080/",
          "height": 729
        },
        "id": "xgT4UAiTif-y",
        "outputId": "23f09f0f-5cee-4eca-fda9-9e3bda663f04"
      },
      "execution_count": null,
      "outputs": [
        {
          "output_type": "display_data",
          "data": {
            "text/plain": [
              "<Figure size 1000x600 with 1 Axes>"
            ],
            "image/png": "[encoded data removed]"
          },
          "metadata": {}
        },
        {
          "output_type": "stream",
          "name": "stdout",
          "text": [
            "Threshold 0.1: Recall = 0.5858\n",
            "Threshold 0.2: Recall = 0.2560\n",
            "Threshold 0.3: Recall = 0.1075\n",
            "Threshold 0.4: Recall = 0.0408\n",
            "Threshold 0.5: Recall = 0.0117\n",
            "Threshold 0.6: Recall = 0.0024\n",
            "Threshold 0.7: Recall = 0.0002\n",
            "Threshold 0.8: Recall = 0.0002\n",
            "Threshold 0.9: Recall = 0.0002\n"
          ]
        }
      ]
    },
    {
      "cell_type": "code",
      "source": [
        "# prompt: Visualisation de precision recall F1 score sur le meme graphique en fonction du seuil\n",
        "from sklearn.metrics import precision_score\n",
        "from sklearn.metrics import recall_score\n",
        "from sklearn.metrics import f1_score\n",
        "import matplotlib.pyplot as plt\n",
        "\n",
        "def precision_at_threshold(y_true, y_pred_proba, threshold):\n",
        "    # Convert probabilities to binary predictions based on the threshold\n",
        "    y_pred = (y_pred_proba >= threshold).astype(int)\n",
        "    # Calculate precision\n",
        "    precision = precision_score(y_true, y_pred, pos_label=1)\n",
        "    return precision\n",
        "\n",
        "def recall_at_threshold(y_true, y_pred_proba, threshold):\n",
        "    # Convert probabilities to binary predictions based on the threshold\n",
        "    y_pred = (y_pred_proba >= threshold).astype(int)\n",
        "    # Calculate recall\n",
        "    recall = recall_score(y_true, y_pred, pos_label=1)\n",
        "    return recall\n",
        "\n",
        "def f1_at_threshold(y_true, y_pred_proba, threshold):\n",
        "    # Convert probabilities to binary predictions based on the threshold\n",
        "    y_pred = (y_pred_proba >= threshold).astype(int)\n",
        "    # Calculate f1-score\n",
        "    f1 = f1_score(y_true, y_pred, pos_label=1)\n",
        "    return f1\n",
        "\n",
        "# Calculate precision, recall and f1-score for different thresholds\n",
        "thresholds = [0.1, 0.2, 0.3, 0.4, 0.5, 0.6, 0.7, 0.8, 0.9]\n",
        "precisions = [precision_at_threshold(y_test, y_proba, t) for t in thresholds]\n",
        "recalls = [recall_at_threshold(y_test, y_proba, t) for t in thresholds]\n",
        "f1_scores = [f1_at_threshold(y_test, y_proba, t) for t in thresholds]\n",
        "\n",
        "\n",
        "# Visualize the results\n",
        "plt.figure(figsize=(10, 6))\n",
        "plt.plot(thresholds, precisions, marker='o', label='Precision')\n",
        "plt.plot(thresholds, recalls, marker='o', label='Recall')\n",
        "plt.plot(thresholds, f1_scores, marker='o', label='F1-score')\n",
        "plt.title('Precision, Recall and F1-score vs Threshold')\n",
        "plt.xlabel('Threshold')\n",
        "plt.ylabel('Score')\n",
        "plt.legend()\n",
        "plt.grid(True)\n",
        "plt.show()\n",
        "\n",
        "# Print the results\n",
        "for threshold, precision, recall, f1 in zip(thresholds, precisions, recalls, f1_scores):\n",
        "    print(f\"Threshold {threshold}: Precision = {precision:.4f}, Recall = {recall:.4f}, F1-score = {f1:.4f}\")"
      ],
      "metadata": {
        "colab": {
          "base_uri": "https://localhost:8080/",
          "height": 729
        },
        "id": "mQ7X8lCECBao",
        "outputId": "9b33d40d-0fd3-4bb5-d81c-7d0313f19b8a"
      },
      "execution_count": null,
      "outputs": [
        {
          "output_type": "display_data",
          "data": {
            "text/plain": [
              "<Figure size 1000x600 with 1 Axes>"
            ],
            "image/png": "[encoded data removed]"
          },
          "metadata": {}
        },
        {
          "output_type": "stream",
          "name": "stdout",
          "text": [
            "Threshold 0.1: Precision = 0.1806, Recall = 0.5858, F1-score = 0.2761\n",
            "Threshold 0.2: Precision = 0.2796, Recall = 0.2560, F1-score = 0.2673\n",
            "Threshold 0.3: Precision = 0.3646, Recall = 0.1075, F1-score = 0.1660\n",
            "Threshold 0.4: Precision = 0.4420, Recall = 0.0408, F1-score = 0.0747\n",
            "Threshold 0.5: Precision = 0.4915, Recall = 0.0117, F1-score = 0.0229\n",
            "Threshold 0.6: Precision = 0.6316, Recall = 0.0024, F1-score = 0.0048\n",
            "Threshold 0.7: Precision = 0.5000, Recall = 0.0002, F1-score = 0.0004\n",
            "Threshold 0.8: Precision = 0.5000, Recall = 0.0002, F1-score = 0.0004\n",
            "Threshold 0.9: Precision = 0.5000, Recall = 0.0002, F1-score = 0.0004\n"
          ]
        }
      ]
    },
    {
      "cell_type": "markdown",
      "source": [
        "### LightGBM\n",
        "\n",
        "- https://stackoverflow.com/questions/49606886/installing-gpu-support-for-lightgbm-on-google-colab/77078844#77078844"
      ],
      "metadata": {
        "id": "_0xi8Pv54nLS"
      }
    },
    {
      "cell_type": "code",
      "source": [
        "!pip install dask[dataframe] --quiet\n",
        "!pip uninstall lightgbm -y --quiet\n",
        "!pip install lightgbm --config-settings=cmake.define.USE_CUDA=ON --quiet"
      ],
      "metadata": {
        "id": "kuUqoM1WKoH_",
        "colab": {
          "base_uri": "https://localhost:8080/"
        },
        "outputId": "5c6c39ce-f22c-47eb-b1c5-10647c2aa82d"
      },
      "execution_count": null,
      "outputs": [
        {
          "output_type": "stream",
          "name": "stdout",
          "text": [
            "\u001b[2K   \u001b[90m━━━━━━━━━━━━━━━━━━━━━━━━━━━━━━━━━━━━━━━━\u001b[0m \u001b[32m243.2/243.2 kB\u001b[0m \u001b[31m3.9 MB/s\u001b[0m eta \u001b[36m0:00:00\u001b[0m\n",
            "\u001b[2K   \u001b[90m━━━━━━━━━━━━━━━━━━━━━━━━━━━━━━━━━━━━━━━━\u001b[0m \u001b[32m3.6/3.6 MB\u001b[0m \u001b[31m24.1 MB/s\u001b[0m eta \u001b[36m0:00:00\u001b[0m\n",
            "\u001b[?25h"
          ]
        }
      ]
    },
    {
      "cell_type": "code",
      "source": [
        "import lightgbm as lgb\n",
        "print(\"LightGBM version:\", lgb.__version__)"
      ],
      "metadata": {
        "colab": {
          "base_uri": "https://localhost:8080/"
        },
        "id": "cNaTWr_5Exll",
        "outputId": "f3342fc7-83dd-4c0e-c950-ad5a4abd37b1"
      },
      "execution_count": null,
      "outputs": [
        {
          "output_type": "stream",
          "name": "stdout",
          "text": [
            "LightGBM version: 4.5.0\n"
          ]
        }
      ]
    },
    {
      "cell_type": "code",
      "source": [
        "list(range(len(cat_cols)))"
      ],
      "metadata": {
        "colab": {
          "base_uri": "https://localhost:8080/"
        },
        "id": "7OXtXt5mCxPY",
        "outputId": "1182c3a6-cb5a-42b3-d5df-b615de3a2867"
      },
      "execution_count": null,
      "outputs": [
        {
          "output_type": "execute_result",
          "data": {
            "text/plain": [
              "[0, 1, 2, 3, 4, 5, 6, 7, 8, 9, 10, 11, 12]"
            ]
          },
          "metadata": {},
          "execution_count": 122
        }
      ]
    },
    {
      "cell_type": "markdown",
      "source": [
        "#### Test\n",
        "\n",
        "- No preprocessing"
      ],
      "metadata": {
        "id": "sABHkf20ZTCm"
      }
    },
    {
      "cell_type": "code",
      "source": [
        "from lightgbm import LGBMClassifier\n",
        "\n",
        "# Create a LightGBM classifier\n",
        "model = LGBMClassifier(\n",
        "    num_leaves=31,\n",
        "    learning_rate=0.1,\n",
        "    n_estimators=100,\n",
        "    objective='binary',\n",
        "    is_unbalance=True,\n",
        "    metric='auc',\n",
        "    random_state=42,\n",
        "    # categorical_feature=cat_cols,\n",
        "    verbose=1\n",
        ")\n",
        "\n",
        "# Fit the model\n",
        "model.fit(X_train_prepared, y_train)\n",
        "\n",
        "# Predict\n",
        "predictions = model.predict(X_test_prepared)\n",
        "\n",
        "# Feature importance\n",
        "print(model.feature_importances_)"
      ],
      "metadata": {
        "colab": {
          "base_uri": "https://localhost:8080/"
        },
        "id": "Q5SOktOUS7qu",
        "outputId": "93aec0a0-23d5-4914-c220-2d0a3218c1b0"
      },
      "execution_count": null,
      "outputs": [
        {
          "output_type": "stream",
          "name": "stdout",
          "text": [
            "[LightGBM] [Info] Number of positive: 19876, number of negative: 226132\n",
            "[LightGBM] [Info] Auto-choosing row-wise multi-threading, the overhead of testing was 0.240797 seconds.\n",
            "You can set `force_row_wise=true` to remove the overhead.\n",
            "And if memory is not enough, you can set `force_col_wise=true`.\n",
            "[LightGBM] [Info] Total Bins 6828\n",
            "[LightGBM] [Info] Number of data points in the train set: 246008, number of used features: 86\n",
            "[LightGBM] [Info] [binary:BoostFromScore]: pavg=0.080794 -> initscore=-2.431606\n",
            "[LightGBM] [Info] Start training from score -2.431606\n",
            "[ 31   1  36   0  36   9   5  24  28  12 101 643   0   0  10   0   0  13\n",
            "   0   4   0   0   2   0  11   0   0   0  15   0   0   1   0   1   0   0\n",
            "   1   0   6   2   1   8   0   4   0   0   0  69  77  33   1   0 106  42\n",
            "  78  56  57  24  12   3   1   2   6  30  25   9  28 185 145 175  32  32\n",
            "  27  18  29   7  24  24  16  30  18  21  31  22   2   0  48  51 348  46\n",
            "   5]\n"
          ]
        }
      ]
    },
    {
      "cell_type": "code",
      "source": [
        "X_train_prepared.shape"
      ],
      "metadata": {
        "colab": {
          "base_uri": "https://localhost:8080/"
        },
        "id": "aUzkFfqNjr8J",
        "outputId": "277c0d5d-0ad2-4315-88ed-50fd32a68a6c"
      },
      "execution_count": null,
      "outputs": [
        {
          "output_type": "execute_result",
          "data": {
            "text/plain": [
              "(246008, 91)"
            ]
          },
          "metadata": {},
          "execution_count": 236
        }
      ]
    },
    {
      "cell_type": "code",
      "source": [
        "len(model.feature_importances_)"
      ],
      "metadata": {
        "colab": {
          "base_uri": "https://localhost:8080/"
        },
        "id": "QfVPypTUjqm_",
        "outputId": "bf5ee8b5-51f8-48a5-a2a5-059f1cdf4fcc"
      },
      "execution_count": null,
      "outputs": [
        {
          "output_type": "execute_result",
          "data": {
            "text/plain": [
              "91"
            ]
          },
          "metadata": {},
          "execution_count": 237
        }
      ]
    },
    {
      "cell_type": "code",
      "source": [
        "# Get feature importances\n",
        "feature_importances = model.feature_importances_\n",
        "\n",
        "# Create a DataFrame with feature names and their importances\n",
        "feature_importance_df = pd.DataFrame({\n",
        "    'Feature': X_train_prepared.columns,\n",
        "    'Importance': feature_importances\n",
        "})\n",
        "\n",
        "# Sort by importance in descending order\n",
        "feature_importance_df = feature_importance_df.sort_values(by='Importance', ascending=False)[:30]\n",
        "\n",
        "# Display the DataFrame\n",
        "feature_importance_df"
      ],
      "metadata": {
        "colab": {
          "base_uri": "https://localhost:8080/"
        },
        "id": "J7A_D76mjwlq",
        "outputId": "022df82e-2ca4-4961-ec15-8299f4d7fe54"
      },
      "execution_count": null,
      "outputs": [
        {
          "output_type": "execute_result",
          "data": {
            "text/plain": [
              "                        Feature  Importance\n",
              "11            ORGANIZATION_TYPE         643\n",
              "88         RATIO_ANNUITY_CREDIT         348\n",
              "67                 EXT_SOURCE_1         185\n",
              "69                 EXT_SOURCE_3         175\n",
              "68                 EXT_SOURCE_2         145\n",
              "52                   DAYS_BIRTH         106\n",
              "10              OCCUPATION_TYPE         101\n",
              "54              DAYS_ID_PUBLISH          78\n",
              "48                  AMT_ANNUITY          77\n",
              "47                   AMT_CREDIT          69\n",
              "56       DAYS_LAST_PHONE_CHANGE          57\n",
              "55                DAYS_EMPLOYED          56\n",
              "87         RATIO_ANNUITY_INCOME          51\n",
              "86            RATIO_DEBT_INCOME          48\n",
              "89      RATIO_DAYS_EMPLOYED_AGE          46\n",
              "53            DAYS_REGISTRATION          42\n",
              "4                   CODE_GENDER          36\n",
              "2            NAME_CONTRACT_TYPE          36\n",
              "49             AMT_INCOME_TOTAL          33\n",
              "71             BASEMENTAREA_AVG          32\n",
              "70               APARTMENTS_AVG          32\n",
              "0                  FLAG_OWN_CAR          31\n",
              "82               TOTALAREA_MODE          31\n",
              "79                 LANDAREA_AVG          30\n",
              "63   AMT_REQ_CREDIT_BUREAU_YEAR          30\n",
              "74               COMMONAREA_AVG          29\n",
              "66   REGION_POPULATION_RELATIVE          28\n",
              "8            NAME_FAMILY_STATUS          28\n",
              "72  YEARS_BEGINEXPLUATATION_AVG          27\n",
              "64    AMT_REQ_CREDIT_BUREAU_QRT          25\n",
              "77                FLOORSMAX_AVG          24\n",
              "76                ENTRANCES_AVG          24\n",
              "57     DEF_30_CNT_SOCIAL_CIRCLE          24\n",
              "7           NAME_EDUCATION_TYPE          24\n",
              "83  REGION_RATING_CLIENT_W_CITY          22\n",
              "81            NONLIVINGAREA_AVG          21\n",
              "73              YEARS_BUILD_AVG          18\n",
              "80      NONLIVINGAPARTMENTS_AVG          18\n",
              "78                FLOORSMIN_AVG          16\n",
              "28              FLAG_DOCUMENT_3          15\n",
              "17              FLAG_WORK_PHONE          13\n",
              "58     OBS_60_CNT_SOCIAL_CIRCLE          12\n",
              "9             NAME_HOUSING_TYPE          12\n",
              "24       REG_CITY_NOT_LIVE_CITY          11\n",
              "14           WALLSMATERIAL_MODE          10\n",
              "5               NAME_TYPE_SUITE           9\n",
              "65    AMT_REQ_CREDIT_BUREAU_MON           9\n",
              "41             FLAG_DOCUMENT_16           8\n",
              "75                ELEVATORS_AVG           7\n",
              "38             FLAG_DOCUMENT_13           6\n",
              "62   AMT_REQ_CREDIT_BUREAU_WEEK           6\n",
              "90                   HOUR_GROUP           5\n",
              "6              NAME_INCOME_TYPE           5\n",
              "43             FLAG_DOCUMENT_18           4\n",
              "19                   FLAG_PHONE           4\n",
              "59     OBS_30_CNT_SOCIAL_CIRCLE           3\n",
              "22   REG_REGION_NOT_WORK_REGION           2\n",
              "39             FLAG_DOCUMENT_14           2\n",
              "84         REGION_RATING_CLIENT           2\n",
              "61    AMT_REQ_CREDIT_BUREAU_DAY           2\n",
              "33              FLAG_DOCUMENT_8           1\n",
              "50                 CNT_CHILDREN           1\n",
              "31              FLAG_DOCUMENT_6           1\n",
              "1               FLAG_OWN_REALTY           1\n",
              "40             FLAG_DOCUMENT_15           1\n",
              "36             FLAG_DOCUMENT_11           1\n",
              "60   AMT_REQ_CREDIT_BUREAU_HOUR           1\n",
              "35             FLAG_DOCUMENT_10           0\n",
              "3           EMERGENCYSTATE_MODE           0\n",
              "85           DAYS_EMPLOYED_ANOM           0\n",
              "34              FLAG_DOCUMENT_9           0\n",
              "44             FLAG_DOCUMENT_19           0\n",
              "45             FLAG_DOCUMENT_20           0\n",
              "37             FLAG_DOCUMENT_12           0\n",
              "42             FLAG_DOCUMENT_17           0\n",
              "29              FLAG_DOCUMENT_4           0\n",
              "27              FLAG_DOCUMENT_2           0\n",
              "26      LIVE_CITY_NOT_WORK_CITY           0\n",
              "46             FLAG_DOCUMENT_21           0\n",
              "32              FLAG_DOCUMENT_7           0\n",
              "30              FLAG_DOCUMENT_5           0\n",
              "18             FLAG_CONT_MOBILE           0\n",
              "51                  OWN_CAR_AGE           0\n",
              "21   REG_REGION_NOT_LIVE_REGION           0\n",
              "20                   FLAG_EMAIL           0\n",
              "23  LIVE_REGION_NOT_WORK_REGION           0\n",
              "25       REG_CITY_NOT_WORK_CITY           0\n",
              "13               HOUSETYPE_MODE           0\n",
              "12           FONDKAPREMONT_MODE           0\n",
              "15                   FLAG_MOBIL           0\n",
              "16               FLAG_EMP_PHONE           0"
            ],
            "text/html": [
              "\n",
              "  <div id=\"df-57f810bb-7c64-45d8-a78d-780e26e69fdf\" class=\"colab-df-container\">\n",
              "    <div>\n",
              "<style scoped>\n",
              "    .dataframe tbody tr th:only-of-type {\n",
              "        vertical-align: middle;\n",
              "    }\n",
              "\n",
              "    .dataframe tbody tr th {\n",
              "        vertical-align: top;\n",
              "    }\n",
              "\n",
              "    .dataframe thead th {\n",
              "        text-align: right;\n",
              "    }\n",
              "</style>\n",
              "<table border=\"1\" class=\"dataframe\">\n",
              "  <thead>\n",
              "    <tr style=\"text-align: right;\">\n",
              "      <th></th>\n",
              "      <th>Feature</th>\n",
              "      <th>Importance</th>\n",
              "    </tr>\n",
              "  </thead>\n",
              "  <tbody>\n",
              "    <tr>\n",
              "      <th>11</th>\n",
              "      <td>ORGANIZATION_TYPE</td>\n",
              "      <td>643</td>\n",
              "    </tr>\n",
              "    <tr>\n",
              "      <th>88</th>\n",
              "      <td>RATIO_ANNUITY_CREDIT</td>\n",
              "      <td>348</td>\n",
              "    </tr>\n",
              "    <tr>\n",
              "      <th>67</th>\n",
              "      <td>EXT_SOURCE_1</td>\n",
              "      <td>185</td>\n",
              "    </tr>\n",
              "    <tr>\n",
              "      <th>69</th>\n",
              "      <td>EXT_SOURCE_3</td>\n",
              "      <td>175</td>\n",
              "    </tr>\n",
              "    <tr>\n",
              "      <th>68</th>\n",
              "      <td>EXT_SOURCE_2</td>\n",
              "      <td>145</td>\n",
              "    </tr>\n",
              "    <tr>\n",
              "      <th>52</th>\n",
              "      <td>DAYS_BIRTH</td>\n",
              "      <td>106</td>\n",
              "    </tr>\n",
              "    <tr>\n",
              "      <th>10</th>\n",
              "      <td>OCCUPATION_TYPE</td>\n",
              "      <td>101</td>\n",
              "    </tr>\n",
              "    <tr>\n",
              "      <th>54</th>\n",
              "      <td>DAYS_ID_PUBLISH</td>\n",
              "      <td>78</td>\n",
              "    </tr>\n",
              "    <tr>\n",
              "      <th>48</th>\n",
              "      <td>AMT_ANNUITY</td>\n",
              "      <td>77</td>\n",
              "    </tr>\n",
              "    <tr>\n",
              "      <th>47</th>\n",
              "      <td>AMT_CREDIT</td>\n",
              "      <td>69</td>\n",
              "    </tr>\n",
              "    <tr>\n",
              "      <th>56</th>\n",
              "      <td>DAYS_LAST_PHONE_CHANGE</td>\n",
              "      <td>57</td>\n",
              "    </tr>\n",
              "    <tr>\n",
              "      <th>55</th>\n",
              "      <td>DAYS_EMPLOYED</td>\n",
              "      <td>56</td>\n",
              "    </tr>\n",
              "    <tr>\n",
              "      <th>87</th>\n",
              "      <td>RATIO_ANNUITY_INCOME</td>\n",
              "      <td>51</td>\n",
              "    </tr>\n",
              "    <tr>\n",
              "      <th>86</th>\n",
              "      <td>RATIO_DEBT_INCOME</td>\n",
              "      <td>48</td>\n",
              "    </tr>\n",
              "    <tr>\n",
              "      <th>89</th>\n",
              "      <td>RATIO_DAYS_EMPLOYED_AGE</td>\n",
              "      <td>46</td>\n",
              "    </tr>\n",
              "    <tr>\n",
              "      <th>53</th>\n",
              "      <td>DAYS_REGISTRATION</td>\n",
              "      <td>42</td>\n",
              "    </tr>\n",
              "    <tr>\n",
              "      <th>4</th>\n",
              "      <td>CODE_GENDER</td>\n",
              "      <td>36</td>\n",
              "    </tr>\n",
              "    <tr>\n",
              "      <th>2</th>\n",
              "      <td>NAME_CONTRACT_TYPE</td>\n",
              "      <td>36</td>\n",
              "    </tr>\n",
              "    <tr>\n",
              "      <th>49</th>\n",
              "      <td>AMT_INCOME_TOTAL</td>\n",
              "      <td>33</td>\n",
              "    </tr>\n",
              "    <tr>\n",
              "      <th>71</th>\n",
              "      <td>BASEMENTAREA_AVG</td>\n",
              "      <td>32</td>\n",
              "    </tr>\n",
              "    <tr>\n",
              "      <th>70</th>\n",
              "      <td>APARTMENTS_AVG</td>\n",
              "      <td>32</td>\n",
              "    </tr>\n",
              "    <tr>\n",
              "      <th>0</th>\n",
              "      <td>FLAG_OWN_CAR</td>\n",
              "      <td>31</td>\n",
              "    </tr>\n",
              "    <tr>\n",
              "      <th>82</th>\n",
              "      <td>TOTALAREA_MODE</td>\n",
              "      <td>31</td>\n",
              "    </tr>\n",
              "    <tr>\n",
              "      <th>79</th>\n",
              "      <td>LANDAREA_AVG</td>\n",
              "      <td>30</td>\n",
              "    </tr>\n",
              "    <tr>\n",
              "      <th>63</th>\n",
              "      <td>AMT_REQ_CREDIT_BUREAU_YEAR</td>\n",
              "      <td>30</td>\n",
              "    </tr>\n",
              "    <tr>\n",
              "      <th>74</th>\n",
              "      <td>COMMONAREA_AVG</td>\n",
              "      <td>29</td>\n",
              "    </tr>\n",
              "    <tr>\n",
              "      <th>66</th>\n",
              "      <td>REGION_POPULATION_RELATIVE</td>\n",
              "      <td>28</td>\n",
              "    </tr>\n",
              "    <tr>\n",
              "      <th>8</th>\n",
              "      <td>NAME_FAMILY_STATUS</td>\n",
              "      <td>28</td>\n",
              "    </tr>\n",
              "    <tr>\n",
              "      <th>72</th>\n",
              "      <td>YEARS_BEGINEXPLUATATION_AVG</td>\n",
              "      <td>27</td>\n",
              "    </tr>\n",
              "    <tr>\n",
              "      <th>64</th>\n",
              "      <td>AMT_REQ_CREDIT_BUREAU_QRT</td>\n",
              "      <td>25</td>\n",
              "    </tr>\n",
              "    <tr>\n",
              "      <th>77</th>\n",
              "      <td>FLOORSMAX_AVG</td>\n",
              "      <td>24</td>\n",
              "    </tr>\n",
              "    <tr>\n",
              "      <th>76</th>\n",
              "      <td>ENTRANCES_AVG</td>\n",
              "      <td>24</td>\n",
              "    </tr>\n",
              "    <tr>\n",
              "      <th>57</th>\n",
              "      <td>DEF_30_CNT_SOCIAL_CIRCLE</td>\n",
              "      <td>24</td>\n",
              "    </tr>\n",
              "    <tr>\n",
              "      <th>7</th>\n",
              "      <td>NAME_EDUCATION_TYPE</td>\n",
              "      <td>24</td>\n",
              "    </tr>\n",
              "    <tr>\n",
              "      <th>83</th>\n",
              "      <td>REGION_RATING_CLIENT_W_CITY</td>\n",
              "      <td>22</td>\n",
              "    </tr>\n",
              "    <tr>\n",
              "      <th>81</th>\n",
              "      <td>NONLIVINGAREA_AVG</td>\n",
              "      <td>21</td>\n",
              "    </tr>\n",
              "    <tr>\n",
              "      <th>73</th>\n",
              "      <td>YEARS_BUILD_AVG</td>\n",
              "      <td>18</td>\n",
              "    </tr>\n",
              "    <tr>\n",
              "      <th>80</th>\n",
              "      <td>NONLIVINGAPARTMENTS_AVG</td>\n",
              "      <td>18</td>\n",
              "    </tr>\n",
              "    <tr>\n",
              "      <th>78</th>\n",
              "      <td>FLOORSMIN_AVG</td>\n",
              "      <td>16</td>\n",
              "    </tr>\n",
              "    <tr>\n",
              "      <th>28</th>\n",
              "      <td>FLAG_DOCUMENT_3</td>\n",
              "      <td>15</td>\n",
              "    </tr>\n",
              "    <tr>\n",
              "      <th>17</th>\n",
              "      <td>FLAG_WORK_PHONE</td>\n",
              "      <td>13</td>\n",
              "    </tr>\n",
              "    <tr>\n",
              "      <th>58</th>\n",
              "      <td>OBS_60_CNT_SOCIAL_CIRCLE</td>\n",
              "      <td>12</td>\n",
              "    </tr>\n",
              "    <tr>\n",
              "      <th>9</th>\n",
              "      <td>NAME_HOUSING_TYPE</td>\n",
              "      <td>12</td>\n",
              "    </tr>\n",
              "    <tr>\n",
              "      <th>24</th>\n",
              "      <td>REG_CITY_NOT_LIVE_CITY</td>\n",
              "      <td>11</td>\n",
              "    </tr>\n",
              "    <tr>\n",
              "      <th>14</th>\n",
              "      <td>WALLSMATERIAL_MODE</td>\n",
              "      <td>10</td>\n",
              "    </tr>\n",
              "    <tr>\n",
              "      <th>5</th>\n",
              "      <td>NAME_TYPE_SUITE</td>\n",
              "      <td>9</td>\n",
              "    </tr>\n",
              "    <tr>\n",
              "      <th>65</th>\n",
              "      <td>AMT_REQ_CREDIT_BUREAU_MON</td>\n",
              "      <td>9</td>\n",
              "    </tr>\n",
              "    <tr>\n",
              "      <th>41</th>\n",
              "      <td>FLAG_DOCUMENT_16</td>\n",
              "      <td>8</td>\n",
              "    </tr>\n",
              "    <tr>\n",
              "      <th>75</th>\n",
              "      <td>ELEVATORS_AVG</td>\n",
              "      <td>7</td>\n",
              "    </tr>\n",
              "    <tr>\n",
              "      <th>38</th>\n",
              "      <td>FLAG_DOCUMENT_13</td>\n",
              "      <td>6</td>\n",
              "    </tr>\n",
              "    <tr>\n",
              "      <th>62</th>\n",
              "      <td>AMT_REQ_CREDIT_BUREAU_WEEK</td>\n",
              "      <td>6</td>\n",
              "    </tr>\n",
              "    <tr>\n",
              "      <th>90</th>\n",
              "      <td>HOUR_GROUP</td>\n",
              "      <td>5</td>\n",
              "    </tr>\n",
              "    <tr>\n",
              "      <th>6</th>\n",
              "      <td>NAME_INCOME_TYPE</td>\n",
              "      <td>5</td>\n",
              "    </tr>\n",
              "    <tr>\n",
              "      <th>43</th>\n",
              "      <td>FLAG_DOCUMENT_18</td>\n",
              "      <td>4</td>\n",
              "    </tr>\n",
              "    <tr>\n",
              "      <th>19</th>\n",
              "      <td>FLAG_PHONE</td>\n",
              "      <td>4</td>\n",
              "    </tr>\n",
              "    <tr>\n",
              "      <th>59</th>\n",
              "      <td>OBS_30_CNT_SOCIAL_CIRCLE</td>\n",
              "      <td>3</td>\n",
              "    </tr>\n",
              "    <tr>\n",
              "      <th>22</th>\n",
              "      <td>REG_REGION_NOT_WORK_REGION</td>\n",
              "      <td>2</td>\n",
              "    </tr>\n",
              "    <tr>\n",
              "      <th>39</th>\n",
              "      <td>FLAG_DOCUMENT_14</td>\n",
              "      <td>2</td>\n",
              "    </tr>\n",
              "    <tr>\n",
              "      <th>84</th>\n",
              "      <td>REGION_RATING_CLIENT</td>\n",
              "      <td>2</td>\n",
              "    </tr>\n",
              "    <tr>\n",
              "      <th>61</th>\n",
              "      <td>AMT_REQ_CREDIT_BUREAU_DAY</td>\n",
              "      <td>2</td>\n",
              "    </tr>\n",
              "    <tr>\n",
              "      <th>33</th>\n",
              "      <td>FLAG_DOCUMENT_8</td>\n",
              "      <td>1</td>\n",
              "    </tr>\n",
              "    <tr>\n",
              "      <th>50</th>\n",
              "      <td>CNT_CHILDREN</td>\n",
              "      <td>1</td>\n",
              "    </tr>\n",
              "    <tr>\n",
              "      <th>31</th>\n",
              "      <td>FLAG_DOCUMENT_6</td>\n",
              "      <td>1</td>\n",
              "    </tr>\n",
              "    <tr>\n",
              "      <th>1</th>\n",
              "      <td>FLAG_OWN_REALTY</td>\n",
              "      <td>1</td>\n",
              "    </tr>\n",
              "    <tr>\n",
              "      <th>40</th>\n",
              "      <td>FLAG_DOCUMENT_15</td>\n",
              "      <td>1</td>\n",
              "    </tr>\n",
              "    <tr>\n",
              "      <th>36</th>\n",
              "      <td>FLAG_DOCUMENT_11</td>\n",
              "      <td>1</td>\n",
              "    </tr>\n",
              "    <tr>\n",
              "      <th>60</th>\n",
              "      <td>AMT_REQ_CREDIT_BUREAU_HOUR</td>\n",
              "      <td>1</td>\n",
              "    </tr>\n",
              "    <tr>\n",
              "      <th>35</th>\n",
              "      <td>FLAG_DOCUMENT_10</td>\n",
              "      <td>0</td>\n",
              "    </tr>\n",
              "    <tr>\n",
              "      <th>3</th>\n",
              "      <td>EMERGENCYSTATE_MODE</td>\n",
              "      <td>0</td>\n",
              "    </tr>\n",
              "    <tr>\n",
              "      <th>85</th>\n",
              "      <td>DAYS_EMPLOYED_ANOM</td>\n",
              "      <td>0</td>\n",
              "    </tr>\n",
              "    <tr>\n",
              "      <th>34</th>\n",
              "      <td>FLAG_DOCUMENT_9</td>\n",
              "      <td>0</td>\n",
              "    </tr>\n",
              "    <tr>\n",
              "      <th>44</th>\n",
              "      <td>FLAG_DOCUMENT_19</td>\n",
              "      <td>0</td>\n",
              "    </tr>\n",
              "    <tr>\n",
              "      <th>45</th>\n",
              "      <td>FLAG_DOCUMENT_20</td>\n",
              "      <td>0</td>\n",
              "    </tr>\n",
              "    <tr>\n",
              "      <th>37</th>\n",
              "      <td>FLAG_DOCUMENT_12</td>\n",
              "      <td>0</td>\n",
              "    </tr>\n",
              "    <tr>\n",
              "      <th>42</th>\n",
              "      <td>FLAG_DOCUMENT_17</td>\n",
              "      <td>0</td>\n",
              "    </tr>\n",
              "    <tr>\n",
              "      <th>29</th>\n",
              "      <td>FLAG_DOCUMENT_4</td>\n",
              "      <td>0</td>\n",
              "    </tr>\n",
              "    <tr>\n",
              "      <th>27</th>\n",
              "      <td>FLAG_DOCUMENT_2</td>\n",
              "      <td>0</td>\n",
              "    </tr>\n",
              "    <tr>\n",
              "      <th>26</th>\n",
              "      <td>LIVE_CITY_NOT_WORK_CITY</td>\n",
              "      <td>0</td>\n",
              "    </tr>\n",
              "    <tr>\n",
              "      <th>46</th>\n",
              "      <td>FLAG_DOCUMENT_21</td>\n",
              "      <td>0</td>\n",
              "    </tr>\n",
              "    <tr>\n",
              "      <th>32</th>\n",
              "      <td>FLAG_DOCUMENT_7</td>\n",
              "      <td>0</td>\n",
              "    </tr>\n",
              "    <tr>\n",
              "      <th>30</th>\n",
              "      <td>FLAG_DOCUMENT_5</td>\n",
              "      <td>0</td>\n",
              "    </tr>\n",
              "    <tr>\n",
              "      <th>18</th>\n",
              "      <td>FLAG_CONT_MOBILE</td>\n",
              "      <td>0</td>\n",
              "    </tr>\n",
              "    <tr>\n",
              "      <th>51</th>\n",
              "      <td>OWN_CAR_AGE</td>\n",
              "      <td>0</td>\n",
              "    </tr>\n",
              "    <tr>\n",
              "      <th>21</th>\n",
              "      <td>REG_REGION_NOT_LIVE_REGION</td>\n",
              "      <td>0</td>\n",
              "    </tr>\n",
              "    <tr>\n",
              "      <th>20</th>\n",
              "      <td>FLAG_EMAIL</td>\n",
              "      <td>0</td>\n",
              "    </tr>\n",
              "    <tr>\n",
              "      <th>23</th>\n",
              "      <td>LIVE_REGION_NOT_WORK_REGION</td>\n",
              "      <td>0</td>\n",
              "    </tr>\n",
              "    <tr>\n",
              "      <th>25</th>\n",
              "      <td>REG_CITY_NOT_WORK_CITY</td>\n",
              "      <td>0</td>\n",
              "    </tr>\n",
              "    <tr>\n",
              "      <th>13</th>\n",
              "      <td>HOUSETYPE_MODE</td>\n",
              "      <td>0</td>\n",
              "    </tr>\n",
              "    <tr>\n",
              "      <th>12</th>\n",
              "      <td>FONDKAPREMONT_MODE</td>\n",
              "      <td>0</td>\n",
              "    </tr>\n",
              "    <tr>\n",
              "      <th>15</th>\n",
              "      <td>FLAG_MOBIL</td>\n",
              "      <td>0</td>\n",
              "    </tr>\n",
              "    <tr>\n",
              "      <th>16</th>\n",
              "      <td>FLAG_EMP_PHONE</td>\n",
              "      <td>0</td>\n",
              "    </tr>\n",
              "  </tbody>\n",
              "</table>\n",
              "</div>\n",
              "    <div class=\"colab-df-buttons\">\n",
              "\n",
              "  <div class=\"colab-df-container\">\n",
              "    <button class=\"colab-df-convert\" onclick=\"convertToInteractive('df-57f810bb-7c64-45d8-a78d-780e26e69fdf')\"\n",
              "            title=\"Convert this dataframe to an interactive table.\"\n",
              "            style=\"display:none;\">\n",
              "\n",
              "  <svg xmlns=\"http://www.w3.org/2000/svg\" height=\"24px\" viewBox=\"0 -960 960 960\">\n",
              "    <path d=\"M120-120v-720h720v720H120Zm60-500h600v-160H180v160Zm220 220h160v-160H400v160Zm0 220h160v-160H400v160ZM180-400h160v-160H180v160Zm440 0h160v-160H620v160ZM180-180h160v-160H180v160Zm440 0h160v-160H620v160Z\"/>\n",
              "  </svg>\n",
              "    </button>\n",
              "\n",
              "  <style>\n",
              "    .colab-df-container {\n",
              "      display:flex;\n",
              "      gap: 12px;\n",
              "    }\n",
              "\n",
              "    .colab-df-convert {\n",
              "      background-color: #E8F0FE;\n",
              "      border: none;\n",
              "      border-radius: 50%;\n",
              "      cursor: pointer;\n",
              "      display: none;\n",
              "      fill: #1967D2;\n",
              "      height: 32px;\n",
              "      padding: 0 0 0 0;\n",
              "      width: 32px;\n",
              "    }\n",
              "\n",
              "    .colab-df-convert:hover {\n",
              "      background-color: #E2EBFA;\n",
              "      box-shadow: 0px 1px 2px rgba(60, 64, 67, 0.3), 0px 1px 3px 1px rgba(60, 64, 67, 0.15);\n",
              "      fill: #174EA6;\n",
              "    }\n",
              "\n",
              "    .colab-df-buttons div {\n",
              "      margin-bottom: 4px;\n",
              "    }\n",
              "\n",
              "    [theme=dark] .colab-df-convert {\n",
              "      background-color: #3B4455;\n",
              "      fill: #D2E3FC;\n",
              "    }\n",
              "\n",
              "    [theme=dark] .colab-df-convert:hover {\n",
              "      background-color: #434B5C;\n",
              "      box-shadow: 0px 1px 3px 1px rgba(0, 0, 0, 0.15);\n",
              "      filter: drop-shadow(0px 1px 2px rgba(0, 0, 0, 0.3));\n",
              "      fill: #FFFFFF;\n",
              "    }\n",
              "  </style>\n",
              "\n",
              "    <script>\n",
              "      const buttonEl =\n",
              "        document.querySelector('#df-57f810bb-7c64-45d8-a78d-780e26e69fdf button.colab-df-convert');\n",
              "      buttonEl.style.display =\n",
              "        google.colab.kernel.accessAllowed ? 'block' : 'none';\n",
              "\n",
              "      async function convertToInteractive(key) {\n",
              "        const element = document.querySelector('#df-57f810bb-7c64-45d8-a78d-780e26e69fdf');\n",
              "        const dataTable =\n",
              "          await google.colab.kernel.invokeFunction('convertToInteractive',\n",
              "                                                    [key], {});\n",
              "        if (!dataTable) return;\n",
              "\n",
              "        const docLinkHtml = 'Like what you see? Visit the ' +\n",
              "          '<a target=\"_blank\" href=https://colab.research.google.com/notebooks/data_table.ipynb>data table notebook</a>'\n",
              "          + ' to learn more about interactive tables.';\n",
              "        element.innerHTML = '';\n",
              "        dataTable['output_type'] = 'display_data';\n",
              "        await google.colab.output.renderOutput(dataTable, element);\n",
              "        const docLink = document.createElement('div');\n",
              "        docLink.innerHTML = docLinkHtml;\n",
              "        element.appendChild(docLink);\n",
              "      }\n",
              "    </script>\n",
              "  </div>\n",
              "\n",
              "\n",
              "<div id=\"df-ee66c43b-ad80-4576-ba5b-442ad8c73822\">\n",
              "  <button class=\"colab-df-quickchart\" onclick=\"quickchart('df-ee66c43b-ad80-4576-ba5b-442ad8c73822')\"\n",
              "            title=\"Suggest charts\"\n",
              "            style=\"display:none;\">\n",
              "\n",
              "<svg xmlns=\"http://www.w3.org/2000/svg\" height=\"24px\"viewBox=\"0 0 24 24\"\n",
              "     width=\"24px\">\n",
              "    <g>\n",
              "        <path d=\"M19 3H5c-1.1 0-2 .9-2 2v14c0 1.1.9 2 2 2h14c1.1 0 2-.9 2-2V5c0-1.1-.9-2-2-2zM9 17H7v-7h2v7zm4 0h-2V7h2v10zm4 0h-2v-4h2v4z\"/>\n",
              "    </g>\n",
              "</svg>\n",
              "  </button>\n",
              "\n",
              "<style>\n",
              "  .colab-df-quickchart {\n",
              "      --bg-color: #E8F0FE;\n",
              "      --fill-color: #1967D2;\n",
              "      --hover-bg-color: #E2EBFA;\n",
              "      --hover-fill-color: #174EA6;\n",
              "      --disabled-fill-color: #AAA;\n",
              "      --disabled-bg-color: #DDD;\n",
              "  }\n",
              "\n",
              "  [theme=dark] .colab-df-quickchart {\n",
              "      --bg-color: #3B4455;\n",
              "      --fill-color: #D2E3FC;\n",
              "      --hover-bg-color: #434B5C;\n",
              "      --hover-fill-color: #FFFFFF;\n",
              "      --disabled-bg-color: #3B4455;\n",
              "      --disabled-fill-color: #666;\n",
              "  }\n",
              "\n",
              "  .colab-df-quickchart {\n",
              "    background-color: var(--bg-color);\n",
              "    border: none;\n",
              "    border-radius: 50%;\n",
              "    cursor: pointer;\n",
              "    display: none;\n",
              "    fill: var(--fill-color);\n",
              "    height: 32px;\n",
              "    padding: 0;\n",
              "    width: 32px;\n",
              "  }\n",
              "\n",
              "  .colab-df-quickchart:hover {\n",
              "    background-color: var(--hover-bg-color);\n",
              "    box-shadow: 0 1px 2px rgba(60, 64, 67, 0.3), 0 1px 3px 1px rgba(60, 64, 67, 0.15);\n",
              "    fill: var(--button-hover-fill-color);\n",
              "  }\n",
              "\n",
              "  .colab-df-quickchart-complete:disabled,\n",
              "  .colab-df-quickchart-complete:disabled:hover {\n",
              "    background-color: var(--disabled-bg-color);\n",
              "    fill: var(--disabled-fill-color);\n",
              "    box-shadow: none;\n",
              "  }\n",
              "\n",
              "  .colab-df-spinner {\n",
              "    border: 2px solid var(--fill-color);\n",
              "    border-color: transparent;\n",
              "    border-bottom-color: var(--fill-color);\n",
              "    animation:\n",
              "      spin 1s steps(1) infinite;\n",
              "  }\n",
              "\n",
              "  @keyframes spin {\n",
              "    0% {\n",
              "      border-color: transparent;\n",
              "      border-bottom-color: var(--fill-color);\n",
              "      border-left-color: var(--fill-color);\n",
              "    }\n",
              "    20% {\n",
              "      border-color: transparent;\n",
              "      border-left-color: var(--fill-color);\n",
              "      border-top-color: var(--fill-color);\n",
              "    }\n",
              "    30% {\n",
              "      border-color: transparent;\n",
              "      border-left-color: var(--fill-color);\n",
              "      border-top-color: var(--fill-color);\n",
              "      border-right-color: var(--fill-color);\n",
              "    }\n",
              "    40% {\n",
              "      border-color: transparent;\n",
              "      border-right-color: var(--fill-color);\n",
              "      border-top-color: var(--fill-color);\n",
              "    }\n",
              "    60% {\n",
              "      border-color: transparent;\n",
              "      border-right-color: var(--fill-color);\n",
              "    }\n",
              "    80% {\n",
              "      border-color: transparent;\n",
              "      border-right-color: var(--fill-color);\n",
              "      border-bottom-color: var(--fill-color);\n",
              "    }\n",
              "    90% {\n",
              "      border-color: transparent;\n",
              "      border-bottom-color: var(--fill-color);\n",
              "    }\n",
              "  }\n",
              "</style>\n",
              "\n",
              "  <script>\n",
              "    async function quickchart(key) {\n",
              "      const quickchartButtonEl =\n",
              "        document.querySelector('#' + key + ' button');\n",
              "      quickchartButtonEl.disabled = true;  // To prevent multiple clicks.\n",
              "      quickchartButtonEl.classList.add('colab-df-spinner');\n",
              "      try {\n",
              "        const charts = await google.colab.kernel.invokeFunction(\n",
              "            'suggestCharts', [key], {});\n",
              "      } catch (error) {\n",
              "        console.error('Error during call to suggestCharts:', error);\n",
              "      }\n",
              "      quickchartButtonEl.classList.remove('colab-df-spinner');\n",
              "      quickchartButtonEl.classList.add('colab-df-quickchart-complete');\n",
              "    }\n",
              "    (() => {\n",
              "      let quickchartButtonEl =\n",
              "        document.querySelector('#df-ee66c43b-ad80-4576-ba5b-442ad8c73822 button');\n",
              "      quickchartButtonEl.style.display =\n",
              "        google.colab.kernel.accessAllowed ? 'block' : 'none';\n",
              "    })();\n",
              "  </script>\n",
              "</div>\n",
              "\n",
              "  <div id=\"id_aa0b41e3-aaca-4c05-936f-0706d212dc14\">\n",
              "    <style>\n",
              "      .colab-df-generate {\n",
              "        background-color: #E8F0FE;\n",
              "        border: none;\n",
              "        border-radius: 50%;\n",
              "        cursor: pointer;\n",
              "        display: none;\n",
              "        fill: #1967D2;\n",
              "        height: 32px;\n",
              "        padding: 0 0 0 0;\n",
              "        width: 32px;\n",
              "      }\n",
              "\n",
              "      .colab-df-generate:hover {\n",
              "        background-color: #E2EBFA;\n",
              "        box-shadow: 0px 1px 2px rgba(60, 64, 67, 0.3), 0px 1px 3px 1px rgba(60, 64, 67, 0.15);\n",
              "        fill: #174EA6;\n",
              "      }\n",
              "\n",
              "      [theme=dark] .colab-df-generate {\n",
              "        background-color: #3B4455;\n",
              "        fill: #D2E3FC;\n",
              "      }\n",
              "\n",
              "      [theme=dark] .colab-df-generate:hover {\n",
              "        background-color: #434B5C;\n",
              "        box-shadow: 0px 1px 3px 1px rgba(0, 0, 0, 0.15);\n",
              "        filter: drop-shadow(0px 1px 2px rgba(0, 0, 0, 0.3));\n",
              "        fill: #FFFFFF;\n",
              "      }\n",
              "    </style>\n",
              "    <button class=\"colab-df-generate\" onclick=\"generateWithVariable('feature_importance_df')\"\n",
              "            title=\"Generate code using this dataframe.\"\n",
              "            style=\"display:none;\">\n",
              "\n",
              "  <svg xmlns=\"http://www.w3.org/2000/svg\" height=\"24px\"viewBox=\"0 0 24 24\"\n",
              "       width=\"24px\">\n",
              "    <path d=\"M7,19H8.4L18.45,9,17,7.55,7,17.6ZM5,21V16.75L18.45,3.32a2,2,0,0,1,2.83,0l1.4,1.43a1.91,1.91,0,0,1,.58,1.4,1.91,1.91,0,0,1-.58,1.4L9.25,21ZM18.45,9,17,7.55Zm-12,3A5.31,5.31,0,0,0,4.9,8.1,5.31,5.31,0,0,0,1,6.5,5.31,5.31,0,0,0,4.9,4.9,5.31,5.31,0,0,0,6.5,1,5.31,5.31,0,0,0,8.1,4.9,5.31,5.31,0,0,0,12,6.5,5.46,5.46,0,0,0,6.5,12Z\"/>\n",
              "  </svg>\n",
              "    </button>\n",
              "    <script>\n",
              "      (() => {\n",
              "      const buttonEl =\n",
              "        document.querySelector('#id_aa0b41e3-aaca-4c05-936f-0706d212dc14 button.colab-df-generate');\n",
              "      buttonEl.style.display =\n",
              "        google.colab.kernel.accessAllowed ? 'block' : 'none';\n",
              "\n",
              "      buttonEl.onclick = () => {\n",
              "        google.colab.notebook.generateWithVariable('feature_importance_df');\n",
              "      }\n",
              "      })();\n",
              "    </script>\n",
              "  </div>\n",
              "\n",
              "    </div>\n",
              "  </div>\n"
            ],
            "application/vnd.google.colaboratory.intrinsic+json": {
              "type": "dataframe",
              "variable_name": "feature_importance_df",
              "summary": "{\n  \"name\": \"feature_importance_df\",\n  \"rows\": 91,\n  \"fields\": [\n    {\n      \"column\": \"Feature\",\n      \"properties\": {\n        \"dtype\": \"string\",\n        \"num_unique_values\": 91,\n        \"samples\": [\n          \"FLAG_WORK_PHONE\",\n          \"TOTALAREA_MODE\",\n          \"OBS_30_CNT_SOCIAL_CIRCLE\"\n        ],\n        \"semantic_type\": \"\",\n        \"description\": \"\"\n      }\n    },\n    {\n      \"column\": \"Importance\",\n      \"properties\": {\n        \"dtype\": \"int32\",\n        \"num_unique_values\": 45,\n        \"samples\": [\n          5,\n          24,\n          22\n        ],\n        \"semantic_type\": \"\",\n        \"description\": \"\"\n      }\n    }\n  ]\n}"
            }
          },
          "metadata": {},
          "execution_count": 238
        }
      ]
    },
    {
      "cell_type": "code",
      "source": [
        "import matplotlib.pyplot as plt\n",
        "from sklearn.metrics import roc_curve, auc\n",
        "\n",
        "# Assuming y_test contains the true labels for the test set\n",
        "# and predictions_proba contains the predicted probabilities for the positive class\n",
        "\n",
        "y_pred_proba = model.predict_proba(X_test_prepared)[:,1]\n",
        "\n",
        "fpr, tpr, thresholds = roc_curve(y_test, y_pred_proba)\n",
        "roc_auc = auc(fpr, tpr)\n",
        "\n",
        "plt.figure()\n",
        "plt.plot(fpr, tpr, color='darkorange', lw=2, label='ROC curve (area = %0.2f)' % roc_auc)\n",
        "plt.plot([0, 1], [0, 1], color='navy', lw=2, linestyle='--')\n",
        "plt.xlim([0.0, 1.0])\n",
        "plt.ylim([0.0, 1.05])\n",
        "plt.xlabel('False Positive Rate')\n",
        "plt.ylabel('True Positive Rate')\n",
        "plt.title('Receiver Operating Characteristic')\n",
        "plt.legend(loc=\"lower right\")\n",
        "plt.show()"
      ],
      "metadata": {
        "colab": {
          "base_uri": "https://localhost:8080/"
        },
        "id": "_LseV8YsUaFH",
        "outputId": "63ca4422-528c-47e7-a7f7-0790209cf581"
      },
      "execution_count": null,
      "outputs": [
        {
          "output_type": "display_data",
          "data": {
            "text/plain": [
              "<Figure size 640x480 with 1 Axes>"
            ],
            "image/png": "[encoded data removed]"
          },
          "metadata": {}
        }
      ]
    },
    {
      "cell_type": "code",
      "source": [
        "# prompt: confusion matrix\n",
        "\n",
        "import matplotlib.pyplot as plt\n",
        "import seaborn as sns\n",
        "from sklearn.metrics import confusion_matrix\n",
        "\n",
        "# Assuming 'y_test' contains the true labels and 'predictions' contains the predicted labels\n",
        "cm = confusion_matrix(y_test, predictions)\n",
        "\n",
        "plt.figure(figsize=(8, 6))\n",
        "sns.heatmap(cm, annot=True, fmt='d', cmap='Blues',\n",
        "            xticklabels=['Predicted Negative', 'Predicted Positive'],\n",
        "            yticklabels=['Actual Negative', 'Actual Positive'])\n",
        "plt.xlabel('Predicted Label')\n",
        "plt.ylabel('True Label')\n",
        "plt.title('Confusion Matrix')\n",
        "plt.show()"
      ],
      "metadata": {
        "colab": {
          "base_uri": "https://localhost:8080/"
        },
        "id": "qQjXn8ViUjC0",
        "outputId": "efdaf21e-144b-4ceb-b451-6a2bf676aebf"
      },
      "execution_count": null,
      "outputs": [
        {
          "output_type": "display_data",
          "data": {
            "text/plain": [
              "<Figure size 800x600 with 2 Axes>"
            ],
            "image/png": "[encoded data removed]"
          },
          "metadata": {}
        }
      ]
    },
    {
      "cell_type": "markdown",
      "source": [
        "#### Simple"
      ],
      "metadata": {
        "id": "qasZSVFPZVui"
      }
    },
    {
      "cell_type": "code",
      "source": [
        "from sklearn.impute import MissingIndicator\n",
        "from sklearn.preprocessing import LabelEncoder, OrdinalEncoder, OneHotEncoder, StandardScaler, RobustScaler, MinMaxScaler\n",
        "from sklearn.compose import ColumnTransformer\n",
        "from sklearn.pipeline import Pipeline\n",
        "from sklearn.impute import SimpleImputer\n",
        "\n",
        "pp_cat = Pipeline([\n",
        "    ('cat_imp', SimpleImputer(strategy='constant', add_indicator=False, fill_value='missing')),\n",
        "    ('cat_le', OrdinalEncoder(handle_unknown='use_encoded_value', unknown_value=-1))\n",
        "    # ('ohe_cat', OneHotEncoder(drop='first', sparse_output=False, handle_unknown='ignore'))\n",
        "])\n",
        "\n",
        "pp_binary = Pipeline([\n",
        "    ('binary_imp', SimpleImputer(strategy='constant', add_indicator=False, fill_value=0))\n",
        "])\n",
        "\n",
        "pp_quantity = Pipeline([\n",
        "    ('quantity_imp', SimpleImputer(strategy='median', add_indicator=False)),\n",
        "    # ('quantity_rob', RobustScaler())\n",
        "])\n",
        "\n",
        "pp_normalized = Pipeline([\n",
        "    ('normalized_imp', SimpleImputer(strategy='median', add_indicator=False))\n",
        "])\n",
        "\n",
        "pp_rating = Pipeline([\n",
        "    ('rating_imp', SimpleImputer(strategy='most_frequent', add_indicator=False)),\n",
        "    # ('rating_rob', MinMaxScaler())\n",
        "])\n",
        "\n",
        "preprocessor = ColumnTransformer([\n",
        "    # ('mi', MissingIndicator(), X_train_prepared.columns),\n",
        "    ('pp_cat', pp_cat, cat_cols),\n",
        "    ('pp_binary', pp_binary, binary_cols),\n",
        "    ('pp_quantity', pp_quantity, quantity_cols),\n",
        "    ('pp_normalized', pp_normalized, normalized_cols),\n",
        "    ('pp_rating', pp_rating, rating_cols)\n",
        "])\n",
        "\n",
        "# Apply the transformations to the training data\n",
        "X_train_preprocessed = preprocessor.fit_transform(X_train_prepared)\n",
        "\n",
        "# Check the result (optional)\n",
        "print(pd.DataFrame(X_train_preprocessed).shape)\n",
        "pd.DataFrame(X_train_preprocessed).head(2)"
      ],
      "metadata": {
        "id": "oz7Pztp5ICrb",
        "colab": {
          "base_uri": "https://localhost:8080/",
          "height": 149
        },
        "outputId": "43a3f357-c5cd-4d31-b51c-1d27b1770146"
      },
      "execution_count": null,
      "outputs": [
        {
          "output_type": "stream",
          "name": "stdout",
          "text": [
            "(246008, 91)\n"
          ]
        },
        {
          "output_type": "execute_result",
          "data": {
            "text/plain": [
              "    0    1    2    3    4    5    6     7     8    9    10   11   12   13  \\\n",
              "0  0.0  0.0  6.0  2.0  4.0  5.0  1.0  18.0  57.0  0.0  1.0  7.0  3.0  1.0   \n",
              "1  1.0  0.0  6.0  4.0  4.0  1.0  1.0   8.0   4.0  2.0  0.0  5.0  3.0  1.0   \n",
              "\n",
              "    14   15   16   17   18   19   20   21   22   23   24   25   26   27   28  \\\n",
              "0  0.0  0.0  1.0  0.0  0.0  0.0  0.0  0.0  0.0  0.0  0.0  0.0  1.0  0.0  0.0   \n",
              "1  1.0  1.0  1.0  1.0  0.0  0.0  0.0  0.0  0.0  0.0  0.0  0.0  1.0  0.0  0.0   \n",
              "\n",
              "    29   30   31   32   33   34   35   36   37   38   39   40   41   42   43  \\\n",
              "0  0.0  0.0  0.0  0.0  0.0  0.0  0.0  0.0  0.0  0.0  0.0  0.0  0.0  0.0  0.0   \n",
              "1  0.0  0.0  0.0  0.0  0.0  0.0  0.0  0.0  0.0  0.0  0.0  0.0  0.0  0.0  0.0   \n",
              "\n",
              "    44   45   46   47   48        49       50        51   52   53       54  \\\n",
              "0  0.0  1.0  1.0  0.0  0.0  555273.0  16366.5  171000.0  0.0  9.0 -23349.0   \n",
              "1  0.0  0.0  0.0  1.0  0.0  198085.5  23638.5  157500.0  1.0  0.0 -10921.0   \n",
              "\n",
              "       55      56      57      58   59   60   61   62   63   64   65   66  \\\n",
              "0 -3595.0 -4408.0 -1646.0 -2058.0  0.0  0.0  0.0  0.0  0.0  0.0  1.0  1.0   \n",
              "1 -4281.0 -3399.0  -117.0   -73.0  0.0  1.0  1.0  0.0  0.0  0.0  1.0  0.0   \n",
              "\n",
              "    67        68        69        70        71        72        73        74  \\\n",
              "0  0.0  3.247211  0.095711  0.029475  0.118507  0.035792  0.524685  0.358568   \n",
              "1  0.0  1.257686  0.150086  0.119335  0.010713  0.010032  0.244926  0.490305   \n",
              "\n",
              "         75      76      77      78      79      80   81      82      83  \\\n",
              "0  0.563835  0.0876  0.0763  0.9821  0.7552  0.0211  0.0  0.1379  0.1667   \n",
              "1  0.595456  0.0784  0.0633  0.9742  0.6464  0.0266  0.0  0.1379  0.1667   \n",
              "\n",
              "       84      85      86      87      88   89   90  \n",
              "0  0.2083  0.0483  0.0000  0.0035  0.0687  2.0  2.0  \n",
              "1  0.2083  0.0409  0.0039  0.0149  0.0645  2.0  2.0  "
            ],
            "text/html": [
              "\n",
              "  <div id=\"df-01d98ea7-a7cd-474a-b185-171a90ad723e\" class=\"colab-df-container\">\n",
              "    <div>\n",
              "<style scoped>\n",
              "    .dataframe tbody tr th:only-of-type {\n",
              "        vertical-align: middle;\n",
              "    }\n",
              "\n",
              "    .dataframe tbody tr th {\n",
              "        vertical-align: top;\n",
              "    }\n",
              "\n",
              "    .dataframe thead th {\n",
              "        text-align: right;\n",
              "    }\n",
              "</style>\n",
              "<table border=\"1\" class=\"dataframe\">\n",
              "  <thead>\n",
              "    <tr style=\"text-align: right;\">\n",
              "      <th></th>\n",
              "      <th>0</th>\n",
              "      <th>1</th>\n",
              "      <th>2</th>\n",
              "      <th>3</th>\n",
              "      <th>4</th>\n",
              "      <th>5</th>\n",
              "      <th>6</th>\n",
              "      <th>7</th>\n",
              "      <th>8</th>\n",
              "      <th>9</th>\n",
              "      <th>10</th>\n",
              "      <th>11</th>\n",
              "      <th>12</th>\n",
              "      <th>13</th>\n",
              "      <th>14</th>\n",
              "      <th>15</th>\n",
              "      <th>16</th>\n",
              "      <th>17</th>\n",
              "      <th>18</th>\n",
              "      <th>19</th>\n",
              "      <th>20</th>\n",
              "      <th>21</th>\n",
              "      <th>22</th>\n",
              "      <th>23</th>\n",
              "      <th>24</th>\n",
              "      <th>25</th>\n",
              "      <th>26</th>\n",
              "      <th>27</th>\n",
              "      <th>28</th>\n",
              "      <th>29</th>\n",
              "      <th>30</th>\n",
              "      <th>31</th>\n",
              "      <th>32</th>\n",
              "      <th>33</th>\n",
              "      <th>34</th>\n",
              "      <th>35</th>\n",
              "      <th>36</th>\n",
              "      <th>37</th>\n",
              "      <th>38</th>\n",
              "      <th>39</th>\n",
              "      <th>40</th>\n",
              "      <th>41</th>\n",
              "      <th>42</th>\n",
              "      <th>43</th>\n",
              "      <th>44</th>\n",
              "      <th>45</th>\n",
              "      <th>46</th>\n",
              "      <th>47</th>\n",
              "      <th>48</th>\n",
              "      <th>49</th>\n",
              "      <th>50</th>\n",
              "      <th>51</th>\n",
              "      <th>52</th>\n",
              "      <th>53</th>\n",
              "      <th>54</th>\n",
              "      <th>55</th>\n",
              "      <th>56</th>\n",
              "      <th>57</th>\n",
              "      <th>58</th>\n",
              "      <th>59</th>\n",
              "      <th>60</th>\n",
              "      <th>61</th>\n",
              "      <th>62</th>\n",
              "      <th>63</th>\n",
              "      <th>64</th>\n",
              "      <th>65</th>\n",
              "      <th>66</th>\n",
              "      <th>67</th>\n",
              "      <th>68</th>\n",
              "      <th>69</th>\n",
              "      <th>70</th>\n",
              "      <th>71</th>\n",
              "      <th>72</th>\n",
              "      <th>73</th>\n",
              "      <th>74</th>\n",
              "      <th>75</th>\n",
              "      <th>76</th>\n",
              "      <th>77</th>\n",
              "      <th>78</th>\n",
              "      <th>79</th>\n",
              "      <th>80</th>\n",
              "      <th>81</th>\n",
              "      <th>82</th>\n",
              "      <th>83</th>\n",
              "      <th>84</th>\n",
              "      <th>85</th>\n",
              "      <th>86</th>\n",
              "      <th>87</th>\n",
              "      <th>88</th>\n",
              "      <th>89</th>\n",
              "      <th>90</th>\n",
              "    </tr>\n",
              "  </thead>\n",
              "  <tbody>\n",
              "    <tr>\n",
              "      <th>0</th>\n",
              "      <td>0.0</td>\n",
              "      <td>0.0</td>\n",
              "      <td>6.0</td>\n",
              "      <td>2.0</td>\n",
              "      <td>4.0</td>\n",
              "      <td>5.0</td>\n",
              "      <td>1.0</td>\n",
              "      <td>18.0</td>\n",
              "      <td>57.0</td>\n",
              "      <td>0.0</td>\n",
              "      <td>1.0</td>\n",
              "      <td>7.0</td>\n",
              "      <td>3.0</td>\n",
              "      <td>1.0</td>\n",
              "      <td>0.0</td>\n",
              "      <td>0.0</td>\n",
              "      <td>1.0</td>\n",
              "      <td>0.0</td>\n",
              "      <td>0.0</td>\n",
              "      <td>0.0</td>\n",
              "      <td>0.0</td>\n",
              "      <td>0.0</td>\n",
              "      <td>0.0</td>\n",
              "      <td>0.0</td>\n",
              "      <td>0.0</td>\n",
              "      <td>0.0</td>\n",
              "      <td>1.0</td>\n",
              "      <td>0.0</td>\n",
              "      <td>0.0</td>\n",
              "      <td>0.0</td>\n",
              "      <td>0.0</td>\n",
              "      <td>0.0</td>\n",
              "      <td>0.0</td>\n",
              "      <td>0.0</td>\n",
              "      <td>0.0</td>\n",
              "      <td>0.0</td>\n",
              "      <td>0.0</td>\n",
              "      <td>0.0</td>\n",
              "      <td>0.0</td>\n",
              "      <td>0.0</td>\n",
              "      <td>0.0</td>\n",
              "      <td>0.0</td>\n",
              "      <td>0.0</td>\n",
              "      <td>0.0</td>\n",
              "      <td>0.0</td>\n",
              "      <td>1.0</td>\n",
              "      <td>1.0</td>\n",
              "      <td>0.0</td>\n",
              "      <td>0.0</td>\n",
              "      <td>555273.0</td>\n",
              "      <td>16366.5</td>\n",
              "      <td>171000.0</td>\n",
              "      <td>0.0</td>\n",
              "      <td>9.0</td>\n",
              "      <td>-23349.0</td>\n",
              "      <td>-3595.0</td>\n",
              "      <td>-4408.0</td>\n",
              "      <td>-1646.0</td>\n",
              "      <td>-2058.0</td>\n",
              "      <td>0.0</td>\n",
              "      <td>0.0</td>\n",
              "      <td>0.0</td>\n",
              "      <td>0.0</td>\n",
              "      <td>0.0</td>\n",
              "      <td>0.0</td>\n",
              "      <td>1.0</td>\n",
              "      <td>1.0</td>\n",
              "      <td>0.0</td>\n",
              "      <td>3.247211</td>\n",
              "      <td>0.095711</td>\n",
              "      <td>0.029475</td>\n",
              "      <td>0.118507</td>\n",
              "      <td>0.035792</td>\n",
              "      <td>0.524685</td>\n",
              "      <td>0.358568</td>\n",
              "      <td>0.563835</td>\n",
              "      <td>0.0876</td>\n",
              "      <td>0.0763</td>\n",
              "      <td>0.9821</td>\n",
              "      <td>0.7552</td>\n",
              "      <td>0.0211</td>\n",
              "      <td>0.0</td>\n",
              "      <td>0.1379</td>\n",
              "      <td>0.1667</td>\n",
              "      <td>0.2083</td>\n",
              "      <td>0.0483</td>\n",
              "      <td>0.0000</td>\n",
              "      <td>0.0035</td>\n",
              "      <td>0.0687</td>\n",
              "      <td>2.0</td>\n",
              "      <td>2.0</td>\n",
              "    </tr>\n",
              "    <tr>\n",
              "      <th>1</th>\n",
              "      <td>1.0</td>\n",
              "      <td>0.0</td>\n",
              "      <td>6.0</td>\n",
              "      <td>4.0</td>\n",
              "      <td>4.0</td>\n",
              "      <td>1.0</td>\n",
              "      <td>1.0</td>\n",
              "      <td>8.0</td>\n",
              "      <td>4.0</td>\n",
              "      <td>2.0</td>\n",
              "      <td>0.0</td>\n",
              "      <td>5.0</td>\n",
              "      <td>3.0</td>\n",
              "      <td>1.0</td>\n",
              "      <td>1.0</td>\n",
              "      <td>1.0</td>\n",
              "      <td>1.0</td>\n",
              "      <td>1.0</td>\n",
              "      <td>0.0</td>\n",
              "      <td>0.0</td>\n",
              "      <td>0.0</td>\n",
              "      <td>0.0</td>\n",
              "      <td>0.0</td>\n",
              "      <td>0.0</td>\n",
              "      <td>0.0</td>\n",
              "      <td>0.0</td>\n",
              "      <td>1.0</td>\n",
              "      <td>0.0</td>\n",
              "      <td>0.0</td>\n",
              "      <td>0.0</td>\n",
              "      <td>0.0</td>\n",
              "      <td>0.0</td>\n",
              "      <td>0.0</td>\n",
              "      <td>0.0</td>\n",
              "      <td>0.0</td>\n",
              "      <td>0.0</td>\n",
              "      <td>0.0</td>\n",
              "      <td>0.0</td>\n",
              "      <td>0.0</td>\n",
              "      <td>0.0</td>\n",
              "      <td>0.0</td>\n",
              "      <td>0.0</td>\n",
              "      <td>0.0</td>\n",
              "      <td>0.0</td>\n",
              "      <td>0.0</td>\n",
              "      <td>0.0</td>\n",
              "      <td>0.0</td>\n",
              "      <td>1.0</td>\n",
              "      <td>0.0</td>\n",
              "      <td>198085.5</td>\n",
              "      <td>23638.5</td>\n",
              "      <td>157500.0</td>\n",
              "      <td>1.0</td>\n",
              "      <td>0.0</td>\n",
              "      <td>-10921.0</td>\n",
              "      <td>-4281.0</td>\n",
              "      <td>-3399.0</td>\n",
              "      <td>-117.0</td>\n",
              "      <td>-73.0</td>\n",
              "      <td>0.0</td>\n",
              "      <td>1.0</td>\n",
              "      <td>1.0</td>\n",
              "      <td>0.0</td>\n",
              "      <td>0.0</td>\n",
              "      <td>0.0</td>\n",
              "      <td>1.0</td>\n",
              "      <td>0.0</td>\n",
              "      <td>0.0</td>\n",
              "      <td>1.257686</td>\n",
              "      <td>0.150086</td>\n",
              "      <td>0.119335</td>\n",
              "      <td>0.010713</td>\n",
              "      <td>0.010032</td>\n",
              "      <td>0.244926</td>\n",
              "      <td>0.490305</td>\n",
              "      <td>0.595456</td>\n",
              "      <td>0.0784</td>\n",
              "      <td>0.0633</td>\n",
              "      <td>0.9742</td>\n",
              "      <td>0.6464</td>\n",
              "      <td>0.0266</td>\n",
              "      <td>0.0</td>\n",
              "      <td>0.1379</td>\n",
              "      <td>0.1667</td>\n",
              "      <td>0.2083</td>\n",
              "      <td>0.0409</td>\n",
              "      <td>0.0039</td>\n",
              "      <td>0.0149</td>\n",
              "      <td>0.0645</td>\n",
              "      <td>2.0</td>\n",
              "      <td>2.0</td>\n",
              "    </tr>\n",
              "  </tbody>\n",
              "</table>\n",
              "</div>\n",
              "    <div class=\"colab-df-buttons\">\n",
              "\n",
              "  <div class=\"colab-df-container\">\n",
              "    <button class=\"colab-df-convert\" onclick=\"convertToInteractive('df-01d98ea7-a7cd-474a-b185-171a90ad723e')\"\n",
              "            title=\"Convert this dataframe to an interactive table.\"\n",
              "            style=\"display:none;\">\n",
              "\n",
              "  <svg xmlns=\"http://www.w3.org/2000/svg\" height=\"24px\" viewBox=\"0 -960 960 960\">\n",
              "    <path d=\"M120-120v-720h720v720H120Zm60-500h600v-160H180v160Zm220 220h160v-160H400v160Zm0 220h160v-160H400v160ZM180-400h160v-160H180v160Zm440 0h160v-160H620v160ZM180-180h160v-160H180v160Zm440 0h160v-160H620v160Z\"/>\n",
              "  </svg>\n",
              "    </button>\n",
              "\n",
              "  <style>\n",
              "    .colab-df-container {\n",
              "      display:flex;\n",
              "      gap: 12px;\n",
              "    }\n",
              "\n",
              "    .colab-df-convert {\n",
              "      background-color: #E8F0FE;\n",
              "      border: none;\n",
              "      border-radius: 50%;\n",
              "      cursor: pointer;\n",
              "      display: none;\n",
              "      fill: #1967D2;\n",
              "      height: 32px;\n",
              "      padding: 0 0 0 0;\n",
              "      width: 32px;\n",
              "    }\n",
              "\n",
              "    .colab-df-convert:hover {\n",
              "      background-color: #E2EBFA;\n",
              "      box-shadow: 0px 1px 2px rgba(60, 64, 67, 0.3), 0px 1px 3px 1px rgba(60, 64, 67, 0.15);\n",
              "      fill: #174EA6;\n",
              "    }\n",
              "\n",
              "    .colab-df-buttons div {\n",
              "      margin-bottom: 4px;\n",
              "    }\n",
              "\n",
              "    [theme=dark] .colab-df-convert {\n",
              "      background-color: #3B4455;\n",
              "      fill: #D2E3FC;\n",
              "    }\n",
              "\n",
              "    [theme=dark] .colab-df-convert:hover {\n",
              "      background-color: #434B5C;\n",
              "      box-shadow: 0px 1px 3px 1px rgba(0, 0, 0, 0.15);\n",
              "      filter: drop-shadow(0px 1px 2px rgba(0, 0, 0, 0.3));\n",
              "      fill: #FFFFFF;\n",
              "    }\n",
              "  </style>\n",
              "\n",
              "    <script>\n",
              "      const buttonEl =\n",
              "        document.querySelector('#df-01d98ea7-a7cd-474a-b185-171a90ad723e button.colab-df-convert');\n",
              "      buttonEl.style.display =\n",
              "        google.colab.kernel.accessAllowed ? 'block' : 'none';\n",
              "\n",
              "      async function convertToInteractive(key) {\n",
              "        const element = document.querySelector('#df-01d98ea7-a7cd-474a-b185-171a90ad723e');\n",
              "        const dataTable =\n",
              "          await google.colab.kernel.invokeFunction('convertToInteractive',\n",
              "                                                    [key], {});\n",
              "        if (!dataTable) return;\n",
              "\n",
              "        const docLinkHtml = 'Like what you see? Visit the ' +\n",
              "          '<a target=\"_blank\" href=https://colab.research.google.com/notebooks/data_table.ipynb>data table notebook</a>'\n",
              "          + ' to learn more about interactive tables.';\n",
              "        element.innerHTML = '';\n",
              "        dataTable['output_type'] = 'display_data';\n",
              "        await google.colab.output.renderOutput(dataTable, element);\n",
              "        const docLink = document.createElement('div');\n",
              "        docLink.innerHTML = docLinkHtml;\n",
              "        element.appendChild(docLink);\n",
              "      }\n",
              "    </script>\n",
              "  </div>\n",
              "\n",
              "\n",
              "<div id=\"df-62ae7ef1-8464-4d76-975e-176dfadfbe33\">\n",
              "  <button class=\"colab-df-quickchart\" onclick=\"quickchart('df-62ae7ef1-8464-4d76-975e-176dfadfbe33')\"\n",
              "            title=\"Suggest charts\"\n",
              "            style=\"display:none;\">\n",
              "\n",
              "<svg xmlns=\"http://www.w3.org/2000/svg\" height=\"24px\"viewBox=\"0 0 24 24\"\n",
              "     width=\"24px\">\n",
              "    <g>\n",
              "        <path d=\"M19 3H5c-1.1 0-2 .9-2 2v14c0 1.1.9 2 2 2h14c1.1 0 2-.9 2-2V5c0-1.1-.9-2-2-2zM9 17H7v-7h2v7zm4 0h-2V7h2v10zm4 0h-2v-4h2v4z\"/>\n",
              "    </g>\n",
              "</svg>\n",
              "  </button>\n",
              "\n",
              "<style>\n",
              "  .colab-df-quickchart {\n",
              "      --bg-color: #E8F0FE;\n",
              "      --fill-color: #1967D2;\n",
              "      --hover-bg-color: #E2EBFA;\n",
              "      --hover-fill-color: #174EA6;\n",
              "      --disabled-fill-color: #AAA;\n",
              "      --disabled-bg-color: #DDD;\n",
              "  }\n",
              "\n",
              "  [theme=dark] .colab-df-quickchart {\n",
              "      --bg-color: #3B4455;\n",
              "      --fill-color: #D2E3FC;\n",
              "      --hover-bg-color: #434B5C;\n",
              "      --hover-fill-color: #FFFFFF;\n",
              "      --disabled-bg-color: #3B4455;\n",
              "      --disabled-fill-color: #666;\n",
              "  }\n",
              "\n",
              "  .colab-df-quickchart {\n",
              "    background-color: var(--bg-color);\n",
              "    border: none;\n",
              "    border-radius: 50%;\n",
              "    cursor: pointer;\n",
              "    display: none;\n",
              "    fill: var(--fill-color);\n",
              "    height: 32px;\n",
              "    padding: 0;\n",
              "    width: 32px;\n",
              "  }\n",
              "\n",
              "  .colab-df-quickchart:hover {\n",
              "    background-color: var(--hover-bg-color);\n",
              "    box-shadow: 0 1px 2px rgba(60, 64, 67, 0.3), 0 1px 3px 1px rgba(60, 64, 67, 0.15);\n",
              "    fill: var(--button-hover-fill-color);\n",
              "  }\n",
              "\n",
              "  .colab-df-quickchart-complete:disabled,\n",
              "  .colab-df-quickchart-complete:disabled:hover {\n",
              "    background-color: var(--disabled-bg-color);\n",
              "    fill: var(--disabled-fill-color);\n",
              "    box-shadow: none;\n",
              "  }\n",
              "\n",
              "  .colab-df-spinner {\n",
              "    border: 2px solid var(--fill-color);\n",
              "    border-color: transparent;\n",
              "    border-bottom-color: var(--fill-color);\n",
              "    animation:\n",
              "      spin 1s steps(1) infinite;\n",
              "  }\n",
              "\n",
              "  @keyframes spin {\n",
              "    0% {\n",
              "      border-color: transparent;\n",
              "      border-bottom-color: var(--fill-color);\n",
              "      border-left-color: var(--fill-color);\n",
              "    }\n",
              "    20% {\n",
              "      border-color: transparent;\n",
              "      border-left-color: var(--fill-color);\n",
              "      border-top-color: var(--fill-color);\n",
              "    }\n",
              "    30% {\n",
              "      border-color: transparent;\n",
              "      border-left-color: var(--fill-color);\n",
              "      border-top-color: var(--fill-color);\n",
              "      border-right-color: var(--fill-color);\n",
              "    }\n",
              "    40% {\n",
              "      border-color: transparent;\n",
              "      border-right-color: var(--fill-color);\n",
              "      border-top-color: var(--fill-color);\n",
              "    }\n",
              "    60% {\n",
              "      border-color: transparent;\n",
              "      border-right-color: var(--fill-color);\n",
              "    }\n",
              "    80% {\n",
              "      border-color: transparent;\n",
              "      border-right-color: var(--fill-color);\n",
              "      border-bottom-color: var(--fill-color);\n",
              "    }\n",
              "    90% {\n",
              "      border-color: transparent;\n",
              "      border-bottom-color: var(--fill-color);\n",
              "    }\n",
              "  }\n",
              "</style>\n",
              "\n",
              "  <script>\n",
              "    async function quickchart(key) {\n",
              "      const quickchartButtonEl =\n",
              "        document.querySelector('#' + key + ' button');\n",
              "      quickchartButtonEl.disabled = true;  // To prevent multiple clicks.\n",
              "      quickchartButtonEl.classList.add('colab-df-spinner');\n",
              "      try {\n",
              "        const charts = await google.colab.kernel.invokeFunction(\n",
              "            'suggestCharts', [key], {});\n",
              "      } catch (error) {\n",
              "        console.error('Error during call to suggestCharts:', error);\n",
              "      }\n",
              "      quickchartButtonEl.classList.remove('colab-df-spinner');\n",
              "      quickchartButtonEl.classList.add('colab-df-quickchart-complete');\n",
              "    }\n",
              "    (() => {\n",
              "      let quickchartButtonEl =\n",
              "        document.querySelector('#df-62ae7ef1-8464-4d76-975e-176dfadfbe33 button');\n",
              "      quickchartButtonEl.style.display =\n",
              "        google.colab.kernel.accessAllowed ? 'block' : 'none';\n",
              "    })();\n",
              "  </script>\n",
              "</div>\n",
              "\n",
              "    </div>\n",
              "  </div>\n"
            ],
            "application/vnd.google.colaboratory.intrinsic+json": {
              "type": "dataframe"
            }
          },
          "metadata": {},
          "execution_count": 241
        }
      ]
    },
    {
      "cell_type": "code",
      "source": [
        "from sklearn.impute import MissingIndicator\n",
        "from sklearn.preprocessing import LabelEncoder, OneHotEncoder, StandardScaler, RobustScaler, MinMaxScaler\n",
        "from sklearn.compose import ColumnTransformer\n",
        "from sklearn.pipeline import Pipeline\n",
        "from sklearn.impute import SimpleImputer\n",
        "from sklearn.model_selection import StratifiedKFold, GridSearchCV\n",
        "from sklearn.metrics import make_scorer, roc_auc_score\n",
        "from lightgbm import LGBMClassifier\n",
        "\n",
        "\n",
        "# LightGBM classifier\n",
        "lgbm = LGBMClassifier(\n",
        "  objective='binary',\n",
        "  is_unbalance=True,\n",
        "  random_state=42,\n",
        "  # categorical_feature=list(range(len(cat_cols))),\n",
        "  # categorical_feature=cat_cols,\n",
        "  n_jobs =-1,\n",
        "  verbose=1,\n",
        ")\n",
        "\n",
        "# Pipeline\n",
        "pipeline = Pipeline(steps=[\n",
        "    ('preprocessor', preprocessor),\n",
        "    ('classifier', lgbm)\n",
        "])"
      ],
      "metadata": {
        "id": "5TrO13WiXoIz"
      },
      "execution_count": null,
      "outputs": []
    },
    {
      "cell_type": "code",
      "source": [
        "# Fit the pipeline\n",
        "pipeline.fit(X_train_prepared, y_train)\n",
        "\n",
        "# Predict on the test set\n",
        "predictions = pipeline.predict(X_test_prepared)\n",
        "\n",
        "# Predict probabilities\n",
        "y_pred_proba = pipeline.predict_proba(X_test_prepared)[:,1]\n",
        "\n",
        "# Evaluate the model (example: ROC AUC)\n",
        "fpr, tpr, thresholds = roc_curve(y_test, y_pred_proba)\n",
        "\n",
        "roc_auc = auc(fpr, tpr)\n",
        "\n",
        "print(f\"ROC AUC: {roc_auc}\")"
      ],
      "metadata": {
        "colab": {
          "base_uri": "https://localhost:8080/"
        },
        "id": "DYK7lcy2XqIz",
        "outputId": "89aa17c9-a291-42e8-a5b8-faab6504f5d0"
      },
      "execution_count": null,
      "outputs": [
        {
          "output_type": "stream",
          "name": "stdout",
          "text": [
            "[LightGBM] [Info] Number of positive: 19876, number of negative: 226132\n",
            "[LightGBM] [Info] Auto-choosing row-wise multi-threading, the overhead of testing was 0.109646 seconds.\n",
            "You can set `force_row_wise=true` to remove the overhead.\n",
            "And if memory is not enough, you can set `force_col_wise=true`.\n",
            "[LightGBM] [Info] Total Bins 6760\n",
            "[LightGBM] [Info] Number of data points in the train set: 246008, number of used features: 86\n",
            "[LightGBM] [Info] [binary:BoostFromScore]: pavg=0.080794 -> initscore=-2.431606\n",
            "[LightGBM] [Info] Start training from score -2.431606\n",
            "ROC AUC: 0.7644667763823886\n"
          ]
        }
      ]
    },
    {
      "cell_type": "code",
      "source": [
        "fpr, tpr, thresholds = roc_curve(y_test, y_pred_proba)\n",
        "roc_auc = auc(fpr, tpr)\n",
        "\n",
        "plt.figure()\n",
        "plt.plot(fpr, tpr, color='darkorange', lw=2, label='ROC curve (area = %0.2f)' % roc_auc)\n",
        "plt.plot([0, 1], [0, 1], color='navy', lw=2, linestyle='--')\n",
        "plt.xlim([0.0, 1.0])\n",
        "plt.ylim([0.0, 1.05])\n",
        "plt.xlabel('False Positive Rate')\n",
        "plt.ylabel('True Positive Rate')\n",
        "plt.title('Receiver Operating Characteristic')\n",
        "plt.legend(loc=\"lower right\")\n",
        "plt.show()"
      ],
      "metadata": {
        "colab": {
          "base_uri": "https://localhost:8080/",
          "height": 480
        },
        "id": "6qpo_z3InheH",
        "outputId": "2aaede4b-e2df-480a-867e-1da054f78996"
      },
      "execution_count": null,
      "outputs": [
        {
          "output_type": "display_data",
          "data": {
            "text/plain": [
              "<Figure size 640x480 with 1 Axes>"
            ],
            "image/png": "[encoded data removed]"
          },
          "metadata": {}
        }
      ]
    },
    {
      "cell_type": "code",
      "source": [
        "# prompt: Confusion matrix\n",
        "\n",
        "# Assuming 'y_test' contains the true labels and 'predictions' contains the predicted labels\n",
        "from sklearn.metrics import confusion_matrix\n",
        "import seaborn as sns\n",
        "import matplotlib.pyplot as plt\n",
        "\n",
        "cm = confusion_matrix(y_test, predictions)\n",
        "\n",
        "plt.figure(figsize=(8, 6))\n",
        "sns.heatmap(cm, annot=True, fmt='d', cmap='Blues',\n",
        "            xticklabels=['Predicted Negative', 'Predicted Positive'],\n",
        "            yticklabels=['Actual Negative', 'Actual Positive'])\n",
        "plt.xlabel('Predicted Label')\n",
        "plt.ylabel('True Label')\n",
        "plt.title('Confusion Matrix')\n",
        "plt.show()"
      ],
      "metadata": {
        "colab": {
          "base_uri": "https://localhost:8080/",
          "height": 573
        },
        "id": "U1K_kVsqnl9z",
        "outputId": "c2bdde0d-0eb3-4e27-fd4d-eb32de114e19"
      },
      "execution_count": null,
      "outputs": [
        {
          "output_type": "display_data",
          "data": {
            "text/plain": [
              "<Figure size 800x600 with 2 Axes>"
            ],
            "image/png": "[encoded data removed]"
          },
          "metadata": {}
        }
      ]
    },
    {
      "cell_type": "markdown",
      "source": [
        "#### GridSearchCV"
      ],
      "metadata": {
        "id": "Off2Z3pUZYx4"
      }
    },
    {
      "cell_type": "code",
      "source": [
        "from sklearn.impute import MissingIndicator\n",
        "from sklearn.preprocessing import LabelEncoder, OneHotEncoder, StandardScaler, RobustScaler, MinMaxScaler\n",
        "from sklearn.compose import ColumnTransformer\n",
        "from sklearn.pipeline import Pipeline\n",
        "from sklearn.impute import SimpleImputer\n",
        "from sklearn.model_selection import StratifiedKFold, GridSearchCV\n",
        "from sklearn.metrics import make_scorer, roc_auc_score\n",
        "from lightgbm import LGBMClassifier\n",
        "\n",
        "\n",
        "# LightGBM classifier\n",
        "lgbm = LGBMClassifier(\n",
        "  objective='binary',\n",
        "  is_unbalance=True,\n",
        "  random_state=42,\n",
        "  # categorical_feature=list(range(len(cat_cols))),  # Use indices of categorical columns\n",
        "  categorical_feature=cat_cols,\n",
        "  n_jobs =-1,\n",
        "  verbose=1,\n",
        ")\n",
        "\n",
        "# Pipeline\n",
        "pipeline = Pipeline(steps=[\n",
        "    ('preprocessor', preprocessor),\n",
        "    ('classifier', lgbm)\n",
        "])\n",
        "\n",
        "# Parameter grid for GridSearchCV\n",
        "param_grid = {\n",
        "  'classifier__num_leaves': [31, 50, 100],  # Add more options\n",
        "  'classifier__learning_rate': [0.01, 0.05, 0.1],  # More learning rate options\n",
        "  'classifier__n_estimators': [100, 200, 300],  # More estimator options\n",
        "  'classifier__max_depth': [-1, 5, 10],  # Consider adding max_depth\n",
        "  'classifier__min_child_samples': [20, 50, 100]  # Add child samples parameter\n",
        "}\n",
        "\n",
        "\n",
        "# Custom scorer for ROC AUC\n",
        "roc_auc_scorer = make_scorer(roc_auc_score, greater_is_better=True, response_method=\"predict_proba\")\n",
        "\n",
        "# Stratified K-Fold\n",
        "cv = StratifiedKFold(n_splits=5, shuffle=True, random_state=42)\n",
        "\n",
        "# GridSearchCV\n",
        "grid_search = GridSearchCV(\n",
        "    pipeline,\n",
        "    param_grid,\n",
        "    cv=cv,\n",
        "    scoring=roc_auc_scorer\n",
        ")\n",
        "\n",
        "# Fit GridSearchCV\n",
        "grid_search.fit(X_train_prepared, y_train)\n",
        "\n",
        "# Best parameters and score\n",
        "print(\"Best Parameters:\", grid_search.best_params_)\n",
        "print(\"Best ROC AUC Score on Training Set:\", grid_search.best_score_)\n",
        "\n",
        "# Evaluate on the test set\n",
        "best_model = grid_search.best_estimator_\n",
        "y_pred_proba = best_model.predict_proba(X_test)[:, 1]\n",
        "test_roc_auc = roc_auc_score(y_test, y_pred_proba)\n",
        "print(\"ROC AUC on Test Set:\", test_roc_auc)"
      ],
      "metadata": {
        "id": "2WbKPCs24pBM"
      },
      "execution_count": null,
      "outputs": []
    },
    {
      "cell_type": "code",
      "source": [
        "from sklearn.metrics import roc_curve, auc\n",
        "\n",
        "# Assuming you have y_test and y_pred_proba from the previous code\n",
        "fpr, tpr, thresholds = roc_curve(y_test, y_pred_proba)\n",
        "roc_auc = auc(fpr, tpr)\n",
        "\n",
        "plt.figure()\n",
        "plt.plot(fpr, tpr, color='darkorange', lw=2, label='ROC curve (area = %0.2f)' % roc_auc)\n",
        "plt.plot([0, 1], [0, 1], color='navy', lw=2, linestyle='--')\n",
        "plt.xlim([0.0, 1.0])\n",
        "plt.ylim([0.0, 1.05])\n",
        "plt.xlabel('False Positive Rate')\n",
        "plt.ylabel('True Positive Rate')\n",
        "plt.title('Receiver operating characteristic example')\n",
        "plt.legend(loc=\"lower right\")\n",
        "plt.show()"
      ],
      "metadata": {
        "id": "a4cYL1zB4zG-"
      },
      "execution_count": null,
      "outputs": []
    },
    {
      "cell_type": "markdown",
      "source": [
        "### Arbre de décision"
      ],
      "metadata": {
        "id": "LX08oKkqmLTd"
      }
    },
    {
      "cell_type": "code",
      "source": [
        "from sklearn.tree import DecisionTreeClassifier\n",
        "\n",
        "dtc_pipeline = Pipeline([\n",
        "    ('ct_step', ct),\n",
        "    ('model', DecisionTreeClassifier())\n",
        "])\n",
        "\n",
        "dtc_pipeline.fit(X_train_prepared, y_train)\n",
        "dtc_predictions = dtc_pipeline.predict(X_test_prepared)\n",
        "\n",
        "print(\"Decision Tree Classifier Results:\")\n",
        "print(classification_report(y_test, dtc_predictions))"
      ],
      "metadata": {
        "colab": {
          "base_uri": "https://localhost:8080/"
        },
        "id": "WeE3Wex0byUo",
        "outputId": "91727118-5a69-4127-836e-5754ad530e55"
      },
      "execution_count": null,
      "outputs": [
        {
          "output_type": "stream",
          "name": "stdout",
          "text": [
            "Decision Tree Classifier Results:\n",
            "              precision    recall  f1-score   support\n",
            "\n",
            "           0       0.93      0.91      0.92     56554\n",
            "           1       0.15      0.17      0.16      4949\n",
            "\n",
            "    accuracy                           0.85     61503\n",
            "   macro avg       0.54      0.54      0.54     61503\n",
            "weighted avg       0.86      0.85      0.86     61503\n",
            "\n"
          ]
        }
      ]
    },
    {
      "cell_type": "code",
      "source": [
        "from sklearn.metrics import roc_auc_score\n",
        "\n",
        "# Assuming y_test contains the true labels and dtc_predictions contains the predicted probabilities\n",
        "y_pred_proba = dtc_pipeline.predict_proba(X_test_prepared)[:, 1]  # Probability of the positive class\n",
        "roc_auc = roc_auc_score(y_test, y_pred_proba)\n",
        "\n",
        "print(f\"ROC AUC Score: {roc_auc}\")"
      ],
      "metadata": {
        "colab": {
          "base_uri": "https://localhost:8080/"
        },
        "id": "uHF4fgAilsoe",
        "outputId": "59b2c376-2667-464a-b05a-b195d1796eb0"
      },
      "execution_count": null,
      "outputs": [
        {
          "output_type": "stream",
          "name": "stdout",
          "text": [
            "ROC AUC Score: 0.5418674697353113\n"
          ]
        }
      ]
    },
    {
      "cell_type": "markdown",
      "source": [
        "## 📈 Étape 2 - Définissez une métrique adaptée à la problématique métier\n",
        "\n",
        "- Une **fonction de coût métier** mise en place prenant en compte les coûts des faux positifs et des faux négatifs.\n",
        "- Un score \"métier\" calculé pour évaluer les performances des différents modèles.\n",
        "\n",
        "`TARGET` : 1 est \"mauvais payeur\".\n",
        "\n",
        "Le modèle prédictif retourne une probabilité que la personne soit un \"mauvais payeur\" (`TARGET`: 1).\n",
        "\n",
        "- **Faux positif** : \"Mauvais payeur\" alors que bon client (moins grave, manque à gagner pour la banque).\n",
        "- **Faux négatif** : \"Bon payeur\" alors que \"mauvais payeur\" (grave pour la banque, risque élevé de ne pas rembourser)\n",
        "\n",
        "\n",
        "Performance\n",
        "- ROC AUC : Choix du modèle\n",
        "- Cout métier : pour déterminer le seuil de refus à partir duquel un client est déclaré \"mauvais client\". Courbe de (FP + 10 FN) pour chaque valeur de seuil de refus.\n",
        "\n",
        "**Calcul cout métier :**\n",
        "- Probabilités prédites\n",
        "- Seuil\n",
        "- Classer les bons / mauvais payeurs\n",
        "- Comparer avec y_test\n",
        "- Cout métier = FN + (10 x FP)\n",
        "- Repeter l'opération pour plusieurs seuils\n",
        "- Tracer la courber\n",
        "- Trouver le seuil optimal\n",
        "\n",
        "\n",
        "\n",
        "\n",
        "Ressources :\n",
        "- https://openclassrooms.com/fr/courses/4297211-evaluez-les-performances-dun-modele-de-machine-learning"
      ],
      "metadata": {
        "id": "ByxZn0mjeNPH"
      }
    },
    {
      "cell_type": "markdown",
      "source": [
        "If you want to **avoid false negatives**, you should use a metric that emphasizes the ability of the model to correctly identify **positive cases**. Avoiding false negatives is crucial in scenarios like medical diagnoses, fraud detection, or critical safety applications.\n",
        "\n",
        "### Key Metrics to Focus On\n",
        "\n",
        "1. **Recall (Sensitivity or True Positive Rate)**:\n",
        "   - Formule : **TP / (TP + FN)**\n",
        "   - High recall means the model correctly identifies most of the actual positives, reducing false negatives.\n",
        "\n",
        "2. **F2-Score**:\n",
        "   - A weighted version of the F1-score that gives more importance to recall than precision.\n",
        "   - Formula:  \n",
        "     \\[\n",
        "     F2 = (1 + 2^2) \\cdot \\frac{\\text{Precision} \\cdot \\text{Recall}}{("
      ],
      "metadata": {
        "id": "z7BtKWwXEyUx"
      }
    },
    {
      "cell_type": "markdown",
      "source": [
        "Le F2 Score est une mesure d'évaluation qui combine la précision et le rappel, en donnant plus de poids au rappel. Voici sa formule :\n",
        "\n",
        "F2 = (5 * Précision * Rappel) / (4 * Précision + Rappel)\n",
        "\n",
        "Où :\n",
        "- Précision = Vrais Positifs / (Vrais Positifs + Faux Positifs)\n",
        "- Rappel = Vrais Positifs / (Vrais Positifs + Faux Négatifs)\n",
        "\n",
        "La caractéristique principale du F2 Score est le coefficient 5 pour le rappel, ce qui signifie que les faux négatifs (les cas que le modèle n'a pas correctement identifiés) sont pénalisés plus fortement. Cette formule est particulièrement utile dans les situations où l'on veut minimiser les faux négatifs, comme dans la détection de maladies rares ou la prédiction d'événements critiques.\n",
        "\n",
        "Comparaison avec d'autres mesures :\n",
        "- F1 Score utilise un coefficient de 1 (équilibre précision et rappel)\n",
        "- F2 Score favorise le rappel\n",
        "- F0.5 Score favoriserait davantage la précision"
      ],
      "metadata": {
        "id": "EPfYwkN-FXzu"
      }
    },
    {
      "cell_type": "markdown",
      "source": [
        "Pour éviter les faux négatifs, plusieurs métriques et approches peuvent être utilisées :\n",
        "\n",
        "1. F2 Score\n",
        "- Comme nous venons de le discuter, le F2 Score pénalise plus lourdement les faux négatifs\n",
        "- Donne un poids plus important au rappel\n",
        "- Idéal quand le coût des faux négatifs est élevé\n",
        "\n",
        "2. Rappel (Sensitivity)\n",
        "- Mesure directe du taux de vrais positifs\n",
        "- Calculé comme : Vrais Positifs / (Vrais Positifs + Faux Négatifs)\n",
        "- Plus le rappel est proche de 1, moins il y a de faux négatifs\n",
        "\n",
        "3. Courbe ROC et AUC (Area Under the Curve)\n",
        "- Permet de visualiser les performances du modèle à différents seuils de classification\n",
        "- Un bon AUC indique une meilleure capacité à distinguer les classes\n",
        "\n",
        "4. Matrice de confusion\n",
        "- Permet de visualiser précisément les faux négatifs\n",
        "- Aide à comprendre où et comment les erreurs se produisent\n",
        "\n",
        "5. Précision négative\n",
        "- Mesure la proportion de vrais négatifs parmi tous les cas prédits négatifs\n",
        "- Complémentaire à la précision positive\n",
        "\n",
        "Le choix dépend du contexte spécifique et du domaine d'application."
      ],
      "metadata": {
        "id": "tk7UhXinFlKO"
      }
    },
    {
      "cell_type": "code",
      "source": [
        "\n"
      ],
      "metadata": {
        "id": "YVVW6FB8eN53"
      },
      "execution_count": null,
      "outputs": []
    },
    {
      "cell_type": "markdown",
      "source": [
        "## Étape 3 - Optimisation et évaluation des modèles de Machine Learning\n",
        "\n",
        "- Tests et comparaison des différents modèles, des plus simples aux plus complexes.\n",
        "- Utilisation des techniques pour gérer le déséquilibre des classes.\n",
        "- Maîtrise de l’utilisation des pipelines scikit learn pour l’optimisation et l’évaluation des modèles.\n",
        "\n",
        "Recommandations :\n",
        "- Utilisez la **Cross-Validation** pour évaluer les performances des modèles de manière robuste.\n",
        "- Explorez **différentes valeurs d'hyper paramètres** pour obtenir des modèles performants à l’aide de **Grid Search**.\n",
        "- Synthétisez vos résultats (tableau comparatif + courbe ROC)\n",
        "\n",
        "Ressources :\n",
        "- https://scikit-learn.org/stable/modules/generated/sklearn.pipeline.Pipeline.html\n",
        "- https://imbalanced-learn.org/stable/"
      ],
      "metadata": {
        "id": "uUchRY3Veftg"
      }
    },
    {
      "cell_type": "code",
      "source": [],
      "metadata": {
        "id": "39HobhaeegR2"
      },
      "execution_count": null,
      "outputs": []
    },
    {
      "cell_type": "markdown",
      "source": [
        "## Étape 4 - Développez un module d’explicabilité de votre modèle de Machine Learning\n",
        "\n",
        ">  Analyse de l’importance des variables globale au modèle, mais également locale pour un client donné.\n",
        "\n",
        "- Utilisation des librairies spécialisées pour calculer la **feature importance** globale et locale.\n",
        "- Informations fournies pour expliquer les prédictions du modèle aux chargés d'étude.\n",
        "\n",
        "Ressources\n",
        "\n",
        "- Utilisez les librairies SHAP ou LIME pour comprendre et mettre en œuvre l'analyse de la feature importance.\n",
        "\n",
        "SHAP (Shapley Additive exPlanations) : Cette méthode attribue une valeur SHAP à chaque caractéristique pour chaque observation, permettant d'expliquer les prédictions individuelles.\n",
        "\n",
        "**Documentation** :\n",
        "- https://towardsdatascience.com/interpretability-in-machine-learning-70c30694a05f\n",
        "- https://christophm.github.io/interpretable-ml-book/\n",
        "- https://www.aquiladata.fr/insights/interpretabilite-des-modeles-de-machine-learning/\n",
        "- https://datacorner.fr/feature-importance/\n",
        "\n",
        "---\n",
        "\n",
        "\n",
        "**Gemini**\n",
        "\n",
        "**Comprendre l'importance des variables dans un modèle de machine learning est crucial pour plusieurs raisons :**\n",
        "\n",
        "* **Interprétation du modèle :** Cela permet de comprendre quelles caractéristiques influencent le plus les prédictions.\n",
        "* **Sélection de variables :** Identifier les variables les plus pertinentes pour réduire la complexité du modèle et améliorer ses performances.\n",
        "* **Amélioration des performances :** En se concentrant sur les variables les plus importantes, on peut affiner les algorithmes et les hyperparamètres.\n",
        "\n",
        "**Plusieurs méthodes permettent d'évaluer l'importance des variables :**\n",
        "\n",
        "### Méthodes intrinsèques aux algorithmes\n",
        "\n",
        "* **Coefficients dans les modèles linéaires :** L'amplitude et le signe des coefficients indiquent l'impact de chaque variable sur la variable cible.\n",
        "* **Importance des variables dans les arbres de décision :** Les algorithmes comme Random Forest ou XGBoost attribuent un score d'importance à chaque variable en fonction de sa contribution à la réduction de l'impureté dans les nœuds de l'arbre.\n",
        "* **SHAP (Shapley Additive exPlanations) :** Cette méthode attribue une valeur SHAP à chaque caractéristique pour chaque observation, permettant d'expliquer les prédictions individuelles.\n",
        "\n",
        "### Méthodes par permutation\n",
        "\n",
        "* **Permutation Importance :** On mesure la diminution de performance du modèle lorsqu'on permute aléatoirement les valeurs d'une variable donnée. Plus la baisse de performance est importante, plus la variable est considérée comme importante.\n",
        "\n",
        "### Choisir la bonne méthode\n",
        "\n",
        "Le choix de la méthode dépend de plusieurs facteurs :\n",
        "\n",
        "* **Nature du modèle :** Les méthodes intrinsèques sont plus adaptées à certains algorithmes (régression linéaire, arbres de décision).\n",
        "* **Type de données :** Les variables catégorielles et numériques peuvent être traitées différemment.\n",
        "* **Objectif de l'analyse :** Si l'objectif est d'expliquer les prédictions individuelles, SHAP est plus approprié. Pour une vue globale de l'importance des variables, la permutation importance peut être utilisée.\n",
        "\n",
        "\n",
        "**Visualisation des résultats**\n",
        "\n",
        "Pour une meilleure compréhension, il est recommandé de visualiser les résultats sous forme de graphiques (barplot, heatmap).\n",
        "\n",
        "**Points importants à retenir :**\n",
        "\n",
        "* **Corrélation entre variables :** Si deux variables sont fortement corrélées, il peut être difficile d'isoler leur effet individuel.\n",
        "* **Interprétation contextuelle :** L'importance d'une variable doit être interprétée dans le contexte du problème métier.\n",
        "* **Combinaison de méthodes :** Il est souvent utile de combiner plusieurs méthodes pour obtenir une vision plus complète de l'importance des variables.\n",
        "\n",
        "**En conclusion,** l'évaluation de l'importance des variables est une étape essentielle dans la construction et l'interprétation des modèles de machine learning. En choisissant les bonnes méthodes et en combinant les résultats, il est possible d'obtenir des insights précieux sur les données et d'améliorer la qualité des prédictions."
      ],
      "metadata": {
        "id": "81cjdnuze-hZ"
      }
    },
    {
      "cell_type": "code",
      "source": [],
      "metadata": {
        "id": "8NPWBubxfPwz"
      },
      "execution_count": null,
      "outputs": []
    }
  ]
}